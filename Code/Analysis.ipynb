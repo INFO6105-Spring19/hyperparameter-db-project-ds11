{
  "nbformat": 4,
  "nbformat_minor": 0,
  "metadata": {
    "colab": {
      "name": "Analysis.ipynb",
      "version": "0.3.2",
      "provenance": [],
      "collapsed_sections": [],
      "toc_visible": true
    },
    "kernelspec": {
      "name": "python3",
      "display_name": "Python 3"
    }
  },
  "cells": [
    {
      "metadata": {
        "id": "MQgReJJGUReF",
        "colab_type": "text"
      },
      "cell_type": "markdown",
      "source": [
        "# Analysis"
      ]
    },
    {
      "metadata": {
        "id": "r8GNFokJUNfK",
        "colab_type": "text"
      },
      "cell_type": "markdown",
      "source": [
        "## **Finding range of hyperparameters**"
      ]
    },
    {
      "metadata": {
        "id": "weI9tGTxUrOp",
        "colab_type": "text"
      },
      "cell_type": "markdown",
      "source": [
        "Aim is to find the range of hyperparamentes for every model generated for each runtime."
      ]
    },
    {
      "metadata": {
        "id": "NA8W0fL4VG-2",
        "colab_type": "text"
      },
      "cell_type": "markdown",
      "source": [
        "Installing h20"
      ]
    },
    {
      "metadata": {
        "id": "iLknWiZFgqOY",
        "colab_type": "code",
        "outputId": "39d7d163-6ca5-404d-875e-f0241550eee5",
        "colab": {
          "base_uri": "https://localhost:8080/",
          "height": 343
        }
      },
      "cell_type": "code",
      "source": [
        "!pip install h2o"
      ],
      "execution_count": 4,
      "outputs": [
        {
          "output_type": "stream",
          "text": [
            "Collecting h2o\n",
            "\u001b[?25l  Downloading https://files.pythonhosted.org/packages/37/41/78f43cbe3caf4e7ae5fa622c0dc2a5dba820319cd36aa7f96ed40fcb8271/h2o-3.24.0.2.tar.gz (121.0MB)\n",
            "\u001b[K    100% |████████████████████████████████| 121.0MB 200kB/s \n",
            "\u001b[?25hRequirement already satisfied: requests in /usr/local/lib/python3.6/dist-packages (from h2o) (2.21.0)\n",
            "Requirement already satisfied: tabulate in /usr/local/lib/python3.6/dist-packages (from h2o) (0.8.3)\n",
            "Requirement already satisfied: future in /usr/local/lib/python3.6/dist-packages (from h2o) (0.16.0)\n",
            "Collecting colorama>=0.3.8 (from h2o)\n",
            "  Downloading https://files.pythonhosted.org/packages/4f/a6/728666f39bfff1719fc94c481890b2106837da9318031f71a8424b662e12/colorama-0.4.1-py2.py3-none-any.whl\n",
            "Requirement already satisfied: certifi>=2017.4.17 in /usr/local/lib/python3.6/dist-packages (from requests->h2o) (2019.3.9)\n",
            "Requirement already satisfied: urllib3<1.25,>=1.21.1 in /usr/local/lib/python3.6/dist-packages (from requests->h2o) (1.24.2)\n",
            "Requirement already satisfied: chardet<3.1.0,>=3.0.2 in /usr/local/lib/python3.6/dist-packages (from requests->h2o) (3.0.4)\n",
            "Requirement already satisfied: idna<2.9,>=2.5 in /usr/local/lib/python3.6/dist-packages (from requests->h2o) (2.8)\n",
            "Building wheels for collected packages: h2o\n",
            "  Building wheel for h2o (setup.py) ... \u001b[?25ldone\n",
            "\u001b[?25h  Stored in directory: /root/.cache/pip/wheels/e9/92/d1/61cddd17defd8ba2a10400d2b3adf917377769610d904c279d\n",
            "Successfully built h2o\n",
            "Installing collected packages: colorama, h2o\n",
            "Successfully installed colorama-0.4.1 h2o-3.24.0.2\n"
          ],
          "name": "stdout"
        }
      ]
    },
    {
      "metadata": {
        "id": "YErB0pKuVJ2f",
        "colab_type": "text"
      },
      "cell_type": "markdown",
      "source": [
        "Importing h2o and H2oAutoML libraries."
      ]
    },
    {
      "metadata": {
        "id": "T6DYu0z5gtUr",
        "colab_type": "code",
        "outputId": "8bad77d8-162c-4c96-9328-94e35cb8dc47",
        "colab": {
          "base_uri": "https://localhost:8080/",
          "height": 596
        }
      },
      "cell_type": "code",
      "source": [
        "import h2o\n",
        "from h2o.automl import H2OAutoML\n",
        "import json\n",
        "h2o.init()"
      ],
      "execution_count": 5,
      "outputs": [
        {
          "output_type": "stream",
          "text": [
            "Checking whether there is an H2O instance running at http://localhost:54321 ..... not found.\n",
            "Attempting to start a local H2O server...\n",
            "  Java Version: openjdk version \"10.0.2\" 2018-07-17; OpenJDK Runtime Environment (build 10.0.2+13-Ubuntu-1ubuntu0.18.04.4); OpenJDK 64-Bit Server VM (build 10.0.2+13-Ubuntu-1ubuntu0.18.04.4, mixed mode)\n",
            "  Starting server from /usr/local/lib/python3.6/dist-packages/h2o/backend/bin/h2o.jar\n",
            "  Ice root: /tmp/tmpr33jc8cm\n",
            "  JVM stdout: /tmp/tmpr33jc8cm/h2o_unknownUser_started_from_python.out\n",
            "  JVM stderr: /tmp/tmpr33jc8cm/h2o_unknownUser_started_from_python.err\n",
            "  Server is running at http://127.0.0.1:54321\n",
            "Connecting to H2O server at http://127.0.0.1:54321 ... successful.\n"
          ],
          "name": "stdout"
        },
        {
          "output_type": "display_data",
          "data": {
            "text/html": [
              "<div style=\"overflow:auto\"><table style=\"width:50%\"><tr><td>H2O cluster uptime:</td>\n",
              "<td>02 secs</td></tr>\n",
              "<tr><td>H2O cluster timezone:</td>\n",
              "<td>Etc/UTC</td></tr>\n",
              "<tr><td>H2O data parsing timezone:</td>\n",
              "<td>UTC</td></tr>\n",
              "<tr><td>H2O cluster version:</td>\n",
              "<td>3.24.0.2</td></tr>\n",
              "<tr><td>H2O cluster version age:</td>\n",
              "<td>9 days </td></tr>\n",
              "<tr><td>H2O cluster name:</td>\n",
              "<td>H2O_from_python_unknownUser_qdc269</td></tr>\n",
              "<tr><td>H2O cluster total nodes:</td>\n",
              "<td>1</td></tr>\n",
              "<tr><td>H2O cluster free memory:</td>\n",
              "<td>3 Gb</td></tr>\n",
              "<tr><td>H2O cluster total cores:</td>\n",
              "<td>2</td></tr>\n",
              "<tr><td>H2O cluster allowed cores:</td>\n",
              "<td>2</td></tr>\n",
              "<tr><td>H2O cluster status:</td>\n",
              "<td>accepting new members, healthy</td></tr>\n",
              "<tr><td>H2O connection url:</td>\n",
              "<td>http://127.0.0.1:54321</td></tr>\n",
              "<tr><td>H2O connection proxy:</td>\n",
              "<td>None</td></tr>\n",
              "<tr><td>H2O internal security:</td>\n",
              "<td>False</td></tr>\n",
              "<tr><td>H2O API Extensions:</td>\n",
              "<td>Amazon S3, XGBoost, Algos, AutoML, Core V3, Core V4</td></tr>\n",
              "<tr><td>Python version:</td>\n",
              "<td>3.6.7 final</td></tr></table></div>"
            ],
            "text/plain": [
              "--------------------------  ---------------------------------------------------\n",
              "H2O cluster uptime:         02 secs\n",
              "H2O cluster timezone:       Etc/UTC\n",
              "H2O data parsing timezone:  UTC\n",
              "H2O cluster version:        3.24.0.2\n",
              "H2O cluster version age:    9 days\n",
              "H2O cluster name:           H2O_from_python_unknownUser_qdc269\n",
              "H2O cluster total nodes:    1\n",
              "H2O cluster free memory:    3 Gb\n",
              "H2O cluster total cores:    2\n",
              "H2O cluster allowed cores:  2\n",
              "H2O cluster status:         accepting new members, healthy\n",
              "H2O connection url:         http://127.0.0.1:54321\n",
              "H2O connection proxy:\n",
              "H2O internal security:      False\n",
              "H2O API Extensions:         Amazon S3, XGBoost, Algos, AutoML, Core V3, Core V4\n",
              "Python version:             3.6.7 final\n",
              "--------------------------  ---------------------------------------------------"
            ]
          },
          "metadata": {
            "tags": []
          }
        }
      ]
    },
    {
      "metadata": {
        "id": "L7EPqfNbVTHz",
        "colab_type": "text"
      },
      "cell_type": "markdown",
      "source": [
        "Importing numpy and pandas libraries."
      ]
    },
    {
      "metadata": {
        "id": "NIZhzn-eYvuV",
        "colab_type": "code",
        "colab": {}
      },
      "cell_type": "code",
      "source": [
        "import numpy as np\n",
        "import pandas as pd"
      ],
      "execution_count": 0,
      "outputs": []
    },
    {
      "metadata": {
        "id": "IkD7iySFVXrK",
        "colab_type": "text"
      },
      "cell_type": "markdown",
      "source": [
        "**For XRT:**importing csv files into the dataframe."
      ]
    },
    {
      "metadata": {
        "id": "7aBEXTAepBfc",
        "colab_type": "code",
        "outputId": "541efe76-e354-488f-baef-b168922a48cd",
        "colab": {
          "base_uri": "https://localhost:8080/",
          "height": 34
        }
      },
      "cell_type": "code",
      "source": [
        "df_xrt = h2o.import_file(\"XRT.csv - Sheet1.csv\")"
      ],
      "execution_count": 0,
      "outputs": [
        {
          "output_type": "stream",
          "text": [
            "Parse progress: |█████████████████████████████████████████████████████████| 100%\n"
          ],
          "name": "stdout"
        }
      ]
    },
    {
      "metadata": {
        "id": "9yWlmQSlVpgt",
        "colab_type": "text"
      },
      "cell_type": "markdown",
      "source": [
        "Printing 5 rows of the dataframe."
      ]
    },
    {
      "metadata": {
        "id": "3wnaPVxepCWb",
        "colab_type": "code",
        "outputId": "a5c165a2-c915-4661-d348-917d0f155268",
        "colab": {
          "base_uri": "https://localhost:8080/",
          "height": 270
        }
      },
      "cell_type": "code",
      "source": [
        "\n",
        "df_xrt.head()"
      ],
      "execution_count": 0,
      "outputs": [
        {
          "output_type": "display_data",
          "data": {
            "text/html": [
              "<table>\n",
              "<thead>\n",
              "<tr><th>model_id                    </th><th style=\"text-align: right;\">  stopping_rounds</th><th style=\"text-align: right;\">  max_runtime_secs</th><th style=\"text-align: right;\">  stopping_tolerance</th><th style=\"text-align: right;\">  max_after_balance_size</th><th style=\"text-align: right;\">  ntrees</th><th style=\"text-align: right;\">  max_depth</th><th style=\"text-align: right;\">  min_rows</th><th style=\"text-align: right;\">  nbins</th><th style=\"text-align: right;\">  nbins_top_level</th><th style=\"text-align: right;\">  nbins_cats</th><th style=\"text-align: right;\">        seed</th><th style=\"text-align: right;\">  sample_rate</th><th style=\"text-align: right;\">  col_sample_rate_per_tree</th><th style=\"text-align: right;\">  col_sample_rate_change_per_level</th><th style=\"text-align: right;\">  min_split_improvement</th><th style=\"text-align: right;\">  mtries</th></tr>\n",
              "</thead>\n",
              "<tbody>\n",
              "<tr><td>XRT_1_AutoML_20190421_232600</td><td style=\"text-align: right;\">                0</td><td style=\"text-align: right;\">                 0</td><td style=\"text-align: right;\">          0.00809803</td><td style=\"text-align: right;\">                       5</td><td style=\"text-align: right;\">      50</td><td style=\"text-align: right;\">         20</td><td style=\"text-align: right;\">         1</td><td style=\"text-align: right;\">     20</td><td style=\"text-align: right;\">             1024</td><td style=\"text-align: right;\">        1024</td><td style=\"text-align: right;\">-1.63149e+18</td><td style=\"text-align: right;\">        0.632</td><td style=\"text-align: right;\">                         1</td><td style=\"text-align: right;\">                                 1</td><td style=\"text-align: right;\">                  1e-05</td><td style=\"text-align: right;\">      -1</td></tr>\n",
              "<tr><td>XRT_1_AutoML_20190421_232600</td><td style=\"text-align: right;\">                0</td><td style=\"text-align: right;\">                 0</td><td style=\"text-align: right;\">          0.00809803</td><td style=\"text-align: right;\">                       5</td><td style=\"text-align: right;\">      50</td><td style=\"text-align: right;\">         20</td><td style=\"text-align: right;\">         1</td><td style=\"text-align: right;\">     20</td><td style=\"text-align: right;\">             1024</td><td style=\"text-align: right;\">        1024</td><td style=\"text-align: right;\">-1.63149e+18</td><td style=\"text-align: right;\">        0.632</td><td style=\"text-align: right;\">                         1</td><td style=\"text-align: right;\">                                 1</td><td style=\"text-align: right;\">                  1e-05</td><td style=\"text-align: right;\">      -1</td></tr>\n",
              "<tr><td>XRT_1_AutoML_20190421_232600</td><td style=\"text-align: right;\">                0</td><td style=\"text-align: right;\">                 0</td><td style=\"text-align: right;\">          0.00809803</td><td style=\"text-align: right;\">                       5</td><td style=\"text-align: right;\">      50</td><td style=\"text-align: right;\">         20</td><td style=\"text-align: right;\">         1</td><td style=\"text-align: right;\">     20</td><td style=\"text-align: right;\">             1024</td><td style=\"text-align: right;\">        1024</td><td style=\"text-align: right;\">-1.63149e+18</td><td style=\"text-align: right;\">        0.632</td><td style=\"text-align: right;\">                         1</td><td style=\"text-align: right;\">                                 1</td><td style=\"text-align: right;\">                  1e-05</td><td style=\"text-align: right;\">      -1</td></tr>\n",
              "<tr><td>XRT_1_AutoML_20190421_232600</td><td style=\"text-align: right;\">                0</td><td style=\"text-align: right;\">                 0</td><td style=\"text-align: right;\">          0.00809803</td><td style=\"text-align: right;\">                       5</td><td style=\"text-align: right;\">      50</td><td style=\"text-align: right;\">         20</td><td style=\"text-align: right;\">         1</td><td style=\"text-align: right;\">     20</td><td style=\"text-align: right;\">             1024</td><td style=\"text-align: right;\">        1024</td><td style=\"text-align: right;\">-1.63149e+18</td><td style=\"text-align: right;\">        0.632</td><td style=\"text-align: right;\">                         1</td><td style=\"text-align: right;\">                                 1</td><td style=\"text-align: right;\">                  1e-05</td><td style=\"text-align: right;\">      -1</td></tr>\n",
              "<tr><td>XRT_1_AutoML_20190421_232600</td><td style=\"text-align: right;\">                0</td><td style=\"text-align: right;\">                 0</td><td style=\"text-align: right;\">          0.00809803</td><td style=\"text-align: right;\">                       5</td><td style=\"text-align: right;\">      50</td><td style=\"text-align: right;\">         20</td><td style=\"text-align: right;\">         1</td><td style=\"text-align: right;\">     20</td><td style=\"text-align: right;\">             1024</td><td style=\"text-align: right;\">        1024</td><td style=\"text-align: right;\">-1.63149e+18</td><td style=\"text-align: right;\">        0.632</td><td style=\"text-align: right;\">                         1</td><td style=\"text-align: right;\">                                 1</td><td style=\"text-align: right;\">                  1e-05</td><td style=\"text-align: right;\">      -1</td></tr>\n",
              "<tr><td>XRT_1_AutoML_20190421_233433</td><td style=\"text-align: right;\">                0</td><td style=\"text-align: right;\">                 0</td><td style=\"text-align: right;\">          0.00809803</td><td style=\"text-align: right;\">                       5</td><td style=\"text-align: right;\">      48</td><td style=\"text-align: right;\">         20</td><td style=\"text-align: right;\">         1</td><td style=\"text-align: right;\">     20</td><td style=\"text-align: right;\">             1024</td><td style=\"text-align: right;\">        1024</td><td style=\"text-align: right;\"> 3.87543e+18</td><td style=\"text-align: right;\">        0.632</td><td style=\"text-align: right;\">                         1</td><td style=\"text-align: right;\">                                 1</td><td style=\"text-align: right;\">                  1e-05</td><td style=\"text-align: right;\">      -1</td></tr>\n",
              "<tr><td>XRT_1_AutoML_20190421_233433</td><td style=\"text-align: right;\">                0</td><td style=\"text-align: right;\">                 0</td><td style=\"text-align: right;\">          0.00809803</td><td style=\"text-align: right;\">                       5</td><td style=\"text-align: right;\">      48</td><td style=\"text-align: right;\">         20</td><td style=\"text-align: right;\">         1</td><td style=\"text-align: right;\">     20</td><td style=\"text-align: right;\">             1024</td><td style=\"text-align: right;\">        1024</td><td style=\"text-align: right;\"> 3.87543e+18</td><td style=\"text-align: right;\">        0.632</td><td style=\"text-align: right;\">                         1</td><td style=\"text-align: right;\">                                 1</td><td style=\"text-align: right;\">                  1e-05</td><td style=\"text-align: right;\">      -1</td></tr>\n",
              "<tr><td>XRT_1_AutoML_20190421_233433</td><td style=\"text-align: right;\">                0</td><td style=\"text-align: right;\">                 0</td><td style=\"text-align: right;\">          0.00809803</td><td style=\"text-align: right;\">                       5</td><td style=\"text-align: right;\">      48</td><td style=\"text-align: right;\">         20</td><td style=\"text-align: right;\">         1</td><td style=\"text-align: right;\">     20</td><td style=\"text-align: right;\">             1024</td><td style=\"text-align: right;\">        1024</td><td style=\"text-align: right;\"> 3.87543e+18</td><td style=\"text-align: right;\">        0.632</td><td style=\"text-align: right;\">                         1</td><td style=\"text-align: right;\">                                 1</td><td style=\"text-align: right;\">                  1e-05</td><td style=\"text-align: right;\">      -1</td></tr>\n",
              "<tr><td>XRT_1_AutoML_20190421_233433</td><td style=\"text-align: right;\">                0</td><td style=\"text-align: right;\">                 0</td><td style=\"text-align: right;\">          0.00809803</td><td style=\"text-align: right;\">                       5</td><td style=\"text-align: right;\">      48</td><td style=\"text-align: right;\">         20</td><td style=\"text-align: right;\">         1</td><td style=\"text-align: right;\">     20</td><td style=\"text-align: right;\">             1024</td><td style=\"text-align: right;\">        1024</td><td style=\"text-align: right;\"> 3.87543e+18</td><td style=\"text-align: right;\">        0.632</td><td style=\"text-align: right;\">                         1</td><td style=\"text-align: right;\">                                 1</td><td style=\"text-align: right;\">                  1e-05</td><td style=\"text-align: right;\">      -1</td></tr>\n",
              "<tr><td>XRT_1_AutoML_20190421_234613</td><td style=\"text-align: right;\">                0</td><td style=\"text-align: right;\">                 0</td><td style=\"text-align: right;\">          0.00809803</td><td style=\"text-align: right;\">                       5</td><td style=\"text-align: right;\">      45</td><td style=\"text-align: right;\">         20</td><td style=\"text-align: right;\">         1</td><td style=\"text-align: right;\">     20</td><td style=\"text-align: right;\">             1024</td><td style=\"text-align: right;\">        1024</td><td style=\"text-align: right;\">-6.72243e+18</td><td style=\"text-align: right;\">        0.632</td><td style=\"text-align: right;\">                         1</td><td style=\"text-align: right;\">                                 1</td><td style=\"text-align: right;\">                  1e-05</td><td style=\"text-align: right;\">      -1</td></tr>\n",
              "</tbody>\n",
              "</table>"
            ]
          },
          "metadata": {
            "tags": []
          }
        },
        {
          "output_type": "execute_result",
          "data": {
            "text/plain": [
              ""
            ]
          },
          "metadata": {
            "tags": []
          },
          "execution_count": 20
        }
      ]
    },
    {
      "metadata": {
        "id": "sVuDOI4zVt2M",
        "colab_type": "text"
      },
      "cell_type": "markdown",
      "source": [
        "Finding the min and max value for each column for integer and real values."
      ]
    },
    {
      "metadata": {
        "id": "HNqIybUIpKN_",
        "colab_type": "code",
        "outputId": "7985ec18-aac2-4ae6-8194-4769b93be115",
        "colab": {
          "base_uri": "https://localhost:8080/",
          "height": 306
        }
      },
      "cell_type": "code",
      "source": [
        "ranges = []\n",
        "for key,val in df_xrt.types.items():\n",
        "   print(key,val)\n",
        "   if val == 'int':\n",
        "        ranges.append([key,[df_xrt[key].min(),df_xrt[key].max()]])\n",
        "   if val == 'real':\n",
        "        ranges.append([key,[df_xrt[key].min(),df_xrt[key].max()]])"
      ],
      "execution_count": 0,
      "outputs": [
        {
          "output_type": "stream",
          "text": [
            "model_id enum\n",
            "stopping_rounds int\n",
            "max_runtime_secs int\n",
            "stopping_tolerance real\n",
            "max_after_balance_size int\n",
            "ntrees int\n",
            "max_depth int\n",
            "min_rows int\n",
            "nbins int\n",
            "nbins_top_level int\n",
            "nbins_cats int\n",
            "seed int\n",
            "sample_rate real\n",
            "col_sample_rate_per_tree int\n",
            "col_sample_rate_change_per_level int\n",
            "min_split_improvement real\n",
            "mtries int\n"
          ],
          "name": "stdout"
        }
      ]
    },
    {
      "metadata": {
        "id": "Q63EDElmV48q",
        "colab_type": "text"
      },
      "cell_type": "markdown",
      "source": [
        "Printing the datatype for each column."
      ]
    },
    {
      "metadata": {
        "id": "YUL3X1mMpMa_",
        "colab_type": "code",
        "outputId": "06fbfaf5-3291-4e8e-e7fa-ae7cadc6e1aa",
        "colab": {
          "base_uri": "https://localhost:8080/",
          "height": 323
        }
      },
      "cell_type": "code",
      "source": [
        "df_gbm.dtypes"
      ],
      "execution_count": 0,
      "outputs": [
        {
          "output_type": "execute_result",
          "data": {
            "text/plain": [
              "model_id                            object\n",
              "stopping_rounds                      int64\n",
              "max_runtime_secs                     int64\n",
              "stopping_tolerance                  object\n",
              "max_after_balance_size               int64\n",
              "ntrees                               int64\n",
              "max_depth                            int64\n",
              "min_rows                             int64\n",
              "nbins                                int64\n",
              "nbins_top_level                      int64\n",
              "nbins_cats                           int64\n",
              "seed                                object\n",
              "sample_rate                         object\n",
              "col_sample_rate_per_tree            object\n",
              "col_sample_rate_change_per_level    object\n",
              "min_split_improvement               object\n",
              "mtries                               int64\n",
              "dtype: object"
            ]
          },
          "metadata": {
            "tags": []
          },
          "execution_count": 23
        }
      ]
    },
    {
      "metadata": {
        "id": "Ef7lde7KV_4O",
        "colab_type": "text"
      },
      "cell_type": "markdown",
      "source": [
        "Range of each hyperparameter."
      ]
    },
    {
      "metadata": {
        "id": "ETNh9YxChAhv",
        "colab_type": "code",
        "outputId": "c0ccfed7-e199-4d52-83b7-0bf6f3d5123a",
        "colab": {
          "base_uri": "https://localhost:8080/",
          "height": 289
        }
      },
      "cell_type": "code",
      "source": [
        "ranges"
      ],
      "execution_count": 0,
      "outputs": [
        {
          "output_type": "execute_result",
          "data": {
            "text/plain": [
              "[['stopping_rounds', [0.0, 0.0]],\n",
              " ['max_runtime_secs', [0.0, 0.0]],\n",
              " ['stopping_tolerance', [0.008098029, 0.008098029]],\n",
              " ['max_after_balance_size', [5.0, 5.0]],\n",
              " ['ntrees', [43.0, 50.0]],\n",
              " ['max_depth', [20.0, 20.0]],\n",
              " ['min_rows', [1.0, 1.0]],\n",
              " ['nbins', [20.0, 20.0]],\n",
              " ['nbins_top_level', [1024.0, 1024.0]],\n",
              " ['nbins_cats', [1024.0, 1024.0]],\n",
              " ['seed', [-6.72243e+18, 6.359377122478104e+18]],\n",
              " ['sample_rate', [0.632, 0.632000029]],\n",
              " ['col_sample_rate_per_tree', [1.0, 1.0]],\n",
              " ['col_sample_rate_change_per_level', [1.0, 1.0]],\n",
              " ['min_split_improvement', [1e-05, 1e-05]],\n",
              " ['mtries', [-1.0, -1.0]]]"
            ]
          },
          "metadata": {
            "tags": []
          },
          "execution_count": 25
        }
      ]
    },
    {
      "metadata": {
        "id": "tfflBo98VjqZ",
        "colab_type": "text"
      },
      "cell_type": "markdown",
      "source": [
        "**For GBM:**importing csv files into the dataframe."
      ]
    },
    {
      "metadata": {
        "id": "zaBxUI4nhGci",
        "colab_type": "code",
        "outputId": "3c3ea42e-68e3-4625-cf5e-1b42d8c0494f",
        "colab": {
          "base_uri": "https://localhost:8080/",
          "height": 34
        }
      },
      "cell_type": "code",
      "source": [
        "df_gbm = h2o.import_file(\"GBM.csv\")"
      ],
      "execution_count": 0,
      "outputs": [
        {
          "output_type": "stream",
          "text": [
            "Parse progress: |█████████████████████████████████████████████████████████| 100%\n"
          ],
          "name": "stdout"
        }
      ]
    },
    {
      "metadata": {
        "id": "gwyiKCDl9W47",
        "colab_type": "code",
        "colab": {}
      },
      "cell_type": "code",
      "source": [
        ""
      ],
      "execution_count": 0,
      "outputs": []
    },
    {
      "metadata": {
        "id": "inFogsgniKr6",
        "colab_type": "code",
        "outputId": "b85ef96e-b07a-4527-9ba5-4042e076c35d",
        "colab": {
          "base_uri": "https://localhost:8080/",
          "height": 250
        }
      },
      "cell_type": "code",
      "source": [
        "df_gbm.head()"
      ],
      "execution_count": 0,
      "outputs": [
        {
          "output_type": "display_data",
          "data": {
            "text/html": [
              "<table>\n",
              "<thead>\n",
              "<tr><th>model_id                    </th><th style=\"text-align: right;\">  max_runtime_secs</th><th style=\"text-align: right;\">  max_after_balance_size</th><th style=\"text-align: right;\">        seed</th></tr>\n",
              "</thead>\n",
              "<tbody>\n",
              "<tr><td>GBM_4_AutoML_20190421_233433</td><td style=\"text-align: right;\">                 5</td><td style=\"text-align: right;\">                       0</td><td style=\"text-align: right;\">-7.13e+18   </td></tr>\n",
              "<tr><td>GBM_2_AutoML_20190421_232600</td><td style=\"text-align: right;\">                 5</td><td style=\"text-align: right;\">                       0</td><td style=\"text-align: right;\">-3.52063e+18</td></tr>\n",
              "<tr><td>GBM_1_AutoML_20190421_233433</td><td style=\"text-align: right;\">                 5</td><td style=\"text-align: right;\">                       0</td><td style=\"text-align: right;\">-7.12673e+18</td></tr>\n",
              "<tr><td>GBM_2_AutoML_20190421_233433</td><td style=\"text-align: right;\">                 5</td><td style=\"text-align: right;\">                       0</td><td style=\"text-align: right;\">-7.12673e+18</td></tr>\n",
              "<tr><td>GBM_3_AutoML_20190421_234613</td><td style=\"text-align: right;\">                 5</td><td style=\"text-align: right;\">                       0</td><td style=\"text-align: right;\"> 7.83787e+18</td></tr>\n",
              "<tr><td>GBM_1_AutoML_20190421_234613</td><td style=\"text-align: right;\">                 5</td><td style=\"text-align: right;\">                       0</td><td style=\"text-align: right;\"> 7.83787e+18</td></tr>\n",
              "<tr><td>GBM_4_AutoML_20190421_234613</td><td style=\"text-align: right;\">                 5</td><td style=\"text-align: right;\">                       0</td><td style=\"text-align: right;\"> 7.83787e+18</td></tr>\n",
              "<tr><td>GBM_1_AutoML_20190421_232600</td><td style=\"text-align: right;\">                 5</td><td style=\"text-align: right;\">                       0</td><td style=\"text-align: right;\">-3.52063e+18</td></tr>\n",
              "<tr><td>GBM_2_AutoML_20190421_234613</td><td style=\"text-align: right;\">                 5</td><td style=\"text-align: right;\">                       0</td><td style=\"text-align: right;\"> 7.83787e+18</td></tr>\n",
              "<tr><td>GBM_3_AutoML_20190421_233433</td><td style=\"text-align: right;\">                 5</td><td style=\"text-align: right;\">                       0</td><td style=\"text-align: right;\">-7.12673e+18</td></tr>\n",
              "</tbody>\n",
              "</table>"
            ]
          },
          "metadata": {
            "tags": []
          }
        },
        {
          "output_type": "execute_result",
          "data": {
            "text/plain": [
              ""
            ]
          },
          "metadata": {
            "tags": []
          },
          "execution_count": 27
        }
      ]
    },
    {
      "metadata": {
        "id": "T3OFqn4Rw234",
        "colab_type": "text"
      },
      "cell_type": "markdown",
      "source": [
        "Finding the min and max value for each column for integer and real values."
      ]
    },
    {
      "metadata": {
        "id": "JBRIMK9eiPFF",
        "colab_type": "code",
        "outputId": "aac89fc1-206b-40ff-f4c6-5914086c497b",
        "colab": {
          "base_uri": "https://localhost:8080/",
          "height": 85
        }
      },
      "cell_type": "code",
      "source": [
        "ranges = []\n",
        "for key,val in df_gbm.types.items():\n",
        "   print(key,val)\n",
        "   if val == 'int':\n",
        "        ranges.append([key,[df_gbm[key].min(),df_gbm[key].max()]])\n",
        "   if val == 'real':\n",
        "        ranges.append([key,[df_gbm[key].min(),df_gbm[key].max()]])"
      ],
      "execution_count": 0,
      "outputs": [
        {
          "output_type": "stream",
          "text": [
            "model_id enum\n",
            "max_runtime_secs int\n",
            "max_after_balance_size int\n",
            "seed int\n"
          ],
          "name": "stdout"
        }
      ]
    },
    {
      "metadata": {
        "id": "J9bXSsl9wpzP",
        "colab_type": "text"
      },
      "cell_type": "markdown",
      "source": [
        "Range of each hyperparameter. "
      ]
    },
    {
      "metadata": {
        "id": "oJw4Ej2fiic8",
        "colab_type": "code",
        "outputId": "abfe8880-a35d-47c3-9cff-57cb6db8b67b",
        "colab": {
          "base_uri": "https://localhost:8080/",
          "height": 68
        }
      },
      "cell_type": "code",
      "source": [
        "ranges"
      ],
      "execution_count": 0,
      "outputs": [
        {
          "output_type": "execute_result",
          "data": {
            "text/plain": [
              "[['max_runtime_secs', [5.0, 5.0]],\n",
              " ['max_after_balance_size', [0.0, 0.0]],\n",
              " ['seed', [-8.27849e+18, 7.83787362635869e+18]]]"
            ]
          },
          "metadata": {
            "tags": []
          },
          "execution_count": 29
        }
      ]
    },
    {
      "metadata": {
        "id": "NRwCeZNCWKaJ",
        "colab_type": "text"
      },
      "cell_type": "markdown",
      "source": [
        "**For Deeplearning:**importing csv files into the dataframe."
      ]
    },
    {
      "metadata": {
        "id": "EKP5mQKHillM",
        "colab_type": "code",
        "outputId": "74aa5bd7-8faa-4bdd-ae8e-dac749548c8b",
        "colab": {
          "base_uri": "https://localhost:8080/",
          "height": 34
        }
      },
      "cell_type": "code",
      "source": [
        "df_dl = h2o.import_file(\"DL.csv\")"
      ],
      "execution_count": 0,
      "outputs": [
        {
          "output_type": "stream",
          "text": [
            "Parse progress: |█████████████████████████████████████████████████████████| 100%\n"
          ],
          "name": "stdout"
        }
      ]
    },
    {
      "metadata": {
        "id": "ZSK1s3_0qZQm",
        "colab_type": "code",
        "outputId": "d3dfaea9-2e6e-4e4f-a3e0-f84cd9d80481",
        "colab": {
          "base_uri": "https://localhost:8080/",
          "height": 270
        }
      },
      "cell_type": "code",
      "source": [
        "df_dl.head()"
      ],
      "execution_count": 0,
      "outputs": [
        {
          "output_type": "display_data",
          "data": {
            "text/html": [
              "<table>\n",
              "<thead>\n",
              "<tr><th>model_id                                          </th><th style=\"text-align: right;\">  stopping_rounds</th><th style=\"text-align: right;\">  max_runtime_secs</th><th style=\"text-align: right;\">  stopping_tolerance</th><th style=\"text-align: right;\">  max_after_balance_size</th><th style=\"text-align: right;\">        seed</th><th style=\"text-align: right;\">  tweedie_power</th><th style=\"text-align: right;\">  quantile_alpha</th><th style=\"text-align: right;\">  huber_alpha</th><th style=\"text-align: right;\">   epochs</th><th style=\"text-align: right;\">  train_samples_per_iteration</th><th style=\"text-align: right;\">  target_ratio_comm_to_comp</th><th style=\"text-align: right;\">  rho</th><th style=\"text-align: right;\">  epsilon</th><th style=\"text-align: right;\">  rate</th><th style=\"text-align: right;\">  rate_decay</th><th style=\"text-align: right;\">  momentum_start</th><th style=\"text-align: right;\">  momentum_ramp</th><th style=\"text-align: right;\">  momentum_stable</th><th style=\"text-align: right;\">  input_dropout_ratio</th><th style=\"text-align: right;\">  l1</th><th style=\"text-align: right;\">  l2</th><th style=\"text-align: right;\">  max_w2</th><th style=\"text-align: right;\">  initial_weight_scale</th><th style=\"text-align: right;\">  score_interval</th><th style=\"text-align: right;\">  score_training_samples</th><th style=\"text-align: right;\">  score_validation_samples</th><th style=\"text-align: right;\">  score_duty_cycle</th><th style=\"text-align: right;\">  classification_stop</th><th style=\"text-align: right;\">  regression_stop</th><th style=\"text-align: right;\">  average_activation</th><th style=\"text-align: right;\">  sparsity_beta</th><th style=\"text-align: right;\">  max_categorical_features</th><th style=\"text-align: right;\">  elastic_averaging_regularization</th></tr>\n",
              "</thead>\n",
              "<tbody>\n",
              "<tr><td>DeepLearning_1_AutoML_20190421_233433             </td><td style=\"text-align: right;\">                0</td><td style=\"text-align: right;\">                 0</td><td style=\"text-align: right;\">          0.00809803</td><td style=\"text-align: right;\">                       5</td><td style=\"text-align: right;\">-3.61794e+18</td><td style=\"text-align: right;\">            1.5</td><td style=\"text-align: right;\">             0.5</td><td style=\"text-align: right;\">          0.9</td><td style=\"text-align: right;\">10.3488  </td><td style=\"text-align: right;\">                           -2</td><td style=\"text-align: right;\">                       0.05</td><td style=\"text-align: right;\"> 0.99</td><td style=\"text-align: right;\">    1e-06</td><td style=\"text-align: right;\"> 0.005</td><td style=\"text-align: right;\">           1</td><td style=\"text-align: right;\">               0</td><td style=\"text-align: right;\">          1e+06</td><td style=\"text-align: right;\">                0</td><td style=\"text-align: right;\">                 0   </td><td style=\"text-align: right;\">   0</td><td style=\"text-align: right;\">   0</td><td style=\"text-align: right;\"> 3.4e+38</td><td style=\"text-align: right;\">                     1</td><td style=\"text-align: right;\">               5</td><td style=\"text-align: right;\">                   10000</td><td style=\"text-align: right;\">                         0</td><td style=\"text-align: right;\">               0.1</td><td style=\"text-align: right;\">                    0</td><td style=\"text-align: right;\">            1e-06</td><td style=\"text-align: right;\">                   0</td><td style=\"text-align: right;\">              0</td><td style=\"text-align: right;\">               2.14748e+09</td><td style=\"text-align: right;\">                             0.001</td></tr>\n",
              "<tr><td>DeepLearning_1_AutoML_20190421_232600             </td><td style=\"text-align: right;\">                0</td><td style=\"text-align: right;\">                 0</td><td style=\"text-align: right;\">          0.00809803</td><td style=\"text-align: right;\">                       5</td><td style=\"text-align: right;\"> 4.11e+18   </td><td style=\"text-align: right;\">            1.5</td><td style=\"text-align: right;\">             0.5</td><td style=\"text-align: right;\">          0.9</td><td style=\"text-align: right;\">10.3423  </td><td style=\"text-align: right;\">                           -2</td><td style=\"text-align: right;\">                       0.05</td><td style=\"text-align: right;\"> 0.99</td><td style=\"text-align: right;\">    1e-06</td><td style=\"text-align: right;\"> 0.005</td><td style=\"text-align: right;\">           1</td><td style=\"text-align: right;\">               0</td><td style=\"text-align: right;\">          1e+06</td><td style=\"text-align: right;\">                0</td><td style=\"text-align: right;\">                 0   </td><td style=\"text-align: right;\">   0</td><td style=\"text-align: right;\">   0</td><td style=\"text-align: right;\"> 3.4e+38</td><td style=\"text-align: right;\">                     1</td><td style=\"text-align: right;\">               5</td><td style=\"text-align: right;\">                   10000</td><td style=\"text-align: right;\">                         0</td><td style=\"text-align: right;\">               0.1</td><td style=\"text-align: right;\">                    0</td><td style=\"text-align: right;\">            1e-06</td><td style=\"text-align: right;\">                   0</td><td style=\"text-align: right;\">              0</td><td style=\"text-align: right;\">               2.14748e+09</td><td style=\"text-align: right;\">                             0.001</td></tr>\n",
              "<tr><td>DeepLearning_1_AutoML_20190421_234613             </td><td style=\"text-align: right;\">                0</td><td style=\"text-align: right;\">                 0</td><td style=\"text-align: right;\">          0.00809803</td><td style=\"text-align: right;\">                       5</td><td style=\"text-align: right;\"> 1.95657e+18</td><td style=\"text-align: right;\">            1.5</td><td style=\"text-align: right;\">             0.5</td><td style=\"text-align: right;\">          0.9</td><td style=\"text-align: right;\">10.3546  </td><td style=\"text-align: right;\">                           -2</td><td style=\"text-align: right;\">                       0.05</td><td style=\"text-align: right;\"> 0.99</td><td style=\"text-align: right;\">    1e-06</td><td style=\"text-align: right;\"> 0.005</td><td style=\"text-align: right;\">           1</td><td style=\"text-align: right;\">               0</td><td style=\"text-align: right;\">          1e+06</td><td style=\"text-align: right;\">                0</td><td style=\"text-align: right;\">                 0   </td><td style=\"text-align: right;\">   0</td><td style=\"text-align: right;\">   0</td><td style=\"text-align: right;\"> 3.4e+38</td><td style=\"text-align: right;\">                     1</td><td style=\"text-align: right;\">               5</td><td style=\"text-align: right;\">                   10000</td><td style=\"text-align: right;\">                         0</td><td style=\"text-align: right;\">               0.1</td><td style=\"text-align: right;\">                    0</td><td style=\"text-align: right;\">            1e-06</td><td style=\"text-align: right;\">                   0</td><td style=\"text-align: right;\">              0</td><td style=\"text-align: right;\">               2.14748e+09</td><td style=\"text-align: right;\">                             0.001</td></tr>\n",
              "<tr><td>DeepLearning_grid_1_AutoML_20190421_233433_model_1</td><td style=\"text-align: right;\">                0</td><td style=\"text-align: right;\">                 0</td><td style=\"text-align: right;\">          0.00809803</td><td style=\"text-align: right;\">                       5</td><td style=\"text-align: right;\"> 1.05538e+18</td><td style=\"text-align: right;\">            1.5</td><td style=\"text-align: right;\">             0.5</td><td style=\"text-align: right;\">          0.9</td><td style=\"text-align: right;\"> 4.59518 </td><td style=\"text-align: right;\">                           -2</td><td style=\"text-align: right;\">                       0.05</td><td style=\"text-align: right;\"> 0.95</td><td style=\"text-align: right;\">    1e-06</td><td style=\"text-align: right;\"> 0.005</td><td style=\"text-align: right;\">           1</td><td style=\"text-align: right;\">               0</td><td style=\"text-align: right;\">          1e+06</td><td style=\"text-align: right;\">                0</td><td style=\"text-align: right;\">                 0.05</td><td style=\"text-align: right;\">   0</td><td style=\"text-align: right;\">   0</td><td style=\"text-align: right;\"> 3.4e+38</td><td style=\"text-align: right;\">                     1</td><td style=\"text-align: right;\">               5</td><td style=\"text-align: right;\">                   10000</td><td style=\"text-align: right;\">                         0</td><td style=\"text-align: right;\">               0.1</td><td style=\"text-align: right;\">                    0</td><td style=\"text-align: right;\">            1e-06</td><td style=\"text-align: right;\">                   0</td><td style=\"text-align: right;\">              0</td><td style=\"text-align: right;\">               2.14748e+09</td><td style=\"text-align: right;\">                             0.001</td></tr>\n",
              "<tr><td>DeepLearning_grid_1_AutoML_20190421_234613_model_2</td><td style=\"text-align: right;\">                0</td><td style=\"text-align: right;\">                 0</td><td style=\"text-align: right;\">          0.00809803</td><td style=\"text-align: right;\">                       5</td><td style=\"text-align: right;\"> 8.80576e+18</td><td style=\"text-align: right;\">            1.5</td><td style=\"text-align: right;\">             0.5</td><td style=\"text-align: right;\">          0.9</td><td style=\"text-align: right;\"> 0.47708 </td><td style=\"text-align: right;\">                           -2</td><td style=\"text-align: right;\">                       0.05</td><td style=\"text-align: right;\"> 0.99</td><td style=\"text-align: right;\">    1e-06</td><td style=\"text-align: right;\"> 0.005</td><td style=\"text-align: right;\">           1</td><td style=\"text-align: right;\">               0</td><td style=\"text-align: right;\">          1e+06</td><td style=\"text-align: right;\">                0</td><td style=\"text-align: right;\">                 0.15</td><td style=\"text-align: right;\">   0</td><td style=\"text-align: right;\">   0</td><td style=\"text-align: right;\"> 3.4e+38</td><td style=\"text-align: right;\">                     1</td><td style=\"text-align: right;\">               5</td><td style=\"text-align: right;\">                   10000</td><td style=\"text-align: right;\">                         0</td><td style=\"text-align: right;\">               0.1</td><td style=\"text-align: right;\">                    0</td><td style=\"text-align: right;\">            1e-06</td><td style=\"text-align: right;\">                   0</td><td style=\"text-align: right;\">              0</td><td style=\"text-align: right;\">               2.14748e+09</td><td style=\"text-align: right;\">                             0.001</td></tr>\n",
              "<tr><td>DeepLearning_grid_1_AutoML_20190421_232600_model_1</td><td style=\"text-align: right;\">                0</td><td style=\"text-align: right;\">                 0</td><td style=\"text-align: right;\">          0.00809803</td><td style=\"text-align: right;\">                       5</td><td style=\"text-align: right;\"> 6.01537e+18</td><td style=\"text-align: right;\">            1.5</td><td style=\"text-align: right;\">             0.5</td><td style=\"text-align: right;\">          0.9</td><td style=\"text-align: right;\"> 0.297593</td><td style=\"text-align: right;\">                           -2</td><td style=\"text-align: right;\">                       0.05</td><td style=\"text-align: right;\"> 0.9 </td><td style=\"text-align: right;\">    1e-06</td><td style=\"text-align: right;\"> 0.005</td><td style=\"text-align: right;\">           1</td><td style=\"text-align: right;\">               0</td><td style=\"text-align: right;\">          1e+06</td><td style=\"text-align: right;\">                0</td><td style=\"text-align: right;\">                 0.1 </td><td style=\"text-align: right;\">   0</td><td style=\"text-align: right;\">   0</td><td style=\"text-align: right;\"> 3.4e+38</td><td style=\"text-align: right;\">                     1</td><td style=\"text-align: right;\">               5</td><td style=\"text-align: right;\">                   10000</td><td style=\"text-align: right;\">                         0</td><td style=\"text-align: right;\">               0.1</td><td style=\"text-align: right;\">                    0</td><td style=\"text-align: right;\">            1e-06</td><td style=\"text-align: right;\">                   0</td><td style=\"text-align: right;\">              0</td><td style=\"text-align: right;\">               2.14748e+09</td><td style=\"text-align: right;\">                             0.001</td></tr>\n",
              "<tr><td>DeepLearning_grid_1_AutoML_20190421_233433_model_4</td><td style=\"text-align: right;\">                0</td><td style=\"text-align: right;\">                 0</td><td style=\"text-align: right;\">          0.00809803</td><td style=\"text-align: right;\">                       5</td><td style=\"text-align: right;\">-4.73713e+18</td><td style=\"text-align: right;\">            1.5</td><td style=\"text-align: right;\">             0.5</td><td style=\"text-align: right;\">          0.9</td><td style=\"text-align: right;\"> 0.360679</td><td style=\"text-align: right;\">                           -2</td><td style=\"text-align: right;\">                       0.05</td><td style=\"text-align: right;\"> 0.99</td><td style=\"text-align: right;\">    1e-06</td><td style=\"text-align: right;\"> 0.005</td><td style=\"text-align: right;\">           1</td><td style=\"text-align: right;\">               0</td><td style=\"text-align: right;\">          1e+06</td><td style=\"text-align: right;\">                0</td><td style=\"text-align: right;\">                 0.1 </td><td style=\"text-align: right;\">   0</td><td style=\"text-align: right;\">   0</td><td style=\"text-align: right;\"> 3.4e+38</td><td style=\"text-align: right;\">                     1</td><td style=\"text-align: right;\">               5</td><td style=\"text-align: right;\">                   10000</td><td style=\"text-align: right;\">                         0</td><td style=\"text-align: right;\">               0.1</td><td style=\"text-align: right;\">                    0</td><td style=\"text-align: right;\">            1e-06</td><td style=\"text-align: right;\">                   0</td><td style=\"text-align: right;\">              0</td><td style=\"text-align: right;\">               2.14748e+09</td><td style=\"text-align: right;\">                             0.001</td></tr>\n",
              "<tr><td>DeepLearning_grid_1_AutoML_20190421_233433_model_2</td><td style=\"text-align: right;\">                0</td><td style=\"text-align: right;\">                 0</td><td style=\"text-align: right;\">          0.00809803</td><td style=\"text-align: right;\">                       5</td><td style=\"text-align: right;\"> 1.59285e+18</td><td style=\"text-align: right;\">            1.5</td><td style=\"text-align: right;\">             0.5</td><td style=\"text-align: right;\">          0.9</td><td style=\"text-align: right;\"> 0.332743</td><td style=\"text-align: right;\">                           -2</td><td style=\"text-align: right;\">                       0.05</td><td style=\"text-align: right;\"> 0.95</td><td style=\"text-align: right;\">    1e-06</td><td style=\"text-align: right;\"> 0.005</td><td style=\"text-align: right;\">           1</td><td style=\"text-align: right;\">               0</td><td style=\"text-align: right;\">          1e+06</td><td style=\"text-align: right;\">                0</td><td style=\"text-align: right;\">                 0.15</td><td style=\"text-align: right;\">   0</td><td style=\"text-align: right;\">   0</td><td style=\"text-align: right;\"> 3.4e+38</td><td style=\"text-align: right;\">                     1</td><td style=\"text-align: right;\">               5</td><td style=\"text-align: right;\">                   10000</td><td style=\"text-align: right;\">                         0</td><td style=\"text-align: right;\">               0.1</td><td style=\"text-align: right;\">                    0</td><td style=\"text-align: right;\">            1e-06</td><td style=\"text-align: right;\">                   0</td><td style=\"text-align: right;\">              0</td><td style=\"text-align: right;\">               2.14748e+09</td><td style=\"text-align: right;\">                             0.001</td></tr>\n",
              "<tr><td>DeepLearning_grid_1_AutoML_20190421_234613_model_4</td><td style=\"text-align: right;\">                0</td><td style=\"text-align: right;\">                 0</td><td style=\"text-align: right;\">          0.00809803</td><td style=\"text-align: right;\">                       5</td><td style=\"text-align: right;\">-8.67337e+18</td><td style=\"text-align: right;\">            1.5</td><td style=\"text-align: right;\">             0.5</td><td style=\"text-align: right;\">          0.9</td><td style=\"text-align: right;\"> 0.210899</td><td style=\"text-align: right;\">                           -2</td><td style=\"text-align: right;\">                       0.05</td><td style=\"text-align: right;\"> 0.9 </td><td style=\"text-align: right;\">    1e-06</td><td style=\"text-align: right;\"> 0.005</td><td style=\"text-align: right;\">           1</td><td style=\"text-align: right;\">               0</td><td style=\"text-align: right;\">          1e+06</td><td style=\"text-align: right;\">                0</td><td style=\"text-align: right;\">                 0.2 </td><td style=\"text-align: right;\">   0</td><td style=\"text-align: right;\">   0</td><td style=\"text-align: right;\"> 3.4e+38</td><td style=\"text-align: right;\">                     1</td><td style=\"text-align: right;\">               5</td><td style=\"text-align: right;\">                   10000</td><td style=\"text-align: right;\">                         0</td><td style=\"text-align: right;\">               0.1</td><td style=\"text-align: right;\">                    0</td><td style=\"text-align: right;\">            1e-06</td><td style=\"text-align: right;\">                   0</td><td style=\"text-align: right;\">              0</td><td style=\"text-align: right;\">               2.14748e+09</td><td style=\"text-align: right;\">                             0.001</td></tr>\n",
              "<tr><td>DeepLearning_grid_1_AutoML_20190421_233433_model_5</td><td style=\"text-align: right;\">                0</td><td style=\"text-align: right;\">                 0</td><td style=\"text-align: right;\">          0.00809803</td><td style=\"text-align: right;\">                       5</td><td style=\"text-align: right;\">-3.99495e+18</td><td style=\"text-align: right;\">            1.5</td><td style=\"text-align: right;\">             0.5</td><td style=\"text-align: right;\">          0.9</td><td style=\"text-align: right;\"> 0.694865</td><td style=\"text-align: right;\">                           -2</td><td style=\"text-align: right;\">                       0.05</td><td style=\"text-align: right;\"> 0.9 </td><td style=\"text-align: right;\">    1e-06</td><td style=\"text-align: right;\"> 0.005</td><td style=\"text-align: right;\">           1</td><td style=\"text-align: right;\">               0</td><td style=\"text-align: right;\">          1e+06</td><td style=\"text-align: right;\">                0</td><td style=\"text-align: right;\">                 0   </td><td style=\"text-align: right;\">   0</td><td style=\"text-align: right;\">   0</td><td style=\"text-align: right;\"> 3.4e+38</td><td style=\"text-align: right;\">                     1</td><td style=\"text-align: right;\">               5</td><td style=\"text-align: right;\">                   10000</td><td style=\"text-align: right;\">                         0</td><td style=\"text-align: right;\">               0.1</td><td style=\"text-align: right;\">                    0</td><td style=\"text-align: right;\">            1e-06</td><td style=\"text-align: right;\">                   0</td><td style=\"text-align: right;\">              0</td><td style=\"text-align: right;\">               2.14748e+09</td><td style=\"text-align: right;\">                             0.001</td></tr>\n",
              "</tbody>\n",
              "</table>"
            ]
          },
          "metadata": {
            "tags": []
          }
        },
        {
          "output_type": "execute_result",
          "data": {
            "text/plain": [
              ""
            ]
          },
          "metadata": {
            "tags": []
          },
          "execution_count": 44
        }
      ]
    },
    {
      "metadata": {
        "id": "s_axxREtqcX0",
        "colab_type": "code",
        "outputId": "342d4759-8e92-4d22-8feb-6f5da836e45c",
        "colab": {
          "base_uri": "https://localhost:8080/",
          "height": 595
        }
      },
      "cell_type": "code",
      "source": [
        "ranges = []\n",
        "for key,val in df_dl.types.items():\n",
        "   print(key,val)\n",
        "   if val == 'int':\n",
        "        ranges.append([key,[df_dl[key].min(),df_dl[key].max()]])\n",
        "   if val == 'real':\n",
        "        ranges.append([key,[df_dl[key].min(),df_dl[key].max()]])"
      ],
      "execution_count": 0,
      "outputs": [
        {
          "output_type": "stream",
          "text": [
            "model_id enum\n",
            "stopping_rounds int\n",
            "max_runtime_secs int\n",
            "stopping_tolerance real\n",
            "max_after_balance_size int\n",
            "seed int\n",
            "tweedie_power real\n",
            "quantile_alpha real\n",
            "huber_alpha real\n",
            "epochs real\n",
            "train_samples_per_iteration int\n",
            "target_ratio_comm_to_comp real\n",
            "rho real\n",
            "epsilon real\n",
            "rate real\n",
            "rate_decay int\n",
            "momentum_start int\n",
            "momentum_ramp int\n",
            "momentum_stable int\n",
            "input_dropout_ratio real\n",
            "l1 int\n",
            "l2 int\n",
            "max_w2 real\n",
            "initial_weight_scale int\n",
            "score_interval int\n",
            "score_training_samples int\n",
            "score_validation_samples int\n",
            "score_duty_cycle real\n",
            "classification_stop int\n",
            "regression_stop real\n",
            "average_activation int\n",
            "sparsity_beta int\n",
            "max_categorical_features int\n",
            "elastic_averaging_regularization real\n"
          ],
          "name": "stdout"
        }
      ]
    },
    {
      "metadata": {
        "id": "V8z_IYvmqj7E",
        "colab_type": "code",
        "outputId": "cfd1a98e-be1b-49d1-f035-05dd0f11676a",
        "colab": {
          "base_uri": "https://localhost:8080/",
          "height": 578
        }
      },
      "cell_type": "code",
      "source": [
        "ranges"
      ],
      "execution_count": 0,
      "outputs": [
        {
          "output_type": "execute_result",
          "data": {
            "text/plain": [
              "[['stopping_rounds', [0.0, 0.0]],\n",
              " ['max_runtime_secs', [0.0, 0.0]],\n",
              " ['stopping_tolerance', [0.008098029, 0.008098029]],\n",
              " ['max_after_balance_size', [5.0, 5.0]],\n",
              " ['seed', [-9.09605e+18, 8.805764935126581e+18]],\n",
              " ['tweedie_power', [1.5, 1.5]],\n",
              " ['quantile_alpha', [0.5, 0.5]],\n",
              " ['huber_alpha', [0.9, 0.9]],\n",
              " ['epochs', [0.084333401, 31.10764099]],\n",
              " ['train_samples_per_iteration', [-2.0, -2.0]],\n",
              " ['target_ratio_comm_to_comp', [0.05, 0.05]],\n",
              " ['rho', [0.9, 0.99]],\n",
              " ['epsilon', [1e-06, 1e-06]],\n",
              " ['rate', [0.005, 0.005]],\n",
              " ['rate_decay', [1.0, 1.0]],\n",
              " ['momentum_start', [0.0, 0.0]],\n",
              " ['momentum_ramp', [1000000.0, 1000000.0]],\n",
              " ['momentum_stable', [0.0, 0.0]],\n",
              " ['input_dropout_ratio', [0.0, 0.2]],\n",
              " ['l1', [0.0, 0.0]],\n",
              " ['l2', [0.0, 0.0]],\n",
              " ['max_w2', [3.4e+38, 3.4e+38]],\n",
              " ['initial_weight_scale', [1.0, 1.0]],\n",
              " ['score_interval', [5.0, 5.0]],\n",
              " ['score_training_samples', [10000.0, 10000.0]],\n",
              " ['score_validation_samples', [0.0, 0.0]],\n",
              " ['score_duty_cycle', [0.1, 0.1]],\n",
              " ['classification_stop', [0.0, 0.0]],\n",
              " ['regression_stop', [1e-06, 1e-06]],\n",
              " ['average_activation', [0.0, 0.0]],\n",
              " ['sparsity_beta', [0.0, 0.0]],\n",
              " ['max_categorical_features', [2147483647.0, 2147483647.0]],\n",
              " ['elastic_averaging_regularization', [0.001, 0.001]]]"
            ]
          },
          "metadata": {
            "tags": []
          },
          "execution_count": 46
        }
      ]
    },
    {
      "metadata": {
        "id": "TNDfqe-H5OBo",
        "colab_type": "code",
        "colab": {}
      },
      "cell_type": "code",
      "source": [
        ""
      ],
      "execution_count": 0,
      "outputs": []
    },
    {
      "metadata": {
        "id": "5IGzI0uBWUTK",
        "colab_type": "text"
      },
      "cell_type": "markdown",
      "source": [
        "**For DRF:**importing csv files into the dataframe."
      ]
    },
    {
      "metadata": {
        "id": "iw6kIqdCwqZy",
        "colab_type": "code",
        "outputId": "66f740fc-ce00-46fb-8152-3d2b983573c3",
        "colab": {
          "base_uri": "https://localhost:8080/",
          "height": 34
        }
      },
      "cell_type": "code",
      "source": [
        "df_drf = h2o.import_file(\"DRF.csv\")"
      ],
      "execution_count": 0,
      "outputs": [
        {
          "output_type": "stream",
          "text": [
            "Parse progress: |█████████████████████████████████████████████████████████| 100%\n"
          ],
          "name": "stdout"
        }
      ]
    },
    {
      "metadata": {
        "id": "H4smU9NYwwAB",
        "colab_type": "code",
        "outputId": "27342659-f607-43c1-eeae-5992ec9e5f5b",
        "colab": {
          "base_uri": "https://localhost:8080/",
          "height": 270
        }
      },
      "cell_type": "code",
      "source": [
        "df_drf.head()"
      ],
      "execution_count": 0,
      "outputs": [
        {
          "output_type": "display_data",
          "data": {
            "text/html": [
              "<table>\n",
              "<thead>\n",
              "<tr><th>model_id                    </th><th style=\"text-align: right;\">  stopping_rounds</th><th style=\"text-align: right;\">  max_runtime_secs</th><th style=\"text-align: right;\">  stopping_tolerance</th><th style=\"text-align: right;\">  max_after_balance_size</th><th style=\"text-align: right;\">  ntrees</th><th style=\"text-align: right;\">  max_depth</th><th style=\"text-align: right;\">  min_rows</th><th style=\"text-align: right;\">  nbins</th><th style=\"text-align: right;\">  nbins_top_level</th><th style=\"text-align: right;\">  nbins_cats</th><th style=\"text-align: right;\">        seed</th><th style=\"text-align: right;\">  sample_rate</th><th style=\"text-align: right;\">  col_sample_rate_per_tree</th><th style=\"text-align: right;\">  col_sample_rate_change_per_level</th><th style=\"text-align: right;\">  min_split_improvement</th><th style=\"text-align: right;\">  mtries</th></tr>\n",
              "</thead>\n",
              "<tbody>\n",
              "<tr><td>DRF_1_AutoML_20190421_232600</td><td style=\"text-align: right;\">                0</td><td style=\"text-align: right;\">                 0</td><td style=\"text-align: right;\">          0.00809803</td><td style=\"text-align: right;\">                       5</td><td style=\"text-align: right;\">      50</td><td style=\"text-align: right;\">         20</td><td style=\"text-align: right;\">         1</td><td style=\"text-align: right;\">     20</td><td style=\"text-align: right;\">             1024</td><td style=\"text-align: right;\">        1024</td><td style=\"text-align: right;\"> 6.45958e+18</td><td style=\"text-align: right;\">        0.632</td><td style=\"text-align: right;\">                         1</td><td style=\"text-align: right;\">                                 1</td><td style=\"text-align: right;\">                  1e-05</td><td style=\"text-align: right;\">      -1</td></tr>\n",
              "<tr><td>DRF_1_AutoML_20190421_233433</td><td style=\"text-align: right;\">                0</td><td style=\"text-align: right;\">                 0</td><td style=\"text-align: right;\">          0.00809803</td><td style=\"text-align: right;\">                       5</td><td style=\"text-align: right;\">      50</td><td style=\"text-align: right;\">         20</td><td style=\"text-align: right;\">         1</td><td style=\"text-align: right;\">     20</td><td style=\"text-align: right;\">             1024</td><td style=\"text-align: right;\">        1024</td><td style=\"text-align: right;\"> 6.45958e+18</td><td style=\"text-align: right;\">        0.632</td><td style=\"text-align: right;\">                         1</td><td style=\"text-align: right;\">                                 1</td><td style=\"text-align: right;\">                  1e-05</td><td style=\"text-align: right;\">      -1</td></tr>\n",
              "<tr><td>DRF_1_AutoML_20190421_234613</td><td style=\"text-align: right;\">                0</td><td style=\"text-align: right;\">                 0</td><td style=\"text-align: right;\">          0.00809803</td><td style=\"text-align: right;\">                       5</td><td style=\"text-align: right;\">      50</td><td style=\"text-align: right;\">         20</td><td style=\"text-align: right;\">         1</td><td style=\"text-align: right;\">     20</td><td style=\"text-align: right;\">             1024</td><td style=\"text-align: right;\">        1024</td><td style=\"text-align: right;\"> 6.45958e+18</td><td style=\"text-align: right;\">        0.632</td><td style=\"text-align: right;\">                         1</td><td style=\"text-align: right;\">                                 1</td><td style=\"text-align: right;\">                  1e-05</td><td style=\"text-align: right;\">      -1</td></tr>\n",
              "<tr><td>DRF_1_AutoML_20190421_232600</td><td style=\"text-align: right;\">                0</td><td style=\"text-align: right;\">                 0</td><td style=\"text-align: right;\">          0.00809803</td><td style=\"text-align: right;\">                       5</td><td style=\"text-align: right;\">      50</td><td style=\"text-align: right;\">         20</td><td style=\"text-align: right;\">         1</td><td style=\"text-align: right;\">     20</td><td style=\"text-align: right;\">             1024</td><td style=\"text-align: right;\">        1024</td><td style=\"text-align: right;\"> 6.45958e+18</td><td style=\"text-align: right;\">        0.632</td><td style=\"text-align: right;\">                         1</td><td style=\"text-align: right;\">                                 1</td><td style=\"text-align: right;\">                  1e-05</td><td style=\"text-align: right;\">      -1</td></tr>\n",
              "<tr><td>DRF_1_AutoML_20190421_233433</td><td style=\"text-align: right;\">                0</td><td style=\"text-align: right;\">                 0</td><td style=\"text-align: right;\">          0.00809803</td><td style=\"text-align: right;\">                       5</td><td style=\"text-align: right;\">      50</td><td style=\"text-align: right;\">         20</td><td style=\"text-align: right;\">         1</td><td style=\"text-align: right;\">     20</td><td style=\"text-align: right;\">             1024</td><td style=\"text-align: right;\">        1024</td><td style=\"text-align: right;\"> 6.45958e+18</td><td style=\"text-align: right;\">        0.632</td><td style=\"text-align: right;\">                         1</td><td style=\"text-align: right;\">                                 1</td><td style=\"text-align: right;\">                  1e-05</td><td style=\"text-align: right;\">      -1</td></tr>\n",
              "<tr><td>DRF_1_AutoML_20190421_234613</td><td style=\"text-align: right;\">                0</td><td style=\"text-align: right;\">                 0</td><td style=\"text-align: right;\">          0.00809803</td><td style=\"text-align: right;\">                       5</td><td style=\"text-align: right;\">      50</td><td style=\"text-align: right;\">         20</td><td style=\"text-align: right;\">         1</td><td style=\"text-align: right;\">     20</td><td style=\"text-align: right;\">             1024</td><td style=\"text-align: right;\">        1024</td><td style=\"text-align: right;\"> 7.5491e+18 </td><td style=\"text-align: right;\">        0.632</td><td style=\"text-align: right;\">                         1</td><td style=\"text-align: right;\">                                 1</td><td style=\"text-align: right;\">                  1e-05</td><td style=\"text-align: right;\">      -1</td></tr>\n",
              "<tr><td>DRF_1_AutoML_20190422_000108</td><td style=\"text-align: right;\">                0</td><td style=\"text-align: right;\">                 0</td><td style=\"text-align: right;\">          0.00809803</td><td style=\"text-align: right;\">                       5</td><td style=\"text-align: right;\">      50</td><td style=\"text-align: right;\">         20</td><td style=\"text-align: right;\">         1</td><td style=\"text-align: right;\">     20</td><td style=\"text-align: right;\">             1024</td><td style=\"text-align: right;\">        1024</td><td style=\"text-align: right;\"> 7.5491e+18 </td><td style=\"text-align: right;\">        0.632</td><td style=\"text-align: right;\">                         1</td><td style=\"text-align: right;\">                                 1</td><td style=\"text-align: right;\">                  1e-05</td><td style=\"text-align: right;\">      -1</td></tr>\n",
              "<tr><td>DRF_1_AutoML_20190421_232600</td><td style=\"text-align: right;\">                0</td><td style=\"text-align: right;\">                 0</td><td style=\"text-align: right;\">          0.00809803</td><td style=\"text-align: right;\">                       5</td><td style=\"text-align: right;\">      50</td><td style=\"text-align: right;\">         20</td><td style=\"text-align: right;\">         1</td><td style=\"text-align: right;\">     20</td><td style=\"text-align: right;\">             1024</td><td style=\"text-align: right;\">        1024</td><td style=\"text-align: right;\"> 7.5491e+18 </td><td style=\"text-align: right;\">        0.632</td><td style=\"text-align: right;\">                         1</td><td style=\"text-align: right;\">                                 1</td><td style=\"text-align: right;\">                  1e-05</td><td style=\"text-align: right;\">      -1</td></tr>\n",
              "<tr><td>DRF_1_AutoML_20190421_232600</td><td style=\"text-align: right;\">                0</td><td style=\"text-align: right;\">                 0</td><td style=\"text-align: right;\">          0.00809803</td><td style=\"text-align: right;\">                       5</td><td style=\"text-align: right;\">      50</td><td style=\"text-align: right;\">         20</td><td style=\"text-align: right;\">         1</td><td style=\"text-align: right;\">     20</td><td style=\"text-align: right;\">             1024</td><td style=\"text-align: right;\">        1024</td><td style=\"text-align: right;\"> 7.5491e+18 </td><td style=\"text-align: right;\">        0.632</td><td style=\"text-align: right;\">                         1</td><td style=\"text-align: right;\">                                 1</td><td style=\"text-align: right;\">                  1e-05</td><td style=\"text-align: right;\">      -1</td></tr>\n",
              "<tr><td>DRF_1_AutoML_20190421_233433</td><td style=\"text-align: right;\">                0</td><td style=\"text-align: right;\">                 0</td><td style=\"text-align: right;\">          0.00809803</td><td style=\"text-align: right;\">                       5</td><td style=\"text-align: right;\">      41</td><td style=\"text-align: right;\">         20</td><td style=\"text-align: right;\">         1</td><td style=\"text-align: right;\">     20</td><td style=\"text-align: right;\">             1024</td><td style=\"text-align: right;\">        1024</td><td style=\"text-align: right;\">-9.12e+18   </td><td style=\"text-align: right;\">        0.632</td><td style=\"text-align: right;\">                         1</td><td style=\"text-align: right;\">                                 1</td><td style=\"text-align: right;\">                  1e-05</td><td style=\"text-align: right;\">      -1</td></tr>\n",
              "</tbody>\n",
              "</table>"
            ]
          },
          "metadata": {
            "tags": []
          }
        },
        {
          "output_type": "execute_result",
          "data": {
            "text/plain": [
              ""
            ]
          },
          "metadata": {
            "tags": []
          },
          "execution_count": 35
        }
      ]
    },
    {
      "metadata": {
        "id": "hIL4Pjedwza5",
        "colab_type": "code",
        "outputId": "797ef455-c25d-4b56-d112-074b3037eba6",
        "colab": {
          "base_uri": "https://localhost:8080/",
          "height": 306
        }
      },
      "cell_type": "code",
      "source": [
        "ranges = []\n",
        "for key,val in df_drf.types.items():\n",
        "   print(key,val)\n",
        "   if val == 'int':\n",
        "        ranges.append([key,[df_drf[key].min(),df_drf[key].max()]])\n",
        "   if val == 'real':\n",
        "        ranges.append([key,[df_drf[key].min(),df_drf[key].max()]])"
      ],
      "execution_count": 0,
      "outputs": [
        {
          "output_type": "stream",
          "text": [
            "model_id enum\n",
            "stopping_rounds int\n",
            "max_runtime_secs int\n",
            "stopping_tolerance real\n",
            "max_after_balance_size int\n",
            "ntrees int\n",
            "max_depth int\n",
            "min_rows int\n",
            "nbins int\n",
            "nbins_top_level int\n",
            "nbins_cats int\n",
            "seed int\n",
            "sample_rate real\n",
            "col_sample_rate_per_tree int\n",
            "col_sample_rate_change_per_level int\n",
            "min_split_improvement real\n",
            "mtries int\n"
          ],
          "name": "stdout"
        }
      ]
    },
    {
      "metadata": {
        "id": "0yMVsiAGw6vh",
        "colab_type": "code",
        "outputId": "f99a0e6b-3423-4e47-e863-80b3a8fec2b9",
        "colab": {
          "base_uri": "https://localhost:8080/",
          "height": 289
        }
      },
      "cell_type": "code",
      "source": [
        "ranges"
      ],
      "execution_count": 0,
      "outputs": [
        {
          "output_type": "execute_result",
          "data": {
            "text/plain": [
              "[['stopping_rounds', [0.0, 0.0]],\n",
              " ['max_runtime_secs', [0.0, 0.0]],\n",
              " ['stopping_tolerance', [0.008098029, 0.008098029]],\n",
              " ['max_after_balance_size', [5.0, 5.0]],\n",
              " ['ntrees', [41.0, 50.0]],\n",
              " ['max_depth', [20.0, 20.0]],\n",
              " ['min_rows', [1.0, 1.0]],\n",
              " ['nbins', [20.0, 20.0]],\n",
              " ['nbins_top_level', [1024.0, 1024.0]],\n",
              " ['nbins_cats', [1024.0, 1024.0]],\n",
              " ['seed', [-9.12e+18, 7.549101339683506e+18]],\n",
              " ['sample_rate', [0.632000029, 0.632000029]],\n",
              " ['col_sample_rate_per_tree', [1.0, 1.0]],\n",
              " ['col_sample_rate_change_per_level', [1.0, 1.0]],\n",
              " ['min_split_improvement', [1e-05, 1e-05]],\n",
              " ['mtries', [-1.0, -1.0]]]"
            ]
          },
          "metadata": {
            "tags": []
          },
          "execution_count": 37
        }
      ]
    },
    {
      "metadata": {
        "id": "JTDbW4lcWbls",
        "colab_type": "text"
      },
      "cell_type": "markdown",
      "source": [
        "**For GLM:**importing csv files into the dataframe."
      ]
    },
    {
      "metadata": {
        "id": "3eNdrcBGzRvZ",
        "colab_type": "code",
        "outputId": "7c161471-cb37-4b08-dbb9-74edf0668fa1",
        "colab": {
          "base_uri": "https://localhost:8080/",
          "height": 34
        }
      },
      "cell_type": "code",
      "source": [
        "df_glm = h2o.import_file(\"GLM.csv\")"
      ],
      "execution_count": 0,
      "outputs": [
        {
          "output_type": "stream",
          "text": [
            "Parse progress: |█████████████████████████████████████████████████████████| 100%\n"
          ],
          "name": "stdout"
        }
      ]
    },
    {
      "metadata": {
        "id": "ue2FtZg3zWMW",
        "colab_type": "code",
        "outputId": "639b42b5-4178-41e1-a560-03a027923eaa",
        "colab": {
          "base_uri": "https://localhost:8080/",
          "height": 270
        }
      },
      "cell_type": "code",
      "source": [
        "df_glm.head()"
      ],
      "execution_count": 0,
      "outputs": [
        {
          "output_type": "display_data",
          "data": {
            "text/html": [
              "<table>\n",
              "<thead>\n",
              "<tr><th>model_id                                 </th><th style=\"text-align: right;\">  max_runtime_secs</th><th style=\"text-align: right;\">  max_after_balance_size</th><th style=\"text-align: right;\">       seed</th><th style=\"text-align: right;\">  max_iterations</th><th style=\"text-align: right;\">  tweedie_variance_power</th><th style=\"text-align: right;\">  tweedie_link_power</th></tr>\n",
              "</thead>\n",
              "<tbody>\n",
              "<tr><td>GLM_grid_1_AutoML_20190421_232600_model_1</td><td style=\"text-align: right;\">                 0</td><td style=\"text-align: right;\">                       5</td><td style=\"text-align: right;\">6.56e+17   </td><td style=\"text-align: right;\">             300</td><td style=\"text-align: right;\">                       0</td><td style=\"text-align: right;\">                   1</td></tr>\n",
              "<tr><td>GLM_grid_1_AutoML_20190421_232600_model_1</td><td style=\"text-align: right;\">                 0</td><td style=\"text-align: right;\">                       5</td><td style=\"text-align: right;\">6.56e+17   </td><td style=\"text-align: right;\">             300</td><td style=\"text-align: right;\">                       0</td><td style=\"text-align: right;\">                   1</td></tr>\n",
              "<tr><td>GLM_grid_1_AutoML_20190421_232600_model_1</td><td style=\"text-align: right;\">                 0</td><td style=\"text-align: right;\">                       5</td><td style=\"text-align: right;\">6.56e+17   </td><td style=\"text-align: right;\">             300</td><td style=\"text-align: right;\">                       0</td><td style=\"text-align: right;\">                   1</td></tr>\n",
              "<tr><td>GLM_grid_1_AutoML_20190421_232600_model_1</td><td style=\"text-align: right;\">                 0</td><td style=\"text-align: right;\">                       5</td><td style=\"text-align: right;\">6.56e+17   </td><td style=\"text-align: right;\">             300</td><td style=\"text-align: right;\">                       0</td><td style=\"text-align: right;\">                   1</td></tr>\n",
              "<tr><td>GLM_grid_1_AutoML_20190421_232600_model_1</td><td style=\"text-align: right;\">                 0</td><td style=\"text-align: right;\">                       5</td><td style=\"text-align: right;\">6.56e+17   </td><td style=\"text-align: right;\">             300</td><td style=\"text-align: right;\">                       0</td><td style=\"text-align: right;\">                   1</td></tr>\n",
              "<tr><td>GLM_grid_1_AutoML_20190421_233433_model_1</td><td style=\"text-align: right;\">                 0</td><td style=\"text-align: right;\">                       5</td><td style=\"text-align: right;\">6.23814e+17</td><td style=\"text-align: right;\">             300</td><td style=\"text-align: right;\">                       0</td><td style=\"text-align: right;\">                   1</td></tr>\n",
              "<tr><td>GLM_grid_1_AutoML_20190421_233433_model_1</td><td style=\"text-align: right;\">                 0</td><td style=\"text-align: right;\">                       5</td><td style=\"text-align: right;\">6.23814e+17</td><td style=\"text-align: right;\">             300</td><td style=\"text-align: right;\">                       0</td><td style=\"text-align: right;\">                   1</td></tr>\n",
              "<tr><td>GLM_grid_1_AutoML_20190421_233433_model_1</td><td style=\"text-align: right;\">                 0</td><td style=\"text-align: right;\">                       5</td><td style=\"text-align: right;\">6.23814e+17</td><td style=\"text-align: right;\">             300</td><td style=\"text-align: right;\">                       0</td><td style=\"text-align: right;\">                   1</td></tr>\n",
              "<tr><td>GLM_grid_1_AutoML_20190421_233433_model_1</td><td style=\"text-align: right;\">                 0</td><td style=\"text-align: right;\">                       5</td><td style=\"text-align: right;\">6.23814e+17</td><td style=\"text-align: right;\">             300</td><td style=\"text-align: right;\">                       0</td><td style=\"text-align: right;\">                   1</td></tr>\n",
              "<tr><td>GLM_grid_1_AutoML_20190421_233433_model_1</td><td style=\"text-align: right;\">                 0</td><td style=\"text-align: right;\">                       5</td><td style=\"text-align: right;\">1.92983e+18</td><td style=\"text-align: right;\">             300</td><td style=\"text-align: right;\">                       0</td><td style=\"text-align: right;\">                   1</td></tr>\n",
              "</tbody>\n",
              "</table>"
            ]
          },
          "metadata": {
            "tags": []
          }
        },
        {
          "output_type": "execute_result",
          "data": {
            "text/plain": [
              ""
            ]
          },
          "metadata": {
            "tags": []
          },
          "execution_count": 40
        }
      ]
    },
    {
      "metadata": {
        "id": "ejNj5vvRzecu",
        "colab_type": "code",
        "outputId": "d8830685-6581-40b7-df1c-f90abd6067d9",
        "colab": {
          "base_uri": "https://localhost:8080/",
          "height": 136
        }
      },
      "cell_type": "code",
      "source": [
        "ranges = []\n",
        "for key,val in df_glm.types.items():\n",
        "   print(key,val)\n",
        "   if val == 'int':\n",
        "        ranges.append([key,[df_glm[key].min(),df_glm[key].max()]])\n",
        "   if val == 'real':\n",
        "        ranges.append([key,[df_glm[key].min(),df_glm[key].max()]])"
      ],
      "execution_count": 0,
      "outputs": [
        {
          "output_type": "stream",
          "text": [
            "model_id enum\n",
            "max_runtime_secs int\n",
            "max_after_balance_size int\n",
            "seed int\n",
            "max_iterations int\n",
            "tweedie_variance_power int\n",
            "tweedie_link_power int\n"
          ],
          "name": "stdout"
        }
      ]
    },
    {
      "metadata": {
        "id": "upzxsVuWzmGh",
        "colab_type": "code",
        "outputId": "eb71dc63-8ccc-4d9f-aa4c-ea68e5237ec9",
        "colab": {
          "base_uri": "https://localhost:8080/",
          "height": 119
        }
      },
      "cell_type": "code",
      "source": [
        "ranges"
      ],
      "execution_count": 0,
      "outputs": [
        {
          "output_type": "execute_result",
          "data": {
            "text/plain": [
              "[['max_runtime_secs', [0.0, 0.0]],\n",
              " ['max_after_balance_size', [5.0, 5.0]],\n",
              " ['seed', [-8.93342e+18, 1.929825150468839e+18]],\n",
              " ['max_iterations', [300.0, 300.0]],\n",
              " ['tweedie_variance_power', [0.0, 0.0]],\n",
              " ['tweedie_link_power', [1.0, 1.0]]]"
            ]
          },
          "metadata": {
            "tags": []
          },
          "execution_count": 42
        }
      ]
    },
    {
      "metadata": {
        "id": "HNOAqfcYWUkd",
        "colab_type": "text"
      },
      "cell_type": "markdown",
      "source": [
        "# Compare the range of values across the models for different hyperparameters :"
      ]
    },
    {
      "metadata": {
        "id": "uwmjSA_2WSYN",
        "colab_type": "text"
      },
      "cell_type": "markdown",
      "source": [
        "\n",
        "> XRT, GLM and GBM have common hyperparameters i.e. max_runtime_secs, max_after_balance_size, seed.\n",
        "\n",
        "> Value of hyperparameter Max_depth is same for GBM and DRF.\n",
        "\n",
        "> DRF, XRT and Deep Learning have common hyperparameters i.e. stopping_rounds, max_runtime_secs, stopping_tolerance, max_after_balance_size, Seed.\n",
        "\n",
        "> Stopping_tolerance is present is all the algorithms except GLM and GBM and its value is 0.008098029 for all models.\n",
        "\n",
        "> Seed is common in all algorithms and its range varies in all algorithms. Value of seed varies as follows:\n",
        "  \n",
        "\n",
        "\n",
        "\n",
        ">   For GBM: [-6.72243e+18, 6.359377122478104e+18]\n",
        "\n",
        " > For DeepLearning: [-8.27849e+18, 7.83787362635869e+18]\n",
        "\n",
        "  > For DRF: [-9.09605e+18, 8.805764935126581e+18]\n",
        "\n",
        " >  For GLM: [-9.12e+18, 7.549101339683506e+18]]\n",
        "\n",
        "  > For GBM: [-8.93342e+18, 1.929825150468839e+18]\n",
        "\n",
        "\n",
        "> Ntrees are for XRT and DRF only and the valuea varies from 41.0 to 50.0\n",
        "\n",
        ">  For DeepLearning input_dropout_ratio varies from [0.0, 0.2]\n",
        "\n",
        "> For DRF sample_rate varies from [0.632, 0.632000029]\n",
        "\n"
      ]
    },
    {
      "metadata": {
        "id": "qmP_VBmbCNtQ",
        "colab_type": "text"
      },
      "cell_type": "markdown",
      "source": [
        "# Grid Search for finding Important hyperparameters"
      ]
    },
    {
      "metadata": {
        "id": "ndzrG8yHWfFZ",
        "colab_type": "text"
      },
      "cell_type": "markdown",
      "source": [
        "**For GBM:**importing csv files into the dataframe."
      ]
    },
    {
      "metadata": {
        "id": "zUzybk3X8KQ7",
        "colab_type": "code",
        "colab": {}
      },
      "cell_type": "code",
      "source": [
        "from h2o.estimators.gbm import H2OGradientBoostingEstimator\n",
        "from h2o.grid.grid_search import H2OGridSearch"
      ],
      "execution_count": 0,
      "outputs": []
    },
    {
      "metadata": {
        "id": "h1mRIR1E9J1j",
        "colab_type": "code",
        "outputId": "1ba6cd2d-4726-4eef-8a91-b66ec79d7488",
        "colab": {
          "base_uri": "https://localhost:8080/",
          "height": 34
        }
      },
      "cell_type": "code",
      "source": [
        "# Load data into H2O\n",
        "df2 = h2o.import_file(\"bottle.csv\")\n",
        "x = df2.columns\n",
        "y = \"T_degC\"\n",
        "x.remove(y)"
      ],
      "execution_count": 0,
      "outputs": [
        {
          "output_type": "stream",
          "text": [
            "Parse progress: |█████████████████████████████████████████████████████████| 100%\n"
          ],
          "name": "stdout"
        }
      ]
    },
    {
      "metadata": {
        "id": "1tW9qTcQ-BMf",
        "colab_type": "code",
        "colab": {}
      },
      "cell_type": "code",
      "source": [
        "split = df2.split_frame(seed = 1)\n",
        "train = split[0]\n",
        "valid = split[1]"
      ],
      "execution_count": 0,
      "outputs": []
    },
    {
      "metadata": {
        "id": "FCFYbz_a-HcI",
        "colab_type": "code",
        "colab": {}
      },
      "cell_type": "code",
      "source": [
        "gbm_params = {'max_runtime_secs', [5.0, 5.0],\n",
        " 'max_after_balance_size', [0.0, 0.0],\n",
        " 'seed', [-8.27849e+18, 7.83787362635869e+18]}"
      ],
      "execution_count": 0,
      "outputs": []
    },
    {
      "metadata": {
        "id": "MS3lK9nR-uIS",
        "colab_type": "code",
        "colab": {}
      },
      "cell_type": "code",
      "source": [
        "gbm_search = H2OGridSearch(model=H2OGradientBoostingEstimator,\n",
        "                          grid_id='gbm_search',\n",
        "                          hyper_params=gbm_params)"
      ],
      "execution_count": 0,
      "outputs": []
    },
    {
      "metadata": {
        "id": "CsDLHrHX-vZQ",
        "colab_type": "code",
        "outputId": "be608b49-55a1-449e-dc08-c9dfc80026b0",
        "colab": {
          "base_uri": "https://localhost:8080/",
          "height": 34
        }
      },
      "cell_type": "code",
      "source": [
        "gbm_search.train(x=x, y=y,\n",
        "                training_frame=train,\n",
        "                validation_frame=valid,\n",
        "                ntrees=50,\n",
        "                seed=1)"
      ],
      "execution_count": 0,
      "outputs": [
        {
          "output_type": "stream",
          "text": [
            "gbm Grid Build progress: |████████████████████████████████████████████████| 100%\n"
          ],
          "name": "stdout"
        }
      ]
    },
    {
      "metadata": {
        "id": "lb76HUmD-0Px",
        "colab_type": "code",
        "outputId": "122937ad-e346-4a12-c01f-d6840c410889",
        "colab": {
          "base_uri": "https://localhost:8080/",
          "height": 510
        }
      },
      "cell_type": "code",
      "source": [
        "gbm_best = gbm_search.get_grid(sort_by='mse', decreasing=True)\n",
        "gbm_best"
      ],
      "execution_count": 0,
      "outputs": [
        {
          "output_type": "stream",
          "text": [
            "    huber_alpha learn_rate max_after_balance_size max_depth min_rows nbins  \\\n",
            "0           0.9      0.001                    5.0         3    100.0    20   \n",
            "1           0.9      0.001                    5.0         3      5.0    20   \n",
            "2           0.9      0.001                    5.0        17    100.0    20   \n",
            "3           0.9      0.001                    5.0        17      5.0    20   \n",
            "4           0.9        0.5                    5.0         3    100.0    20   \n",
            "5           0.9        0.5                    5.0         3      5.0    20   \n",
            "6           0.9        0.5                    5.0        17    100.0    20   \n",
            "7           0.9        0.5                    5.0        17      5.0    20   \n",
            "\n",
            "  nbins_top_level quantile_alpha    stopping_tolerance tweedie_power  \\\n",
            "0            1024            0.5  0.006802091999999999           1.5   \n",
            "1            1024            0.5  0.006802091999999999           1.5   \n",
            "2            1024            0.5  0.006802091999999999           1.5   \n",
            "3            1024            0.5  0.006802091999999999           1.5   \n",
            "4            1024            0.5  0.006802091999999999           1.5   \n",
            "5            1024            0.5  0.006802091999999999           1.5   \n",
            "6            1024            0.5  0.006802091999999999           1.5   \n",
            "7            1024            0.5  0.006802091999999999           1.5   \n",
            "\n",
            "             model_ids                    mse  \n",
            "0  gbm_search_model_17      16.34957892052357  \n",
            "1   gbm_search_model_1      16.34957892052357  \n",
            "2  gbm_search_model_25     16.295725623596955  \n",
            "3   gbm_search_model_9     16.295671301521885  \n",
            "4  gbm_search_model_19   0.004293295219620731  \n",
            "5   gbm_search_model_3   0.003811749099753648  \n",
            "6  gbm_search_model_27  1.9555221553229093E-5  \n",
            "7  gbm_search_model_11    1.91929433888146E-6  \n"
          ],
          "name": "stdout"
        },
        {
          "output_type": "execute_result",
          "data": {
            "text/plain": [
              ""
            ]
          },
          "metadata": {
            "tags": []
          },
          "execution_count": 13
        }
      ]
    },
    {
      "metadata": {
        "id": "Wu4YC-Zp-3Gi",
        "colab_type": "code",
        "colab": {}
      },
      "cell_type": "code",
      "source": [
        "best_gbm = gbm_best.models[0]"
      ],
      "execution_count": 0,
      "outputs": []
    },
    {
      "metadata": {
        "id": "01fas0x4-5_6",
        "colab_type": "code",
        "outputId": "2dd32144-f4d4-4aae-e3db-0283146a9d00",
        "colab": {
          "base_uri": "https://localhost:8080/",
          "height": 1688
        }
      },
      "cell_type": "code",
      "source": [
        "best_gbm"
      ],
      "execution_count": 0,
      "outputs": [
        {
          "output_type": "stream",
          "text": [
            "Model Details\n",
            "=============\n",
            "H2OGradientBoostingEstimator :  Gradient Boosting Machine\n",
            "Model Key:  gbm_search_model_17\n",
            "\n",
            "\n",
            "ModelMetricsRegression: gbm\n",
            "** Reported on train data. **\n",
            "\n",
            "MSE: 16.34846021587728\n",
            "RMSE: 4.0433229175861385\n",
            "MAE: 3.3150862641911285\n",
            "RMSLE: 0.3713922305183845\n",
            "Mean Residual Deviance: 16.34846021587728\n",
            "\n",
            "ModelMetricsRegression: gbm\n",
            "** Reported on validation data. **\n",
            "\n",
            "MSE: 16.34957892052357\n",
            "RMSE: 4.043461254979893\n",
            "MAE: 3.317418108125699\n",
            "RMSLE: 0.3705922642581966\n",
            "Mean Residual Deviance: 16.34957892052357\n",
            "Scoring History: \n"
          ],
          "name": "stdout"
        },
        {
          "output_type": "display_data",
          "data": {
            "text/html": [
              "<div style=\"overflow:auto\"><table style=\"width:50%\"><tr><td><b></b></td>\n",
              "<td><b>timestamp</b></td>\n",
              "<td><b>duration</b></td>\n",
              "<td><b>number_of_trees</b></td>\n",
              "<td><b>training_rmse</b></td>\n",
              "<td><b>training_mae</b></td>\n",
              "<td><b>training_deviance</b></td>\n",
              "<td><b>validation_rmse</b></td>\n",
              "<td><b>validation_mae</b></td>\n",
              "<td><b>validation_deviance</b></td></tr>\n",
              "<tr><td></td>\n",
              "<td>2019-04-26 15:27:35</td>\n",
              "<td>36 min 41.029 sec</td>\n",
              "<td>0.0</td>\n",
              "<td>4.2438075</td>\n",
              "<td>3.4811337</td>\n",
              "<td>18.0099022</td>\n",
              "<td>4.2438664</td>\n",
              "<td>3.4834963</td>\n",
              "<td>18.0104018</td></tr>\n",
              "<tr><td></td>\n",
              "<td>2019-04-26 15:27:52</td>\n",
              "<td>36 min 58.483 sec</td>\n",
              "<td>5.0</td>\n",
              "<td>4.2232969</td>\n",
              "<td>3.4641539</td>\n",
              "<td>17.8362371</td>\n",
              "<td>4.2233699</td>\n",
              "<td>3.4665180</td>\n",
              "<td>17.8368531</td></tr>\n",
              "<tr><td></td>\n",
              "<td>2019-04-26 15:28:01</td>\n",
              "<td>37 min  7.853 sec</td>\n",
              "<td>8.0</td>\n",
              "<td>4.2110407</td>\n",
              "<td>3.4540069</td>\n",
              "<td>17.7328635</td>\n",
              "<td>4.2111227</td>\n",
              "<td>3.4563712</td>\n",
              "<td>17.7335542</td></tr>\n",
              "<tr><td></td>\n",
              "<td>2019-04-26 15:28:10</td>\n",
              "<td>37 min 16.624 sec</td>\n",
              "<td>11.0</td>\n",
              "<td>4.1988227</td>\n",
              "<td>3.4438930</td>\n",
              "<td>17.6301120</td>\n",
              "<td>4.1989124</td>\n",
              "<td>3.4462584</td>\n",
              "<td>17.6308650</td></tr>\n",
              "<tr><td></td>\n",
              "<td>2019-04-26 15:28:19</td>\n",
              "<td>37 min 25.830 sec</td>\n",
              "<td>14.0</td>\n",
              "<td>4.1866417</td>\n",
              "<td>3.4338055</td>\n",
              "<td>17.5279684</td>\n",
              "<td>4.1867398</td>\n",
              "<td>3.4361717</td>\n",
              "<td>17.5287905</td></tr>\n",
              "<tr><td></td>\n",
              "<td>2019-04-26 15:28:28</td>\n",
              "<td>37 min 34.443 sec</td>\n",
              "<td>17.0</td>\n",
              "<td>4.1744982</td>\n",
              "<td>3.4237506</td>\n",
              "<td>17.4264352</td>\n",
              "<td>4.1746007</td>\n",
              "<td>3.4261160</td>\n",
              "<td>17.4272913</td></tr>\n",
              "<tr><td></td>\n",
              "<td>2019-04-26 15:28:36</td>\n",
              "<td>37 min 42.752 sec</td>\n",
              "<td>20.0</td>\n",
              "<td>4.1623914</td>\n",
              "<td>3.4137223</td>\n",
              "<td>17.3255020</td>\n",
              "<td>4.1625024</td>\n",
              "<td>3.4160873</td>\n",
              "<td>17.3264260</td></tr>\n",
              "<tr><td></td>\n",
              "<td>2019-04-26 15:28:45</td>\n",
              "<td>37 min 51.319 sec</td>\n",
              "<td>23.0</td>\n",
              "<td>4.1503224</td>\n",
              "<td>3.4037283</td>\n",
              "<td>17.2251764</td>\n",
              "<td>4.1504365</td>\n",
              "<td>3.4060916</td>\n",
              "<td>17.2261229</td></tr>\n",
              "<tr><td></td>\n",
              "<td>2019-04-26 15:28:54</td>\n",
              "<td>38 min  0.263 sec</td>\n",
              "<td>26.0</td>\n",
              "<td>4.1382887</td>\n",
              "<td>3.3937593</td>\n",
              "<td>17.1254333</td>\n",
              "<td>4.1384075</td>\n",
              "<td>3.3961203</td>\n",
              "<td>17.1264170</td></tr>\n",
              "<tr><td></td>\n",
              "<td>2019-04-26 15:29:03</td>\n",
              "<td>38 min  9.594 sec</td>\n",
              "<td>29.0</td>\n",
              "<td>4.1262924</td>\n",
              "<td>3.3838249</td>\n",
              "<td>17.0262891</td>\n",
              "<td>4.1264154</td>\n",
              "<td>3.3861839</td>\n",
              "<td>17.0273041</td></tr>\n",
              "<tr><td></td>\n",
              "<td>2019-04-26 15:29:12</td>\n",
              "<td>38 min 18.856 sec</td>\n",
              "<td>32.0</td>\n",
              "<td>4.1143312</td>\n",
              "<td>3.3739131</td>\n",
              "<td>16.9277214</td>\n",
              "<td>4.1144571</td>\n",
              "<td>3.3762687</td>\n",
              "<td>16.9287573</td></tr>\n",
              "<tr><td></td>\n",
              "<td>2019-04-26 15:29:21</td>\n",
              "<td>38 min 27.544 sec</td>\n",
              "<td>35.0</td>\n",
              "<td>4.1024074</td>\n",
              "<td>3.3640396</td>\n",
              "<td>16.8297462</td>\n",
              "<td>4.1025349</td>\n",
              "<td>3.3663911</td>\n",
              "<td>16.8307925</td></tr>\n",
              "<tr><td></td>\n",
              "<td>2019-04-26 15:29:30</td>\n",
              "<td>38 min 36.363 sec</td>\n",
              "<td>38.0</td>\n",
              "<td>4.0905185</td>\n",
              "<td>3.3541884</td>\n",
              "<td>16.7323413</td>\n",
              "<td>4.0906507</td>\n",
              "<td>3.3565370</td>\n",
              "<td>16.7334229</td></tr>\n",
              "<tr><td></td>\n",
              "<td>2019-04-26 15:29:39</td>\n",
              "<td>38 min 45.557 sec</td>\n",
              "<td>41.0</td>\n",
              "<td>4.0786665</td>\n",
              "<td>3.3443735</td>\n",
              "<td>16.6355203</td>\n",
              "<td>4.0787999</td>\n",
              "<td>3.3467175</td>\n",
              "<td>16.6366088</td></tr>\n",
              "<tr><td></td>\n",
              "<td>2019-04-26 15:29:47</td>\n",
              "<td>38 min 53.995 sec</td>\n",
              "<td>44.0</td>\n",
              "<td>4.0668491</td>\n",
              "<td>3.3345766</td>\n",
              "<td>16.5392614</td>\n",
              "<td>4.0669852</td>\n",
              "<td>3.3369162</td>\n",
              "<td>16.5403683</td></tr>\n",
              "<tr><td></td>\n",
              "<td>2019-04-26 15:29:56</td>\n",
              "<td>39 min  2.617 sec</td>\n",
              "<td>47.0</td>\n",
              "<td>4.0550680</td>\n",
              "<td>3.3248171</td>\n",
              "<td>16.4435765</td>\n",
              "<td>4.0552054</td>\n",
              "<td>3.3271525</td>\n",
              "<td>16.4446910</td></tr>\n",
              "<tr><td></td>\n",
              "<td>2019-04-26 15:30:05</td>\n",
              "<td>39 min 11.411 sec</td>\n",
              "<td>50.0</td>\n",
              "<td>4.0433229</td>\n",
              "<td>3.3150863</td>\n",
              "<td>16.3484602</td>\n",
              "<td>4.0434613</td>\n",
              "<td>3.3174181</td>\n",
              "<td>16.3495789</td></tr></table></div>"
            ],
            "text/plain": [
              "    timestamp            duration           number_of_trees    training_rmse    training_mae    training_deviance    validation_rmse    validation_mae    validation_deviance\n",
              "--  -------------------  -----------------  -----------------  ---------------  --------------  -------------------  -----------------  ----------------  ---------------------\n",
              "    2019-04-26 15:27:35  36 min 41.029 sec  0                  4.24381          3.48113         18.0099              4.24387            3.4835            18.0104\n",
              "    2019-04-26 15:27:52  36 min 58.483 sec  5                  4.2233           3.46415         17.8362              4.22337            3.46652           17.8369\n",
              "    2019-04-26 15:28:01  37 min  7.853 sec  8                  4.21104          3.45401         17.7329              4.21112            3.45637           17.7336\n",
              "    2019-04-26 15:28:10  37 min 16.624 sec  11                 4.19882          3.44389         17.6301              4.19891            3.44626           17.6309\n",
              "    2019-04-26 15:28:19  37 min 25.830 sec  14                 4.18664          3.43381         17.528               4.18674            3.43617           17.5288\n",
              "    2019-04-26 15:28:28  37 min 34.443 sec  17                 4.1745           3.42375         17.4264              4.1746             3.42612           17.4273\n",
              "    2019-04-26 15:28:36  37 min 42.752 sec  20                 4.16239          3.41372         17.3255              4.1625             3.41609           17.3264\n",
              "    2019-04-26 15:28:45  37 min 51.319 sec  23                 4.15032          3.40373         17.2252              4.15044            3.40609           17.2261\n",
              "    2019-04-26 15:28:54  38 min  0.263 sec  26                 4.13829          3.39376         17.1254              4.13841            3.39612           17.1264\n",
              "    2019-04-26 15:29:03  38 min  9.594 sec  29                 4.12629          3.38382         17.0263              4.12642            3.38618           17.0273\n",
              "    2019-04-26 15:29:12  38 min 18.856 sec  32                 4.11433          3.37391         16.9277              4.11446            3.37627           16.9288\n",
              "    2019-04-26 15:29:21  38 min 27.544 sec  35                 4.10241          3.36404         16.8297              4.10253            3.36639           16.8308\n",
              "    2019-04-26 15:29:30  38 min 36.363 sec  38                 4.09052          3.35419         16.7323              4.09065            3.35654           16.7334\n",
              "    2019-04-26 15:29:39  38 min 45.557 sec  41                 4.07867          3.34437         16.6355              4.0788             3.34672           16.6366\n",
              "    2019-04-26 15:29:47  38 min 53.995 sec  44                 4.06685          3.33458         16.5393              4.06699            3.33692           16.5404\n",
              "    2019-04-26 15:29:56  39 min  2.617 sec  47                 4.05507          3.32482         16.4436              4.05521            3.32715           16.4447\n",
              "    2019-04-26 15:30:05  39 min 11.411 sec  50                 4.04332          3.31509         16.3485              4.04346            3.31742           16.3496"
            ]
          },
          "metadata": {
            "tags": []
          }
        },
        {
          "output_type": "stream",
          "text": [
            "Variable Importances: \n"
          ],
          "name": "stdout"
        },
        {
          "output_type": "display_data",
          "data": {
            "text/html": [
              "<div style=\"overflow:auto\"><table style=\"width:50%\"><tr><td><b>variable</b></td>\n",
              "<td><b>relative_importance</b></td>\n",
              "<td><b>scaled_importance</b></td>\n",
              "<td><b>percentage</b></td></tr>\n",
              "<tr><td>R_TEMP</td>\n",
              "<td>532408896.0000000</td>\n",
              "<td>1.0</td>\n",
              "<td>1.0</td></tr>\n",
              "<tr><td>Cst_Cnt</td>\n",
              "<td>0.0</td>\n",
              "<td>0.0</td>\n",
              "<td>0.0</td></tr>\n",
              "<tr><td>Btl_Cnt</td>\n",
              "<td>0.0</td>\n",
              "<td>0.0</td>\n",
              "<td>0.0</td></tr>\n",
              "<tr><td>Sta_ID</td>\n",
              "<td>0.0</td>\n",
              "<td>0.0</td>\n",
              "<td>0.0</td></tr>\n",
              "<tr><td>Depthm</td>\n",
              "<td>0.0</td>\n",
              "<td>0.0</td>\n",
              "<td>0.0</td></tr>\n",
              "<tr><td>---</td>\n",
              "<td>---</td>\n",
              "<td>---</td>\n",
              "<td>---</td></tr>\n",
              "<tr><td>DIC2</td>\n",
              "<td>0.0</td>\n",
              "<td>0.0</td>\n",
              "<td>0.0</td></tr>\n",
              "<tr><td>TA1</td>\n",
              "<td>0.0</td>\n",
              "<td>0.0</td>\n",
              "<td>0.0</td></tr>\n",
              "<tr><td>TA2</td>\n",
              "<td>0.0</td>\n",
              "<td>0.0</td>\n",
              "<td>0.0</td></tr>\n",
              "<tr><td>pH2</td>\n",
              "<td>0.0</td>\n",
              "<td>0.0</td>\n",
              "<td>0.0</td></tr>\n",
              "<tr><td>pH1</td>\n",
              "<td>0.0</td>\n",
              "<td>0.0</td>\n",
              "<td>0.0</td></tr></table></div>"
            ],
            "text/plain": [
              "variable    relative_importance    scaled_importance    percentage\n",
              "----------  ---------------------  -------------------  ------------\n",
              "R_TEMP      532408896.0            1.0                  1.0\n",
              "Cst_Cnt     0.0                    0.0                  0.0\n",
              "Btl_Cnt     0.0                    0.0                  0.0\n",
              "Sta_ID      0.0                    0.0                  0.0\n",
              "Depthm      0.0                    0.0                  0.0\n",
              "---         ---                    ---                  ---\n",
              "DIC2        0.0                    0.0                  0.0\n",
              "TA1         0.0                    0.0                  0.0\n",
              "TA2         0.0                    0.0                  0.0\n",
              "pH2         0.0                    0.0                  0.0\n",
              "pH1         0.0                    0.0                  0.0"
            ]
          },
          "metadata": {
            "tags": []
          }
        },
        {
          "output_type": "stream",
          "text": [
            "\n",
            "See the whole table with table.as_data_frame()\n"
          ],
          "name": "stdout"
        },
        {
          "output_type": "execute_result",
          "data": {
            "text/plain": [
              ""
            ]
          },
          "metadata": {
            "tags": []
          },
          "execution_count": 15
        }
      ]
    },
    {
      "metadata": {
        "id": "G35S8LvFgtQK",
        "colab_type": "text"
      },
      "cell_type": "markdown",
      "source": [
        "**For GLM**:importing csv files into the dataframe."
      ]
    },
    {
      "metadata": {
        "id": "nkDOCsmzZn_Q",
        "colab_type": "code",
        "colab": {}
      },
      "cell_type": "code",
      "source": [
        "glm_params1 = { 'max_runtime_secs': [0.0, 0.0],\n",
        " #'max_after_balance_size': [5.0, 5.0],\n",
        " 'seed': [-8.93342e+18, 1.929825150468839e+18],\n",
        " #'max_iterations': [300.0, 300.0],\n",
        " 'tweedie_variance_power': [0.0, 0.0],\n",
        " 'tweedie_link_power': [1.0, 1.0]}"
      ],
      "execution_count": 0,
      "outputs": []
    },
    {
      "metadata": {
        "id": "-OBuDmc5gh8w",
        "colab_type": "code",
        "colab": {}
      },
      "cell_type": "code",
      "source": [
        "from h2o.estimators import H2ORandomForestEstimator\n",
        "from h2o.estimators import H2OGeneralizedLinearEstimator\n",
        "from h2o.grid.grid_search import H2OGridSearch\n",
        "# Train and validate a cartesian grid of GBMs\n",
        "glm_grid1 = H2OGridSearch(model=H2OGeneralizedLinearEstimator,\n",
        "                         grid_id='glm',\n",
        "                         hyper_params=glm_params1)"
      ],
      "execution_count": 0,
      "outputs": []
    },
    {
      "metadata": {
        "id": "3f2_QLwHiAnZ",
        "colab_type": "code",
        "colab": {
          "base_uri": "https://localhost:8080/",
          "height": 34
        },
        "outputId": "8e88787b-70df-4ba2-f5bc-4fed77dbd2d0"
      },
      "cell_type": "code",
      "source": [
        "# Load data into H2O\n",
        "df2 = h2o.import_file(\"bottle.csv\")\n",
        "X = df2.columns\n",
        "y = \"T_degC\"\n",
        "X.remove(y)"
      ],
      "execution_count": 22,
      "outputs": [
        {
          "output_type": "stream",
          "text": [
            "Parse progress: |█████████████████████████████████████████████████████████| 100%\n"
          ],
          "name": "stdout"
        }
      ]
    },
    {
      "metadata": {
        "id": "BZkXjQ-bgnpH",
        "colab_type": "code",
        "colab": {
          "base_uri": "https://localhost:8080/",
          "height": 34
        },
        "outputId": "73b91ded-a780-4a11-f9cb-93967644a812"
      },
      "cell_type": "code",
      "source": [
        "glm_grid1.train(X,y, training_frame=df2)"
      ],
      "execution_count": 23,
      "outputs": [
        {
          "output_type": "stream",
          "text": [
            "glm Grid Build progress: |████████████████████████████████████████████████| 100%\n"
          ],
          "name": "stdout"
        }
      ]
    },
    {
      "metadata": {
        "id": "Qq_TFFaOms3L",
        "colab_type": "code",
        "colab": {
          "base_uri": "https://localhost:8080/",
          "height": 136
        },
        "outputId": "7d691ea2-fbd2-4231-c8ae-9c627d840ce7"
      },
      "cell_type": "code",
      "source": [
        "glm_best = glm_grid1.get_grid(sort_by='mse', decreasing=True)\n",
        "glm_best"
      ],
      "execution_count": 25,
      "outputs": [
        {
          "output_type": "stream",
          "text": [
            "           max_runtime_secs                  seed tweedie_link_power  \\\n",
            "0    1.7976931348623157E308   1929825150468838910                1.0   \n",
            "1    1.7976931348623157E308  -8933420000000000000                1.0   \n",
            "\n",
            "  tweedie_variance_power    model_ids                   mse  \n",
            "0                    0.0  glm_model_3  0.005134416198101295  \n",
            "1                    0.0  glm_model_1  0.005134416198101295  \n"
          ],
          "name": "stdout"
        },
        {
          "output_type": "execute_result",
          "data": {
            "text/plain": [
              ""
            ]
          },
          "metadata": {
            "tags": []
          },
          "execution_count": 25
        }
      ]
    },
    {
      "metadata": {
        "id": "05T0L0nam0lG",
        "colab_type": "code",
        "colab": {
          "base_uri": "https://localhost:8080/",
          "height": 435
        },
        "outputId": "9aa0cd1c-064d-4a30-c40b-a607c606a688"
      },
      "cell_type": "code",
      "source": [
        "best_glm = glm_best.models[0]\n",
        "best_glm"
      ],
      "execution_count": 26,
      "outputs": [
        {
          "output_type": "stream",
          "text": [
            "Model Details\n",
            "=============\n",
            "H2OGeneralizedLinearEstimator :  Generalized Linear Modeling\n",
            "Model Key:  glm_model_3\n",
            "\n",
            "\n",
            "ModelMetricsRegressionGLM: glm\n",
            "** Reported on train data. **\n",
            "\n",
            "MSE: 0.005134416198101295\n",
            "RMSE: 0.07165484071646029\n",
            "MAE: 0.02828093812584049\n",
            "RMSLE: 0.011520900428912201\n",
            "R^2: 0.9997149134585768\n",
            "Mean Residual Deviance: 0.005134416198101295\n",
            "Null degrees of freedom: 853899\n",
            "Residual degrees of freedom: 853886\n",
            "Null deviance: 15378761.7250122\n",
            "Residual deviance: 4384.277991558696\n",
            "AIC: -2078287.513486648\n",
            "Scoring History: \n"
          ],
          "name": "stdout"
        },
        {
          "output_type": "display_data",
          "data": {
            "text/html": [
              "<div style=\"overflow:auto\"><table style=\"width:50%\"><tr><td><b></b></td>\n",
              "<td><b>timestamp</b></td>\n",
              "<td><b>duration</b></td>\n",
              "<td><b>iterations</b></td>\n",
              "<td><b>negative_log_likelihood</b></td>\n",
              "<td><b>objective</b></td></tr>\n",
              "<tr><td></td>\n",
              "<td>2019-04-26 21:37:40</td>\n",
              "<td> 0.000 sec</td>\n",
              "<td>0</td>\n",
              "<td>15378761.7241286</td>\n",
              "<td>17.7817316</td></tr></table></div>"
            ],
            "text/plain": [
              "    timestamp            duration    iterations    negative_log_likelihood    objective\n",
              "--  -------------------  ----------  ------------  -------------------------  -----------\n",
              "    2019-04-26 21:37:40  0.000 sec   0             1.53788e+07                17.7817"
            ]
          },
          "metadata": {
            "tags": []
          }
        },
        {
          "output_type": "execute_result",
          "data": {
            "text/plain": [
              ""
            ]
          },
          "metadata": {
            "tags": []
          },
          "execution_count": 26
        }
      ]
    },
    {
      "metadata": {
        "id": "2tKEkJt1ve_9",
        "colab_type": "text"
      },
      "cell_type": "markdown",
      "source": [
        "**For DRF:**importing csv files into the dataframe."
      ]
    },
    {
      "metadata": {
        "id": "wWTTFI1EjUIM",
        "colab_type": "code",
        "colab": {}
      },
      "cell_type": "code",
      "source": [
        "drf_params1 = { 'mtries': [-1.0, -1.0]}"
      ],
      "execution_count": 0,
      "outputs": []
    },
    {
      "metadata": {
        "id": "7_R-ueovjUgH",
        "colab_type": "code",
        "colab": {}
      },
      "cell_type": "code",
      "source": [
        "from h2o.estimators import H2ORandomForestEstimator\n",
        "from h2o.estimators import H2OGeneralizedLinearEstimator\n",
        "from h2o.grid.grid_search import H2OGridSearch\n",
        "# Train and validate a cartesian grid of GBMs\n",
        "drf_grid1 = H2OGridSearch(model=H2ORandomForestEstimator,\n",
        "                         grid_id='drf',\n",
        "                         hyper_params=drf_params1)"
      ],
      "execution_count": 0,
      "outputs": []
    },
    {
      "metadata": {
        "id": "DEGwVAMYjUuF",
        "colab_type": "code",
        "colab": {
          "base_uri": "https://localhost:8080/",
          "height": 34
        },
        "outputId": "bfddb225-d95b-4b8c-f665-a78224d306d2"
      },
      "cell_type": "code",
      "source": [
        "# Load data into H2O\n",
        "df2 = h2o.import_file(\"bottle.csv\")\n",
        "X = df2.columns\n",
        "y = \"T_degC\"\n",
        "X.remove(y)"
      ],
      "execution_count": 29,
      "outputs": [
        {
          "output_type": "stream",
          "text": [
            "Parse progress: |█████████████████████████████████████████████████████████| 100%\n"
          ],
          "name": "stdout"
        }
      ]
    },
    {
      "metadata": {
        "id": "2TVl04LDlgAX",
        "colab_type": "code",
        "colab": {
          "base_uri": "https://localhost:8080/",
          "height": 34
        },
        "outputId": "6a643de9-9b12-4737-f064-e18a44561db8"
      },
      "cell_type": "code",
      "source": [
        "drf_grid1.train(X,y, training_frame=df2)"
      ],
      "execution_count": 30,
      "outputs": [
        {
          "output_type": "stream",
          "text": [
            "drf Grid Build progress: |████████████████████████████████████████████████| 100%\n"
          ],
          "name": "stdout"
        }
      ]
    },
    {
      "metadata": {
        "id": "TSW6IglbnWsS",
        "colab_type": "code",
        "colab": {
          "base_uri": "https://localhost:8080/",
          "height": 51
        },
        "outputId": "29969eb6-c479-4588-dc8d-105c57881ddc"
      },
      "cell_type": "code",
      "source": [
        "drf_best = drf_grid1.get_grid(sort_by='mse', decreasing=True)\n",
        "drf_best"
      ],
      "execution_count": 31,
      "outputs": [
        {
          "output_type": "stream",
          "text": [
            "    mtries    model_ids                   mse\n",
            "0       -1  drf_model_1  6.898143442307281E-4\n"
          ],
          "name": "stdout"
        },
        {
          "output_type": "execute_result",
          "data": {
            "text/plain": [
              ""
            ]
          },
          "metadata": {
            "tags": []
          },
          "execution_count": 31
        }
      ]
    },
    {
      "metadata": {
        "id": "3Uh6ycJIns0s",
        "colab_type": "code",
        "colab": {
          "base_uri": "https://localhost:8080/",
          "height": 1239
        },
        "outputId": "89b5418d-7279-4e45-ab9d-24a010925311"
      },
      "cell_type": "code",
      "source": [
        "best_drf = drf_best.models[0]\n",
        "best_drf"
      ],
      "execution_count": 32,
      "outputs": [
        {
          "output_type": "stream",
          "text": [
            "Model Details\n",
            "=============\n",
            "H2ORandomForestEstimator :  Distributed Random Forest\n",
            "Model Key:  drf_model_1\n",
            "\n",
            "\n",
            "ModelMetricsRegression: drf\n",
            "** Reported on train data. **\n",
            "\n",
            "MSE: 0.0006898143442307281\n",
            "RMSE: 0.026264316938209683\n",
            "MAE: 0.004679474804337884\n",
            "RMSLE: 0.0020165709021871528\n",
            "Mean Residual Deviance: 0.0006898143442307281\n",
            "Scoring History: \n"
          ],
          "name": "stdout"
        },
        {
          "output_type": "display_data",
          "data": {
            "text/html": [
              "<div style=\"overflow:auto\"><table style=\"width:50%\"><tr><td><b></b></td>\n",
              "<td><b>timestamp</b></td>\n",
              "<td><b>duration</b></td>\n",
              "<td><b>number_of_trees</b></td>\n",
              "<td><b>training_rmse</b></td>\n",
              "<td><b>training_mae</b></td>\n",
              "<td><b>training_deviance</b></td></tr>\n",
              "<tr><td></td>\n",
              "<td>2019-04-26 21:46:41</td>\n",
              "<td> 0.032 sec</td>\n",
              "<td>0.0</td>\n",
              "<td>nan</td>\n",
              "<td>nan</td>\n",
              "<td>nan</td></tr>\n",
              "<tr><td></td>\n",
              "<td>2019-04-26 21:47:17</td>\n",
              "<td>36.321 sec</td>\n",
              "<td>1.0</td>\n",
              "<td>0.0484740</td>\n",
              "<td>0.0054714</td>\n",
              "<td>0.0023497</td></tr>\n",
              "<tr><td></td>\n",
              "<td>2019-04-26 21:47:40</td>\n",
              "<td>59.191 sec</td>\n",
              "<td>2.0</td>\n",
              "<td>0.0408014</td>\n",
              "<td>0.0042972</td>\n",
              "<td>0.0016648</td></tr>\n",
              "<tr><td></td>\n",
              "<td>2019-04-26 21:48:03</td>\n",
              "<td> 1 min 22.709 sec</td>\n",
              "<td>3.0</td>\n",
              "<td>0.0388120</td>\n",
              "<td>0.0041515</td>\n",
              "<td>0.0015064</td></tr>\n",
              "<tr><td></td>\n",
              "<td>2019-04-26 21:48:26</td>\n",
              "<td> 1 min 45.896 sec</td>\n",
              "<td>4.0</td>\n",
              "<td>0.0335068</td>\n",
              "<td>0.0039113</td>\n",
              "<td>0.0011227</td></tr>\n",
              "<tr><td>---</td>\n",
              "<td>---</td>\n",
              "<td>---</td>\n",
              "<td>---</td>\n",
              "<td>---</td>\n",
              "<td>---</td>\n",
              "<td>---</td></tr>\n",
              "<tr><td></td>\n",
              "<td>2019-04-26 22:04:22</td>\n",
              "<td>17 min 41.204 sec</td>\n",
              "<td>46.0</td>\n",
              "<td>0.0272297</td>\n",
              "<td>0.0048087</td>\n",
              "<td>0.0007415</td></tr>\n",
              "<tr><td></td>\n",
              "<td>2019-04-26 22:04:46</td>\n",
              "<td>18 min  5.017 sec</td>\n",
              "<td>47.0</td>\n",
              "<td>0.0271027</td>\n",
              "<td>0.0047401</td>\n",
              "<td>0.0007346</td></tr>\n",
              "<tr><td></td>\n",
              "<td>2019-04-26 22:05:06</td>\n",
              "<td>18 min 25.007 sec</td>\n",
              "<td>48.0</td>\n",
              "<td>0.0267061</td>\n",
              "<td>0.0046691</td>\n",
              "<td>0.0007132</td></tr>\n",
              "<tr><td></td>\n",
              "<td>2019-04-26 22:05:30</td>\n",
              "<td>18 min 49.460 sec</td>\n",
              "<td>49.0</td>\n",
              "<td>0.0262328</td>\n",
              "<td>0.0046296</td>\n",
              "<td>0.0006882</td></tr>\n",
              "<tr><td></td>\n",
              "<td>2019-04-26 22:05:49</td>\n",
              "<td>19 min  8.048 sec</td>\n",
              "<td>50.0</td>\n",
              "<td>0.0262643</td>\n",
              "<td>0.0046795</td>\n",
              "<td>0.0006898</td></tr></table></div>"
            ],
            "text/plain": [
              "     timestamp            duration           number_of_trees    training_rmse         training_mae           training_deviance\n",
              "---  -------------------  -----------------  -----------------  --------------------  ---------------------  ---------------------\n",
              "     2019-04-26 21:46:41  0.032 sec          0.0                nan                   nan                    nan\n",
              "     2019-04-26 21:47:17  36.321 sec         1.0                0.04847395564593441   0.00547135685839257    0.0023497243759640165\n",
              "     2019-04-26 21:47:40  59.191 sec         2.0                0.040801379848574286  0.004297173906708278   0.0016647525975476438\n",
              "     2019-04-26 21:48:03  1 min 22.709 sec   3.0                0.038811960292638045  0.0041514901425557145  0.0015063682617573126\n",
              "     2019-04-26 21:48:26  1 min 45.896 sec   4.0                0.03350684038637928   0.003911317624393318   0.0011227083526782974\n",
              "---  ---                  ---                ---                ---                   ---                    ---\n",
              "     2019-04-26 22:04:22  17 min 41.204 sec  46.0               0.027229651013508417  0.004808662997010338   0.00074145389431746\n",
              "     2019-04-26 22:04:46  18 min  5.017 sec  47.0               0.02710265769762446   0.004740071056247393   0.0007345540542746024\n",
              "     2019-04-26 22:05:06  18 min 25.007 sec  48.0               0.026706147374485775  0.00466912234045591    0.0007132183075877535\n",
              "     2019-04-26 22:05:30  18 min 49.460 sec  49.0               0.02623281552799333   0.0046296343430460105  0.000688160610525728\n",
              "     2019-04-26 22:05:49  19 min  8.048 sec  50.0               0.026264316938209683  0.004679474804337884   0.0006898143442307281"
            ]
          },
          "metadata": {
            "tags": []
          }
        },
        {
          "output_type": "stream",
          "text": [
            "\n",
            "See the whole table with table.as_data_frame()\n",
            "Variable Importances: \n"
          ],
          "name": "stdout"
        },
        {
          "output_type": "display_data",
          "data": {
            "text/html": [
              "<div style=\"overflow:auto\"><table style=\"width:50%\"><tr><td><b>variable</b></td>\n",
              "<td><b>relative_importance</b></td>\n",
              "<td><b>scaled_importance</b></td>\n",
              "<td><b>percentage</b></td></tr>\n",
              "<tr><td>R_TEMP</td>\n",
              "<td>250028336.0000000</td>\n",
              "<td>1.0</td>\n",
              "<td>0.3628909</td></tr>\n",
              "<tr><td>R_SVA</td>\n",
              "<td>146138896.0000000</td>\n",
              "<td>0.5844893</td>\n",
              "<td>0.2121058</td></tr>\n",
              "<tr><td>R_POTEMP</td>\n",
              "<td>114683520.0000000</td>\n",
              "<td>0.4586821</td>\n",
              "<td>0.1664515</td></tr>\n",
              "<tr><td>R_SIGMA</td>\n",
              "<td>57247208.0000000</td>\n",
              "<td>0.2289629</td>\n",
              "<td>0.0830885</td></tr>\n",
              "<tr><td>STheta</td>\n",
              "<td>44639352.0000000</td>\n",
              "<td>0.1785372</td>\n",
              "<td>0.0647895</td></tr>\n",
              "<tr><td>---</td>\n",
              "<td>---</td>\n",
              "<td>---</td>\n",
              "<td>---</td></tr>\n",
              "<tr><td>P_qual</td>\n",
              "<td>0.0179088</td>\n",
              "<td>0.0000000</td>\n",
              "<td>0.0000000</td></tr>\n",
              "<tr><td>TA2</td>\n",
              "<td>0.0005669</td>\n",
              "<td>0.0000000</td>\n",
              "<td>0.0000000</td></tr>\n",
              "<tr><td>DIC2</td>\n",
              "<td>0.0003010</td>\n",
              "<td>0.0000000</td>\n",
              "<td>0.0000000</td></tr>\n",
              "<tr><td>pH1</td>\n",
              "<td>0.0001450</td>\n",
              "<td>0.0000000</td>\n",
              "<td>0.0000000</td></tr>\n",
              "<tr><td>pH2</td>\n",
              "<td>0.0</td>\n",
              "<td>0.0</td>\n",
              "<td>0.0</td></tr></table></div>"
            ],
            "text/plain": [
              "variable    relative_importance     scaled_importance       percentage\n",
              "----------  ----------------------  ----------------------  ----------------------\n",
              "R_TEMP      250028336.0             1.0                     0.36289086438817764\n",
              "R_SVA       146138896.0             0.5844893356407411      0.21210584023634024\n",
              "R_POTEMP    114683520.0             0.45868209113706215     0.16645154053210537\n",
              "R_SIGMA     57247208.0              0.2289628804312804      0.0830885375925143\n",
              "STheta      44639352.0              0.1785371718827901      0.06478950862996635\n",
              "---         ---                     ---                     ---\n",
              "P_qual      0.017908815294504166    7.162714267115775e-11   2.5992835717591758e-11\n",
              "TA2         0.0005668838275596499   2.267278327843809e-12   8.227745921998218e-13\n",
              "DIC2        0.00030103951576165855  1.2040215944230359e-12  4.3692843714220737e-13\n",
              "pH1         0.0001449681876692921   5.798070330288167e-13   2.10406675394172e-13\n",
              "pH2         0.0                     0.0                     0.0"
            ]
          },
          "metadata": {
            "tags": []
          }
        },
        {
          "output_type": "stream",
          "text": [
            "\n",
            "See the whole table with table.as_data_frame()\n"
          ],
          "name": "stdout"
        },
        {
          "output_type": "execute_result",
          "data": {
            "text/plain": [
              ""
            ]
          },
          "metadata": {
            "tags": []
          },
          "execution_count": 32
        }
      ]
    },
    {
      "metadata": {
        "id": "bbpcF7gZI2zB",
        "colab_type": "text"
      },
      "cell_type": "markdown",
      "source": [
        "#Conclusion:\n",
        "Found the range of hyperparamentes for every model generated for each runtime.\n",
        "\n",
        "The H2O was run on the data set to obtain the parameters for the various algorithms for different run times.\n",
        "\n",
        "Compare the range of values across the models for different hyperparameters.\n",
        "\n",
        "The Grid Search technique was then performed on the GBM to find out the best hyperparameter for the best performing model."
      ]
    },
    {
      "metadata": {
        "id": "Mu3GCqE8Id-N",
        "colab_type": "text"
      },
      "cell_type": "markdown",
      "source": [
        "# Contributions:\n",
        "Percentage of code contributed individually for this project: 60%\n",
        "Percentage of code borrowed from other sources: 40%"
      ]
    },
    {
      "metadata": {
        "id": "Ux9sSuFMIpDA",
        "colab_type": "text"
      },
      "cell_type": "markdown",
      "source": [
        "# Citations:\n",
        "http://docs.h2o.ai/h2o/latest-stable/h2o-docs/grid-search.html\n",
        "\n",
        "http://docs.h2o.ai/h2o/latest-stable/h2o-docs/faq/python.html"
      ]
    },
    {
      "metadata": {
        "id": "Ry2t-DS9IhYN",
        "colab_type": "text"
      },
      "cell_type": "markdown",
      "source": [
        "#License:\n",
        "Copyright <2019> FNU Karan\n",
        "\n",
        "Permission is hereby granted, free of charge, to any person obtaining a copy of this software and associated documentation files (the \"Software\"), to deal in the Software without restriction, including without limitation the rights to use, copy, modify, merge, publish, distribute, sublicense, and/or sell copies of the Software, and to permit persons to whom the Software is furnished to do so, subject to the following conditions:\n",
        "The above copyright notice and this permission notice shall be included in all copies or substantial portions of the Software.\n",
        "THE SOFTWARE IS PROVIDED \"AS IS\", WITHOUT WARRANTY OF ANY KIND, EXPRESS OR IMPLIED, INCLUDING BUT NOT LIMITED TO THE WARRANTIES OF MERCHANTABILITY, FITNESS FOR A PARTICULAR PURPOSE AND NONINFRINGEMENT. IN NO EVENT SHALL THE AUTHORS OR COPYRIGHT HOLDERS BE LIABLE FOR ANY CLAIM, DAMAGES OR OTHER LIABILITY, WHETHER IN AN ACTION OF CONTRACT, TORT OR OTHERWISE, ARISING FROM, OUT OF OR IN CONNECTION WITH THE SOFTWARE OR THE USE OR OTHER DEALINGS IN THE SOFTWARE."
      ]
    }
  ]
}