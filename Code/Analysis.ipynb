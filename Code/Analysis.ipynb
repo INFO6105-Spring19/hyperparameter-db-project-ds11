{
  "nbformat": 4,
  "nbformat_minor": 0,
  "metadata": {
    "colab": {
      "name": "Analysis.ipynb",
      "version": "0.3.2",
      "provenance": []
    },
    "kernelspec": {
      "name": "python3",
      "display_name": "Python 3"
    }
  },
  "cells": [
    {
      "metadata": {
        "id": "MQgReJJGUReF",
        "colab_type": "text"
      },
      "cell_type": "markdown",
      "source": [
        "# Analysis"
      ]
    },
    {
      "metadata": {
        "id": "r8GNFokJUNfK",
        "colab_type": "text"
      },
      "cell_type": "markdown",
      "source": [
        "## **1) Finding range of hyperparameters**"
      ]
    },
    {
      "metadata": {
        "id": "weI9tGTxUrOp",
        "colab_type": "text"
      },
      "cell_type": "markdown",
      "source": [
        "Aim is to find the range of hyperparamentes for every model generated for each runtime."
      ]
    },
    {
      "metadata": {
        "id": "NA8W0fL4VG-2",
        "colab_type": "text"
      },
      "cell_type": "markdown",
      "source": [
        "Installing h20"
      ]
    },
    {
      "metadata": {
        "id": "iLknWiZFgqOY",
        "colab_type": "code",
        "outputId": "a7be5146-15ec-4576-c622-af48b7adc87c",
        "colab": {
          "base_uri": "https://localhost:8080/",
          "height": 343
        }
      },
      "cell_type": "code",
      "source": [
        "!pip install h2o"
      ],
      "execution_count": 0,
      "outputs": [
        {
          "output_type": "stream",
          "text": [
            "Collecting h2o\n",
            "\u001b[?25l  Downloading https://files.pythonhosted.org/packages/37/41/78f43cbe3caf4e7ae5fa622c0dc2a5dba820319cd36aa7f96ed40fcb8271/h2o-3.24.0.2.tar.gz (121.0MB)\n",
            "\u001b[K    100% |████████████████████████████████| 121.0MB 207kB/s \n",
            "\u001b[?25hRequirement already satisfied: requests in /usr/local/lib/python3.6/dist-packages (from h2o) (2.21.0)\n",
            "Requirement already satisfied: tabulate in /usr/local/lib/python3.6/dist-packages (from h2o) (0.8.3)\n",
            "Requirement already satisfied: future in /usr/local/lib/python3.6/dist-packages (from h2o) (0.16.0)\n",
            "Collecting colorama>=0.3.8 (from h2o)\n",
            "  Downloading https://files.pythonhosted.org/packages/4f/a6/728666f39bfff1719fc94c481890b2106837da9318031f71a8424b662e12/colorama-0.4.1-py2.py3-none-any.whl\n",
            "Requirement already satisfied: idna<2.9,>=2.5 in /usr/local/lib/python3.6/dist-packages (from requests->h2o) (2.8)\n",
            "Requirement already satisfied: urllib3<1.25,>=1.21.1 in /usr/local/lib/python3.6/dist-packages (from requests->h2o) (1.24.2)\n",
            "Requirement already satisfied: certifi>=2017.4.17 in /usr/local/lib/python3.6/dist-packages (from requests->h2o) (2019.3.9)\n",
            "Requirement already satisfied: chardet<3.1.0,>=3.0.2 in /usr/local/lib/python3.6/dist-packages (from requests->h2o) (3.0.4)\n",
            "Building wheels for collected packages: h2o\n",
            "  Building wheel for h2o (setup.py) ... \u001b[?25ldone\n",
            "\u001b[?25h  Stored in directory: /root/.cache/pip/wheels/e9/92/d1/61cddd17defd8ba2a10400d2b3adf917377769610d904c279d\n",
            "Successfully built h2o\n",
            "Installing collected packages: colorama, h2o\n",
            "Successfully installed colorama-0.4.1 h2o-3.24.0.2\n"
          ],
          "name": "stdout"
        }
      ]
    },
    {
      "metadata": {
        "id": "YErB0pKuVJ2f",
        "colab_type": "text"
      },
      "cell_type": "markdown",
      "source": [
        "Importing h2o and H2oAutoML libraries."
      ]
    },
    {
      "metadata": {
        "id": "T6DYu0z5gtUr",
        "colab_type": "code",
        "outputId": "3c91ee37-6860-4b94-9255-4fbb1eac7c3c",
        "colab": {
          "base_uri": "https://localhost:8080/",
          "height": 440
        }
      },
      "cell_type": "code",
      "source": [
        "import h2o\n",
        "from h2o.automl import H2OAutoML\n",
        "import json\n",
        "h2o.init()"
      ],
      "execution_count": 0,
      "outputs": [
        {
          "output_type": "stream",
          "text": [
            "Checking whether there is an H2O instance running at http://localhost:54321 . connected.\n"
          ],
          "name": "stdout"
        },
        {
          "output_type": "display_data",
          "data": {
            "text/html": [
              "<div style=\"overflow:auto\"><table style=\"width:50%\"><tr><td>H2O cluster uptime:</td>\n",
              "<td>04 secs</td></tr>\n",
              "<tr><td>H2O cluster timezone:</td>\n",
              "<td>Etc/UTC</td></tr>\n",
              "<tr><td>H2O data parsing timezone:</td>\n",
              "<td>UTC</td></tr>\n",
              "<tr><td>H2O cluster version:</td>\n",
              "<td>3.24.0.2</td></tr>\n",
              "<tr><td>H2O cluster version age:</td>\n",
              "<td>9 days </td></tr>\n",
              "<tr><td>H2O cluster name:</td>\n",
              "<td>H2O_from_python_unknownUser_6ito39</td></tr>\n",
              "<tr><td>H2O cluster total nodes:</td>\n",
              "<td>1</td></tr>\n",
              "<tr><td>H2O cluster free memory:</td>\n",
              "<td>3 Gb</td></tr>\n",
              "<tr><td>H2O cluster total cores:</td>\n",
              "<td>2</td></tr>\n",
              "<tr><td>H2O cluster allowed cores:</td>\n",
              "<td>2</td></tr>\n",
              "<tr><td>H2O cluster status:</td>\n",
              "<td>locked, healthy</td></tr>\n",
              "<tr><td>H2O connection url:</td>\n",
              "<td>http://localhost:54321</td></tr>\n",
              "<tr><td>H2O connection proxy:</td>\n",
              "<td>None</td></tr>\n",
              "<tr><td>H2O internal security:</td>\n",
              "<td>False</td></tr>\n",
              "<tr><td>H2O API Extensions:</td>\n",
              "<td>Amazon S3, XGBoost, Algos, AutoML, Core V3, Core V4</td></tr>\n",
              "<tr><td>Python version:</td>\n",
              "<td>3.6.7 final</td></tr></table></div>"
            ],
            "text/plain": [
              "--------------------------  ---------------------------------------------------\n",
              "H2O cluster uptime:         04 secs\n",
              "H2O cluster timezone:       Etc/UTC\n",
              "H2O data parsing timezone:  UTC\n",
              "H2O cluster version:        3.24.0.2\n",
              "H2O cluster version age:    9 days\n",
              "H2O cluster name:           H2O_from_python_unknownUser_6ito39\n",
              "H2O cluster total nodes:    1\n",
              "H2O cluster free memory:    3 Gb\n",
              "H2O cluster total cores:    2\n",
              "H2O cluster allowed cores:  2\n",
              "H2O cluster status:         locked, healthy\n",
              "H2O connection url:         http://localhost:54321\n",
              "H2O connection proxy:\n",
              "H2O internal security:      False\n",
              "H2O API Extensions:         Amazon S3, XGBoost, Algos, AutoML, Core V3, Core V4\n",
              "Python version:             3.6.7 final\n",
              "--------------------------  ---------------------------------------------------"
            ]
          },
          "metadata": {
            "tags": []
          }
        }
      ]
    },
    {
      "metadata": {
        "id": "L7EPqfNbVTHz",
        "colab_type": "text"
      },
      "cell_type": "markdown",
      "source": [
        "Importing numpy and pandas libraries."
      ]
    },
    {
      "metadata": {
        "id": "NIZhzn-eYvuV",
        "colab_type": "code",
        "colab": {}
      },
      "cell_type": "code",
      "source": [
        "import numpy as np\n",
        "import pandas as pd"
      ],
      "execution_count": 0,
      "outputs": []
    },
    {
      "metadata": {
        "id": "IkD7iySFVXrK",
        "colab_type": "text"
      },
      "cell_type": "markdown",
      "source": [
        "**For XRT:**importing csv files into the dataframe."
      ]
    },
    {
      "metadata": {
        "id": "7aBEXTAepBfc",
        "colab_type": "code",
        "outputId": "541efe76-e354-488f-baef-b168922a48cd",
        "colab": {
          "base_uri": "https://localhost:8080/",
          "height": 34
        }
      },
      "cell_type": "code",
      "source": [
        "df_xrt = h2o.import_file(\"XRT.csv - Sheet1.csv\")"
      ],
      "execution_count": 0,
      "outputs": [
        {
          "output_type": "stream",
          "text": [
            "Parse progress: |█████████████████████████████████████████████████████████| 100%\n"
          ],
          "name": "stdout"
        }
      ]
    },
    {
      "metadata": {
        "id": "9yWlmQSlVpgt",
        "colab_type": "text"
      },
      "cell_type": "markdown",
      "source": [
        "Printing 5 rows of the dataframe."
      ]
    },
    {
      "metadata": {
        "id": "3wnaPVxepCWb",
        "colab_type": "code",
        "outputId": "a5c165a2-c915-4661-d348-917d0f155268",
        "colab": {
          "base_uri": "https://localhost:8080/",
          "height": 270
        }
      },
      "cell_type": "code",
      "source": [
        "\n",
        "df_xrt.head()"
      ],
      "execution_count": 0,
      "outputs": [
        {
          "output_type": "display_data",
          "data": {
            "text/html": [
              "<table>\n",
              "<thead>\n",
              "<tr><th>model_id                    </th><th style=\"text-align: right;\">  stopping_rounds</th><th style=\"text-align: right;\">  max_runtime_secs</th><th style=\"text-align: right;\">  stopping_tolerance</th><th style=\"text-align: right;\">  max_after_balance_size</th><th style=\"text-align: right;\">  ntrees</th><th style=\"text-align: right;\">  max_depth</th><th style=\"text-align: right;\">  min_rows</th><th style=\"text-align: right;\">  nbins</th><th style=\"text-align: right;\">  nbins_top_level</th><th style=\"text-align: right;\">  nbins_cats</th><th style=\"text-align: right;\">        seed</th><th style=\"text-align: right;\">  sample_rate</th><th style=\"text-align: right;\">  col_sample_rate_per_tree</th><th style=\"text-align: right;\">  col_sample_rate_change_per_level</th><th style=\"text-align: right;\">  min_split_improvement</th><th style=\"text-align: right;\">  mtries</th></tr>\n",
              "</thead>\n",
              "<tbody>\n",
              "<tr><td>XRT_1_AutoML_20190421_232600</td><td style=\"text-align: right;\">                0</td><td style=\"text-align: right;\">                 0</td><td style=\"text-align: right;\">          0.00809803</td><td style=\"text-align: right;\">                       5</td><td style=\"text-align: right;\">      50</td><td style=\"text-align: right;\">         20</td><td style=\"text-align: right;\">         1</td><td style=\"text-align: right;\">     20</td><td style=\"text-align: right;\">             1024</td><td style=\"text-align: right;\">        1024</td><td style=\"text-align: right;\">-1.63149e+18</td><td style=\"text-align: right;\">        0.632</td><td style=\"text-align: right;\">                         1</td><td style=\"text-align: right;\">                                 1</td><td style=\"text-align: right;\">                  1e-05</td><td style=\"text-align: right;\">      -1</td></tr>\n",
              "<tr><td>XRT_1_AutoML_20190421_232600</td><td style=\"text-align: right;\">                0</td><td style=\"text-align: right;\">                 0</td><td style=\"text-align: right;\">          0.00809803</td><td style=\"text-align: right;\">                       5</td><td style=\"text-align: right;\">      50</td><td style=\"text-align: right;\">         20</td><td style=\"text-align: right;\">         1</td><td style=\"text-align: right;\">     20</td><td style=\"text-align: right;\">             1024</td><td style=\"text-align: right;\">        1024</td><td style=\"text-align: right;\">-1.63149e+18</td><td style=\"text-align: right;\">        0.632</td><td style=\"text-align: right;\">                         1</td><td style=\"text-align: right;\">                                 1</td><td style=\"text-align: right;\">                  1e-05</td><td style=\"text-align: right;\">      -1</td></tr>\n",
              "<tr><td>XRT_1_AutoML_20190421_232600</td><td style=\"text-align: right;\">                0</td><td style=\"text-align: right;\">                 0</td><td style=\"text-align: right;\">          0.00809803</td><td style=\"text-align: right;\">                       5</td><td style=\"text-align: right;\">      50</td><td style=\"text-align: right;\">         20</td><td style=\"text-align: right;\">         1</td><td style=\"text-align: right;\">     20</td><td style=\"text-align: right;\">             1024</td><td style=\"text-align: right;\">        1024</td><td style=\"text-align: right;\">-1.63149e+18</td><td style=\"text-align: right;\">        0.632</td><td style=\"text-align: right;\">                         1</td><td style=\"text-align: right;\">                                 1</td><td style=\"text-align: right;\">                  1e-05</td><td style=\"text-align: right;\">      -1</td></tr>\n",
              "<tr><td>XRT_1_AutoML_20190421_232600</td><td style=\"text-align: right;\">                0</td><td style=\"text-align: right;\">                 0</td><td style=\"text-align: right;\">          0.00809803</td><td style=\"text-align: right;\">                       5</td><td style=\"text-align: right;\">      50</td><td style=\"text-align: right;\">         20</td><td style=\"text-align: right;\">         1</td><td style=\"text-align: right;\">     20</td><td style=\"text-align: right;\">             1024</td><td style=\"text-align: right;\">        1024</td><td style=\"text-align: right;\">-1.63149e+18</td><td style=\"text-align: right;\">        0.632</td><td style=\"text-align: right;\">                         1</td><td style=\"text-align: right;\">                                 1</td><td style=\"text-align: right;\">                  1e-05</td><td style=\"text-align: right;\">      -1</td></tr>\n",
              "<tr><td>XRT_1_AutoML_20190421_232600</td><td style=\"text-align: right;\">                0</td><td style=\"text-align: right;\">                 0</td><td style=\"text-align: right;\">          0.00809803</td><td style=\"text-align: right;\">                       5</td><td style=\"text-align: right;\">      50</td><td style=\"text-align: right;\">         20</td><td style=\"text-align: right;\">         1</td><td style=\"text-align: right;\">     20</td><td style=\"text-align: right;\">             1024</td><td style=\"text-align: right;\">        1024</td><td style=\"text-align: right;\">-1.63149e+18</td><td style=\"text-align: right;\">        0.632</td><td style=\"text-align: right;\">                         1</td><td style=\"text-align: right;\">                                 1</td><td style=\"text-align: right;\">                  1e-05</td><td style=\"text-align: right;\">      -1</td></tr>\n",
              "<tr><td>XRT_1_AutoML_20190421_233433</td><td style=\"text-align: right;\">                0</td><td style=\"text-align: right;\">                 0</td><td style=\"text-align: right;\">          0.00809803</td><td style=\"text-align: right;\">                       5</td><td style=\"text-align: right;\">      48</td><td style=\"text-align: right;\">         20</td><td style=\"text-align: right;\">         1</td><td style=\"text-align: right;\">     20</td><td style=\"text-align: right;\">             1024</td><td style=\"text-align: right;\">        1024</td><td style=\"text-align: right;\"> 3.87543e+18</td><td style=\"text-align: right;\">        0.632</td><td style=\"text-align: right;\">                         1</td><td style=\"text-align: right;\">                                 1</td><td style=\"text-align: right;\">                  1e-05</td><td style=\"text-align: right;\">      -1</td></tr>\n",
              "<tr><td>XRT_1_AutoML_20190421_233433</td><td style=\"text-align: right;\">                0</td><td style=\"text-align: right;\">                 0</td><td style=\"text-align: right;\">          0.00809803</td><td style=\"text-align: right;\">                       5</td><td style=\"text-align: right;\">      48</td><td style=\"text-align: right;\">         20</td><td style=\"text-align: right;\">         1</td><td style=\"text-align: right;\">     20</td><td style=\"text-align: right;\">             1024</td><td style=\"text-align: right;\">        1024</td><td style=\"text-align: right;\"> 3.87543e+18</td><td style=\"text-align: right;\">        0.632</td><td style=\"text-align: right;\">                         1</td><td style=\"text-align: right;\">                                 1</td><td style=\"text-align: right;\">                  1e-05</td><td style=\"text-align: right;\">      -1</td></tr>\n",
              "<tr><td>XRT_1_AutoML_20190421_233433</td><td style=\"text-align: right;\">                0</td><td style=\"text-align: right;\">                 0</td><td style=\"text-align: right;\">          0.00809803</td><td style=\"text-align: right;\">                       5</td><td style=\"text-align: right;\">      48</td><td style=\"text-align: right;\">         20</td><td style=\"text-align: right;\">         1</td><td style=\"text-align: right;\">     20</td><td style=\"text-align: right;\">             1024</td><td style=\"text-align: right;\">        1024</td><td style=\"text-align: right;\"> 3.87543e+18</td><td style=\"text-align: right;\">        0.632</td><td style=\"text-align: right;\">                         1</td><td style=\"text-align: right;\">                                 1</td><td style=\"text-align: right;\">                  1e-05</td><td style=\"text-align: right;\">      -1</td></tr>\n",
              "<tr><td>XRT_1_AutoML_20190421_233433</td><td style=\"text-align: right;\">                0</td><td style=\"text-align: right;\">                 0</td><td style=\"text-align: right;\">          0.00809803</td><td style=\"text-align: right;\">                       5</td><td style=\"text-align: right;\">      48</td><td style=\"text-align: right;\">         20</td><td style=\"text-align: right;\">         1</td><td style=\"text-align: right;\">     20</td><td style=\"text-align: right;\">             1024</td><td style=\"text-align: right;\">        1024</td><td style=\"text-align: right;\"> 3.87543e+18</td><td style=\"text-align: right;\">        0.632</td><td style=\"text-align: right;\">                         1</td><td style=\"text-align: right;\">                                 1</td><td style=\"text-align: right;\">                  1e-05</td><td style=\"text-align: right;\">      -1</td></tr>\n",
              "<tr><td>XRT_1_AutoML_20190421_234613</td><td style=\"text-align: right;\">                0</td><td style=\"text-align: right;\">                 0</td><td style=\"text-align: right;\">          0.00809803</td><td style=\"text-align: right;\">                       5</td><td style=\"text-align: right;\">      45</td><td style=\"text-align: right;\">         20</td><td style=\"text-align: right;\">         1</td><td style=\"text-align: right;\">     20</td><td style=\"text-align: right;\">             1024</td><td style=\"text-align: right;\">        1024</td><td style=\"text-align: right;\">-6.72243e+18</td><td style=\"text-align: right;\">        0.632</td><td style=\"text-align: right;\">                         1</td><td style=\"text-align: right;\">                                 1</td><td style=\"text-align: right;\">                  1e-05</td><td style=\"text-align: right;\">      -1</td></tr>\n",
              "</tbody>\n",
              "</table>"
            ]
          },
          "metadata": {
            "tags": []
          }
        },
        {
          "output_type": "execute_result",
          "data": {
            "text/plain": [
              ""
            ]
          },
          "metadata": {
            "tags": []
          },
          "execution_count": 20
        }
      ]
    },
    {
      "metadata": {
        "id": "sVuDOI4zVt2M",
        "colab_type": "text"
      },
      "cell_type": "markdown",
      "source": [
        "Finding the min and max value for each column for integer and real values."
      ]
    },
    {
      "metadata": {
        "id": "HNqIybUIpKN_",
        "colab_type": "code",
        "outputId": "7985ec18-aac2-4ae6-8194-4769b93be115",
        "colab": {
          "base_uri": "https://localhost:8080/",
          "height": 306
        }
      },
      "cell_type": "code",
      "source": [
        "ranges = []\n",
        "for key,val in df_xrt.types.items():\n",
        "   print(key,val)\n",
        "   if val == 'int':\n",
        "        ranges.append([key,[df_xrt[key].min(),df_xrt[key].max()]])\n",
        "   if val == 'real':\n",
        "        ranges.append([key,[df_xrt[key].min(),df_xrt[key].max()]])"
      ],
      "execution_count": 0,
      "outputs": [
        {
          "output_type": "stream",
          "text": [
            "model_id enum\n",
            "stopping_rounds int\n",
            "max_runtime_secs int\n",
            "stopping_tolerance real\n",
            "max_after_balance_size int\n",
            "ntrees int\n",
            "max_depth int\n",
            "min_rows int\n",
            "nbins int\n",
            "nbins_top_level int\n",
            "nbins_cats int\n",
            "seed int\n",
            "sample_rate real\n",
            "col_sample_rate_per_tree int\n",
            "col_sample_rate_change_per_level int\n",
            "min_split_improvement real\n",
            "mtries int\n"
          ],
          "name": "stdout"
        }
      ]
    },
    {
      "metadata": {
        "id": "Q63EDElmV48q",
        "colab_type": "text"
      },
      "cell_type": "markdown",
      "source": [
        "Printing the datatype for each column."
      ]
    },
    {
      "metadata": {
        "id": "YUL3X1mMpMa_",
        "colab_type": "code",
        "outputId": "06fbfaf5-3291-4e8e-e7fa-ae7cadc6e1aa",
        "colab": {
          "base_uri": "https://localhost:8080/",
          "height": 323
        }
      },
      "cell_type": "code",
      "source": [
        "df_gbm.dtypes"
      ],
      "execution_count": 0,
      "outputs": [
        {
          "output_type": "execute_result",
          "data": {
            "text/plain": [
              "model_id                            object\n",
              "stopping_rounds                      int64\n",
              "max_runtime_secs                     int64\n",
              "stopping_tolerance                  object\n",
              "max_after_balance_size               int64\n",
              "ntrees                               int64\n",
              "max_depth                            int64\n",
              "min_rows                             int64\n",
              "nbins                                int64\n",
              "nbins_top_level                      int64\n",
              "nbins_cats                           int64\n",
              "seed                                object\n",
              "sample_rate                         object\n",
              "col_sample_rate_per_tree            object\n",
              "col_sample_rate_change_per_level    object\n",
              "min_split_improvement               object\n",
              "mtries                               int64\n",
              "dtype: object"
            ]
          },
          "metadata": {
            "tags": []
          },
          "execution_count": 23
        }
      ]
    },
    {
      "metadata": {
        "id": "Ef7lde7KV_4O",
        "colab_type": "text"
      },
      "cell_type": "markdown",
      "source": [
        "Range of each hyperparameter."
      ]
    },
    {
      "metadata": {
        "id": "ETNh9YxChAhv",
        "colab_type": "code",
        "outputId": "c0ccfed7-e199-4d52-83b7-0bf6f3d5123a",
        "colab": {
          "base_uri": "https://localhost:8080/",
          "height": 289
        }
      },
      "cell_type": "code",
      "source": [
        "ranges"
      ],
      "execution_count": 0,
      "outputs": [
        {
          "output_type": "execute_result",
          "data": {
            "text/plain": [
              "[['stopping_rounds', [0.0, 0.0]],\n",
              " ['max_runtime_secs', [0.0, 0.0]],\n",
              " ['stopping_tolerance', [0.008098029, 0.008098029]],\n",
              " ['max_after_balance_size', [5.0, 5.0]],\n",
              " ['ntrees', [43.0, 50.0]],\n",
              " ['max_depth', [20.0, 20.0]],\n",
              " ['min_rows', [1.0, 1.0]],\n",
              " ['nbins', [20.0, 20.0]],\n",
              " ['nbins_top_level', [1024.0, 1024.0]],\n",
              " ['nbins_cats', [1024.0, 1024.0]],\n",
              " ['seed', [-6.72243e+18, 6.359377122478104e+18]],\n",
              " ['sample_rate', [0.632, 0.632000029]],\n",
              " ['col_sample_rate_per_tree', [1.0, 1.0]],\n",
              " ['col_sample_rate_change_per_level', [1.0, 1.0]],\n",
              " ['min_split_improvement', [1e-05, 1e-05]],\n",
              " ['mtries', [-1.0, -1.0]]]"
            ]
          },
          "metadata": {
            "tags": []
          },
          "execution_count": 25
        }
      ]
    },
    {
      "metadata": {
        "id": "tfflBo98VjqZ",
        "colab_type": "text"
      },
      "cell_type": "markdown",
      "source": [
        "**For GBM:**importing csv files into the dataframe."
      ]
    },
    {
      "metadata": {
        "id": "zaBxUI4nhGci",
        "colab_type": "code",
        "outputId": "3c3ea42e-68e3-4625-cf5e-1b42d8c0494f",
        "colab": {
          "base_uri": "https://localhost:8080/",
          "height": 34
        }
      },
      "cell_type": "code",
      "source": [
        "df_gbm = h2o.import_file(\"GBM.csv\")"
      ],
      "execution_count": 0,
      "outputs": [
        {
          "output_type": "stream",
          "text": [
            "Parse progress: |█████████████████████████████████████████████████████████| 100%\n"
          ],
          "name": "stdout"
        }
      ]
    },
    {
      "metadata": {
        "id": "gwyiKCDl9W47",
        "colab_type": "code",
        "colab": {}
      },
      "cell_type": "code",
      "source": [
        ""
      ],
      "execution_count": 0,
      "outputs": []
    },
    {
      "metadata": {
        "id": "inFogsgniKr6",
        "colab_type": "code",
        "outputId": "b85ef96e-b07a-4527-9ba5-4042e076c35d",
        "colab": {
          "base_uri": "https://localhost:8080/",
          "height": 250
        }
      },
      "cell_type": "code",
      "source": [
        "df_gbm.head()"
      ],
      "execution_count": 0,
      "outputs": [
        {
          "output_type": "display_data",
          "data": {
            "text/html": [
              "<table>\n",
              "<thead>\n",
              "<tr><th>model_id                    </th><th style=\"text-align: right;\">  max_runtime_secs</th><th style=\"text-align: right;\">  max_after_balance_size</th><th style=\"text-align: right;\">        seed</th></tr>\n",
              "</thead>\n",
              "<tbody>\n",
              "<tr><td>GBM_4_AutoML_20190421_233433</td><td style=\"text-align: right;\">                 5</td><td style=\"text-align: right;\">                       0</td><td style=\"text-align: right;\">-7.13e+18   </td></tr>\n",
              "<tr><td>GBM_2_AutoML_20190421_232600</td><td style=\"text-align: right;\">                 5</td><td style=\"text-align: right;\">                       0</td><td style=\"text-align: right;\">-3.52063e+18</td></tr>\n",
              "<tr><td>GBM_1_AutoML_20190421_233433</td><td style=\"text-align: right;\">                 5</td><td style=\"text-align: right;\">                       0</td><td style=\"text-align: right;\">-7.12673e+18</td></tr>\n",
              "<tr><td>GBM_2_AutoML_20190421_233433</td><td style=\"text-align: right;\">                 5</td><td style=\"text-align: right;\">                       0</td><td style=\"text-align: right;\">-7.12673e+18</td></tr>\n",
              "<tr><td>GBM_3_AutoML_20190421_234613</td><td style=\"text-align: right;\">                 5</td><td style=\"text-align: right;\">                       0</td><td style=\"text-align: right;\"> 7.83787e+18</td></tr>\n",
              "<tr><td>GBM_1_AutoML_20190421_234613</td><td style=\"text-align: right;\">                 5</td><td style=\"text-align: right;\">                       0</td><td style=\"text-align: right;\"> 7.83787e+18</td></tr>\n",
              "<tr><td>GBM_4_AutoML_20190421_234613</td><td style=\"text-align: right;\">                 5</td><td style=\"text-align: right;\">                       0</td><td style=\"text-align: right;\"> 7.83787e+18</td></tr>\n",
              "<tr><td>GBM_1_AutoML_20190421_232600</td><td style=\"text-align: right;\">                 5</td><td style=\"text-align: right;\">                       0</td><td style=\"text-align: right;\">-3.52063e+18</td></tr>\n",
              "<tr><td>GBM_2_AutoML_20190421_234613</td><td style=\"text-align: right;\">                 5</td><td style=\"text-align: right;\">                       0</td><td style=\"text-align: right;\"> 7.83787e+18</td></tr>\n",
              "<tr><td>GBM_3_AutoML_20190421_233433</td><td style=\"text-align: right;\">                 5</td><td style=\"text-align: right;\">                       0</td><td style=\"text-align: right;\">-7.12673e+18</td></tr>\n",
              "</tbody>\n",
              "</table>"
            ]
          },
          "metadata": {
            "tags": []
          }
        },
        {
          "output_type": "execute_result",
          "data": {
            "text/plain": [
              ""
            ]
          },
          "metadata": {
            "tags": []
          },
          "execution_count": 27
        }
      ]
    },
    {
      "metadata": {
        "id": "JBRIMK9eiPFF",
        "colab_type": "code",
        "outputId": "aac89fc1-206b-40ff-f4c6-5914086c497b",
        "colab": {
          "base_uri": "https://localhost:8080/",
          "height": 85
        }
      },
      "cell_type": "code",
      "source": [
        "ranges = []\n",
        "for key,val in df_gbm.types.items():\n",
        "   print(key,val)\n",
        "   if val == 'int':\n",
        "        ranges.append([key,[df_gbm[key].min(),df_gbm[key].max()]])\n",
        "   if val == 'real':\n",
        "        ranges.append([key,[df_gbm[key].min(),df_gbm[key].max()]])"
      ],
      "execution_count": 0,
      "outputs": [
        {
          "output_type": "stream",
          "text": [
            "model_id enum\n",
            "max_runtime_secs int\n",
            "max_after_balance_size int\n",
            "seed int\n"
          ],
          "name": "stdout"
        }
      ]
    },
    {
      "metadata": {
        "id": "oJw4Ej2fiic8",
        "colab_type": "code",
        "outputId": "abfe8880-a35d-47c3-9cff-57cb6db8b67b",
        "colab": {
          "base_uri": "https://localhost:8080/",
          "height": 68
        }
      },
      "cell_type": "code",
      "source": [
        "ranges"
      ],
      "execution_count": 0,
      "outputs": [
        {
          "output_type": "execute_result",
          "data": {
            "text/plain": [
              "[['max_runtime_secs', [5.0, 5.0]],\n",
              " ['max_after_balance_size', [0.0, 0.0]],\n",
              " ['seed', [-8.27849e+18, 7.83787362635869e+18]]]"
            ]
          },
          "metadata": {
            "tags": []
          },
          "execution_count": 29
        }
      ]
    },
    {
      "metadata": {
        "id": "NRwCeZNCWKaJ",
        "colab_type": "text"
      },
      "cell_type": "markdown",
      "source": [
        "**For Deeplearning:**importing csv files into the dataframe."
      ]
    },
    {
      "metadata": {
        "id": "EKP5mQKHillM",
        "colab_type": "code",
        "outputId": "74aa5bd7-8faa-4bdd-ae8e-dac749548c8b",
        "colab": {
          "base_uri": "https://localhost:8080/",
          "height": 34
        }
      },
      "cell_type": "code",
      "source": [
        "df_dl = h2o.import_file(\"DL.csv\")"
      ],
      "execution_count": 0,
      "outputs": [
        {
          "output_type": "stream",
          "text": [
            "Parse progress: |█████████████████████████████████████████████████████████| 100%\n"
          ],
          "name": "stdout"
        }
      ]
    },
    {
      "metadata": {
        "id": "ZSK1s3_0qZQm",
        "colab_type": "code",
        "outputId": "d3dfaea9-2e6e-4e4f-a3e0-f84cd9d80481",
        "colab": {
          "base_uri": "https://localhost:8080/",
          "height": 270
        }
      },
      "cell_type": "code",
      "source": [
        "df_dl.head()"
      ],
      "execution_count": 0,
      "outputs": [
        {
          "output_type": "display_data",
          "data": {
            "text/html": [
              "<table>\n",
              "<thead>\n",
              "<tr><th>model_id                                          </th><th style=\"text-align: right;\">  stopping_rounds</th><th style=\"text-align: right;\">  max_runtime_secs</th><th style=\"text-align: right;\">  stopping_tolerance</th><th style=\"text-align: right;\">  max_after_balance_size</th><th style=\"text-align: right;\">        seed</th><th style=\"text-align: right;\">  tweedie_power</th><th style=\"text-align: right;\">  quantile_alpha</th><th style=\"text-align: right;\">  huber_alpha</th><th style=\"text-align: right;\">   epochs</th><th style=\"text-align: right;\">  train_samples_per_iteration</th><th style=\"text-align: right;\">  target_ratio_comm_to_comp</th><th style=\"text-align: right;\">  rho</th><th style=\"text-align: right;\">  epsilon</th><th style=\"text-align: right;\">  rate</th><th style=\"text-align: right;\">  rate_decay</th><th style=\"text-align: right;\">  momentum_start</th><th style=\"text-align: right;\">  momentum_ramp</th><th style=\"text-align: right;\">  momentum_stable</th><th style=\"text-align: right;\">  input_dropout_ratio</th><th style=\"text-align: right;\">  l1</th><th style=\"text-align: right;\">  l2</th><th style=\"text-align: right;\">  max_w2</th><th style=\"text-align: right;\">  initial_weight_scale</th><th style=\"text-align: right;\">  score_interval</th><th style=\"text-align: right;\">  score_training_samples</th><th style=\"text-align: right;\">  score_validation_samples</th><th style=\"text-align: right;\">  score_duty_cycle</th><th style=\"text-align: right;\">  classification_stop</th><th style=\"text-align: right;\">  regression_stop</th><th style=\"text-align: right;\">  average_activation</th><th style=\"text-align: right;\">  sparsity_beta</th><th style=\"text-align: right;\">  max_categorical_features</th><th style=\"text-align: right;\">  elastic_averaging_regularization</th></tr>\n",
              "</thead>\n",
              "<tbody>\n",
              "<tr><td>DeepLearning_1_AutoML_20190421_233433             </td><td style=\"text-align: right;\">                0</td><td style=\"text-align: right;\">                 0</td><td style=\"text-align: right;\">          0.00809803</td><td style=\"text-align: right;\">                       5</td><td style=\"text-align: right;\">-3.61794e+18</td><td style=\"text-align: right;\">            1.5</td><td style=\"text-align: right;\">             0.5</td><td style=\"text-align: right;\">          0.9</td><td style=\"text-align: right;\">10.3488  </td><td style=\"text-align: right;\">                           -2</td><td style=\"text-align: right;\">                       0.05</td><td style=\"text-align: right;\"> 0.99</td><td style=\"text-align: right;\">    1e-06</td><td style=\"text-align: right;\"> 0.005</td><td style=\"text-align: right;\">           1</td><td style=\"text-align: right;\">               0</td><td style=\"text-align: right;\">          1e+06</td><td style=\"text-align: right;\">                0</td><td style=\"text-align: right;\">                 0   </td><td style=\"text-align: right;\">   0</td><td style=\"text-align: right;\">   0</td><td style=\"text-align: right;\"> 3.4e+38</td><td style=\"text-align: right;\">                     1</td><td style=\"text-align: right;\">               5</td><td style=\"text-align: right;\">                   10000</td><td style=\"text-align: right;\">                         0</td><td style=\"text-align: right;\">               0.1</td><td style=\"text-align: right;\">                    0</td><td style=\"text-align: right;\">            1e-06</td><td style=\"text-align: right;\">                   0</td><td style=\"text-align: right;\">              0</td><td style=\"text-align: right;\">               2.14748e+09</td><td style=\"text-align: right;\">                             0.001</td></tr>\n",
              "<tr><td>DeepLearning_1_AutoML_20190421_232600             </td><td style=\"text-align: right;\">                0</td><td style=\"text-align: right;\">                 0</td><td style=\"text-align: right;\">          0.00809803</td><td style=\"text-align: right;\">                       5</td><td style=\"text-align: right;\"> 4.11e+18   </td><td style=\"text-align: right;\">            1.5</td><td style=\"text-align: right;\">             0.5</td><td style=\"text-align: right;\">          0.9</td><td style=\"text-align: right;\">10.3423  </td><td style=\"text-align: right;\">                           -2</td><td style=\"text-align: right;\">                       0.05</td><td style=\"text-align: right;\"> 0.99</td><td style=\"text-align: right;\">    1e-06</td><td style=\"text-align: right;\"> 0.005</td><td style=\"text-align: right;\">           1</td><td style=\"text-align: right;\">               0</td><td style=\"text-align: right;\">          1e+06</td><td style=\"text-align: right;\">                0</td><td style=\"text-align: right;\">                 0   </td><td style=\"text-align: right;\">   0</td><td style=\"text-align: right;\">   0</td><td style=\"text-align: right;\"> 3.4e+38</td><td style=\"text-align: right;\">                     1</td><td style=\"text-align: right;\">               5</td><td style=\"text-align: right;\">                   10000</td><td style=\"text-align: right;\">                         0</td><td style=\"text-align: right;\">               0.1</td><td style=\"text-align: right;\">                    0</td><td style=\"text-align: right;\">            1e-06</td><td style=\"text-align: right;\">                   0</td><td style=\"text-align: right;\">              0</td><td style=\"text-align: right;\">               2.14748e+09</td><td style=\"text-align: right;\">                             0.001</td></tr>\n",
              "<tr><td>DeepLearning_1_AutoML_20190421_234613             </td><td style=\"text-align: right;\">                0</td><td style=\"text-align: right;\">                 0</td><td style=\"text-align: right;\">          0.00809803</td><td style=\"text-align: right;\">                       5</td><td style=\"text-align: right;\"> 1.95657e+18</td><td style=\"text-align: right;\">            1.5</td><td style=\"text-align: right;\">             0.5</td><td style=\"text-align: right;\">          0.9</td><td style=\"text-align: right;\">10.3546  </td><td style=\"text-align: right;\">                           -2</td><td style=\"text-align: right;\">                       0.05</td><td style=\"text-align: right;\"> 0.99</td><td style=\"text-align: right;\">    1e-06</td><td style=\"text-align: right;\"> 0.005</td><td style=\"text-align: right;\">           1</td><td style=\"text-align: right;\">               0</td><td style=\"text-align: right;\">          1e+06</td><td style=\"text-align: right;\">                0</td><td style=\"text-align: right;\">                 0   </td><td style=\"text-align: right;\">   0</td><td style=\"text-align: right;\">   0</td><td style=\"text-align: right;\"> 3.4e+38</td><td style=\"text-align: right;\">                     1</td><td style=\"text-align: right;\">               5</td><td style=\"text-align: right;\">                   10000</td><td style=\"text-align: right;\">                         0</td><td style=\"text-align: right;\">               0.1</td><td style=\"text-align: right;\">                    0</td><td style=\"text-align: right;\">            1e-06</td><td style=\"text-align: right;\">                   0</td><td style=\"text-align: right;\">              0</td><td style=\"text-align: right;\">               2.14748e+09</td><td style=\"text-align: right;\">                             0.001</td></tr>\n",
              "<tr><td>DeepLearning_grid_1_AutoML_20190421_233433_model_1</td><td style=\"text-align: right;\">                0</td><td style=\"text-align: right;\">                 0</td><td style=\"text-align: right;\">          0.00809803</td><td style=\"text-align: right;\">                       5</td><td style=\"text-align: right;\"> 1.05538e+18</td><td style=\"text-align: right;\">            1.5</td><td style=\"text-align: right;\">             0.5</td><td style=\"text-align: right;\">          0.9</td><td style=\"text-align: right;\"> 4.59518 </td><td style=\"text-align: right;\">                           -2</td><td style=\"text-align: right;\">                       0.05</td><td style=\"text-align: right;\"> 0.95</td><td style=\"text-align: right;\">    1e-06</td><td style=\"text-align: right;\"> 0.005</td><td style=\"text-align: right;\">           1</td><td style=\"text-align: right;\">               0</td><td style=\"text-align: right;\">          1e+06</td><td style=\"text-align: right;\">                0</td><td style=\"text-align: right;\">                 0.05</td><td style=\"text-align: right;\">   0</td><td style=\"text-align: right;\">   0</td><td style=\"text-align: right;\"> 3.4e+38</td><td style=\"text-align: right;\">                     1</td><td style=\"text-align: right;\">               5</td><td style=\"text-align: right;\">                   10000</td><td style=\"text-align: right;\">                         0</td><td style=\"text-align: right;\">               0.1</td><td style=\"text-align: right;\">                    0</td><td style=\"text-align: right;\">            1e-06</td><td style=\"text-align: right;\">                   0</td><td style=\"text-align: right;\">              0</td><td style=\"text-align: right;\">               2.14748e+09</td><td style=\"text-align: right;\">                             0.001</td></tr>\n",
              "<tr><td>DeepLearning_grid_1_AutoML_20190421_234613_model_2</td><td style=\"text-align: right;\">                0</td><td style=\"text-align: right;\">                 0</td><td style=\"text-align: right;\">          0.00809803</td><td style=\"text-align: right;\">                       5</td><td style=\"text-align: right;\"> 8.80576e+18</td><td style=\"text-align: right;\">            1.5</td><td style=\"text-align: right;\">             0.5</td><td style=\"text-align: right;\">          0.9</td><td style=\"text-align: right;\"> 0.47708 </td><td style=\"text-align: right;\">                           -2</td><td style=\"text-align: right;\">                       0.05</td><td style=\"text-align: right;\"> 0.99</td><td style=\"text-align: right;\">    1e-06</td><td style=\"text-align: right;\"> 0.005</td><td style=\"text-align: right;\">           1</td><td style=\"text-align: right;\">               0</td><td style=\"text-align: right;\">          1e+06</td><td style=\"text-align: right;\">                0</td><td style=\"text-align: right;\">                 0.15</td><td style=\"text-align: right;\">   0</td><td style=\"text-align: right;\">   0</td><td style=\"text-align: right;\"> 3.4e+38</td><td style=\"text-align: right;\">                     1</td><td style=\"text-align: right;\">               5</td><td style=\"text-align: right;\">                   10000</td><td style=\"text-align: right;\">                         0</td><td style=\"text-align: right;\">               0.1</td><td style=\"text-align: right;\">                    0</td><td style=\"text-align: right;\">            1e-06</td><td style=\"text-align: right;\">                   0</td><td style=\"text-align: right;\">              0</td><td style=\"text-align: right;\">               2.14748e+09</td><td style=\"text-align: right;\">                             0.001</td></tr>\n",
              "<tr><td>DeepLearning_grid_1_AutoML_20190421_232600_model_1</td><td style=\"text-align: right;\">                0</td><td style=\"text-align: right;\">                 0</td><td style=\"text-align: right;\">          0.00809803</td><td style=\"text-align: right;\">                       5</td><td style=\"text-align: right;\"> 6.01537e+18</td><td style=\"text-align: right;\">            1.5</td><td style=\"text-align: right;\">             0.5</td><td style=\"text-align: right;\">          0.9</td><td style=\"text-align: right;\"> 0.297593</td><td style=\"text-align: right;\">                           -2</td><td style=\"text-align: right;\">                       0.05</td><td style=\"text-align: right;\"> 0.9 </td><td style=\"text-align: right;\">    1e-06</td><td style=\"text-align: right;\"> 0.005</td><td style=\"text-align: right;\">           1</td><td style=\"text-align: right;\">               0</td><td style=\"text-align: right;\">          1e+06</td><td style=\"text-align: right;\">                0</td><td style=\"text-align: right;\">                 0.1 </td><td style=\"text-align: right;\">   0</td><td style=\"text-align: right;\">   0</td><td style=\"text-align: right;\"> 3.4e+38</td><td style=\"text-align: right;\">                     1</td><td style=\"text-align: right;\">               5</td><td style=\"text-align: right;\">                   10000</td><td style=\"text-align: right;\">                         0</td><td style=\"text-align: right;\">               0.1</td><td style=\"text-align: right;\">                    0</td><td style=\"text-align: right;\">            1e-06</td><td style=\"text-align: right;\">                   0</td><td style=\"text-align: right;\">              0</td><td style=\"text-align: right;\">               2.14748e+09</td><td style=\"text-align: right;\">                             0.001</td></tr>\n",
              "<tr><td>DeepLearning_grid_1_AutoML_20190421_233433_model_4</td><td style=\"text-align: right;\">                0</td><td style=\"text-align: right;\">                 0</td><td style=\"text-align: right;\">          0.00809803</td><td style=\"text-align: right;\">                       5</td><td style=\"text-align: right;\">-4.73713e+18</td><td style=\"text-align: right;\">            1.5</td><td style=\"text-align: right;\">             0.5</td><td style=\"text-align: right;\">          0.9</td><td style=\"text-align: right;\"> 0.360679</td><td style=\"text-align: right;\">                           -2</td><td style=\"text-align: right;\">                       0.05</td><td style=\"text-align: right;\"> 0.99</td><td style=\"text-align: right;\">    1e-06</td><td style=\"text-align: right;\"> 0.005</td><td style=\"text-align: right;\">           1</td><td style=\"text-align: right;\">               0</td><td style=\"text-align: right;\">          1e+06</td><td style=\"text-align: right;\">                0</td><td style=\"text-align: right;\">                 0.1 </td><td style=\"text-align: right;\">   0</td><td style=\"text-align: right;\">   0</td><td style=\"text-align: right;\"> 3.4e+38</td><td style=\"text-align: right;\">                     1</td><td style=\"text-align: right;\">               5</td><td style=\"text-align: right;\">                   10000</td><td style=\"text-align: right;\">                         0</td><td style=\"text-align: right;\">               0.1</td><td style=\"text-align: right;\">                    0</td><td style=\"text-align: right;\">            1e-06</td><td style=\"text-align: right;\">                   0</td><td style=\"text-align: right;\">              0</td><td style=\"text-align: right;\">               2.14748e+09</td><td style=\"text-align: right;\">                             0.001</td></tr>\n",
              "<tr><td>DeepLearning_grid_1_AutoML_20190421_233433_model_2</td><td style=\"text-align: right;\">                0</td><td style=\"text-align: right;\">                 0</td><td style=\"text-align: right;\">          0.00809803</td><td style=\"text-align: right;\">                       5</td><td style=\"text-align: right;\"> 1.59285e+18</td><td style=\"text-align: right;\">            1.5</td><td style=\"text-align: right;\">             0.5</td><td style=\"text-align: right;\">          0.9</td><td style=\"text-align: right;\"> 0.332743</td><td style=\"text-align: right;\">                           -2</td><td style=\"text-align: right;\">                       0.05</td><td style=\"text-align: right;\"> 0.95</td><td style=\"text-align: right;\">    1e-06</td><td style=\"text-align: right;\"> 0.005</td><td style=\"text-align: right;\">           1</td><td style=\"text-align: right;\">               0</td><td style=\"text-align: right;\">          1e+06</td><td style=\"text-align: right;\">                0</td><td style=\"text-align: right;\">                 0.15</td><td style=\"text-align: right;\">   0</td><td style=\"text-align: right;\">   0</td><td style=\"text-align: right;\"> 3.4e+38</td><td style=\"text-align: right;\">                     1</td><td style=\"text-align: right;\">               5</td><td style=\"text-align: right;\">                   10000</td><td style=\"text-align: right;\">                         0</td><td style=\"text-align: right;\">               0.1</td><td style=\"text-align: right;\">                    0</td><td style=\"text-align: right;\">            1e-06</td><td style=\"text-align: right;\">                   0</td><td style=\"text-align: right;\">              0</td><td style=\"text-align: right;\">               2.14748e+09</td><td style=\"text-align: right;\">                             0.001</td></tr>\n",
              "<tr><td>DeepLearning_grid_1_AutoML_20190421_234613_model_4</td><td style=\"text-align: right;\">                0</td><td style=\"text-align: right;\">                 0</td><td style=\"text-align: right;\">          0.00809803</td><td style=\"text-align: right;\">                       5</td><td style=\"text-align: right;\">-8.67337e+18</td><td style=\"text-align: right;\">            1.5</td><td style=\"text-align: right;\">             0.5</td><td style=\"text-align: right;\">          0.9</td><td style=\"text-align: right;\"> 0.210899</td><td style=\"text-align: right;\">                           -2</td><td style=\"text-align: right;\">                       0.05</td><td style=\"text-align: right;\"> 0.9 </td><td style=\"text-align: right;\">    1e-06</td><td style=\"text-align: right;\"> 0.005</td><td style=\"text-align: right;\">           1</td><td style=\"text-align: right;\">               0</td><td style=\"text-align: right;\">          1e+06</td><td style=\"text-align: right;\">                0</td><td style=\"text-align: right;\">                 0.2 </td><td style=\"text-align: right;\">   0</td><td style=\"text-align: right;\">   0</td><td style=\"text-align: right;\"> 3.4e+38</td><td style=\"text-align: right;\">                     1</td><td style=\"text-align: right;\">               5</td><td style=\"text-align: right;\">                   10000</td><td style=\"text-align: right;\">                         0</td><td style=\"text-align: right;\">               0.1</td><td style=\"text-align: right;\">                    0</td><td style=\"text-align: right;\">            1e-06</td><td style=\"text-align: right;\">                   0</td><td style=\"text-align: right;\">              0</td><td style=\"text-align: right;\">               2.14748e+09</td><td style=\"text-align: right;\">                             0.001</td></tr>\n",
              "<tr><td>DeepLearning_grid_1_AutoML_20190421_233433_model_5</td><td style=\"text-align: right;\">                0</td><td style=\"text-align: right;\">                 0</td><td style=\"text-align: right;\">          0.00809803</td><td style=\"text-align: right;\">                       5</td><td style=\"text-align: right;\">-3.99495e+18</td><td style=\"text-align: right;\">            1.5</td><td style=\"text-align: right;\">             0.5</td><td style=\"text-align: right;\">          0.9</td><td style=\"text-align: right;\"> 0.694865</td><td style=\"text-align: right;\">                           -2</td><td style=\"text-align: right;\">                       0.05</td><td style=\"text-align: right;\"> 0.9 </td><td style=\"text-align: right;\">    1e-06</td><td style=\"text-align: right;\"> 0.005</td><td style=\"text-align: right;\">           1</td><td style=\"text-align: right;\">               0</td><td style=\"text-align: right;\">          1e+06</td><td style=\"text-align: right;\">                0</td><td style=\"text-align: right;\">                 0   </td><td style=\"text-align: right;\">   0</td><td style=\"text-align: right;\">   0</td><td style=\"text-align: right;\"> 3.4e+38</td><td style=\"text-align: right;\">                     1</td><td style=\"text-align: right;\">               5</td><td style=\"text-align: right;\">                   10000</td><td style=\"text-align: right;\">                         0</td><td style=\"text-align: right;\">               0.1</td><td style=\"text-align: right;\">                    0</td><td style=\"text-align: right;\">            1e-06</td><td style=\"text-align: right;\">                   0</td><td style=\"text-align: right;\">              0</td><td style=\"text-align: right;\">               2.14748e+09</td><td style=\"text-align: right;\">                             0.001</td></tr>\n",
              "</tbody>\n",
              "</table>"
            ]
          },
          "metadata": {
            "tags": []
          }
        },
        {
          "output_type": "execute_result",
          "data": {
            "text/plain": [
              ""
            ]
          },
          "metadata": {
            "tags": []
          },
          "execution_count": 44
        }
      ]
    },
    {
      "metadata": {
        "id": "s_axxREtqcX0",
        "colab_type": "code",
        "outputId": "342d4759-8e92-4d22-8feb-6f5da836e45c",
        "colab": {
          "base_uri": "https://localhost:8080/",
          "height": 595
        }
      },
      "cell_type": "code",
      "source": [
        "ranges = []\n",
        "for key,val in df_dl.types.items():\n",
        "   print(key,val)\n",
        "   if val == 'int':\n",
        "        ranges.append([key,[df_dl[key].min(),df_dl[key].max()]])\n",
        "   if val == 'real':\n",
        "        ranges.append([key,[df_dl[key].min(),df_dl[key].max()]])"
      ],
      "execution_count": 0,
      "outputs": [
        {
          "output_type": "stream",
          "text": [
            "model_id enum\n",
            "stopping_rounds int\n",
            "max_runtime_secs int\n",
            "stopping_tolerance real\n",
            "max_after_balance_size int\n",
            "seed int\n",
            "tweedie_power real\n",
            "quantile_alpha real\n",
            "huber_alpha real\n",
            "epochs real\n",
            "train_samples_per_iteration int\n",
            "target_ratio_comm_to_comp real\n",
            "rho real\n",
            "epsilon real\n",
            "rate real\n",
            "rate_decay int\n",
            "momentum_start int\n",
            "momentum_ramp int\n",
            "momentum_stable int\n",
            "input_dropout_ratio real\n",
            "l1 int\n",
            "l2 int\n",
            "max_w2 real\n",
            "initial_weight_scale int\n",
            "score_interval int\n",
            "score_training_samples int\n",
            "score_validation_samples int\n",
            "score_duty_cycle real\n",
            "classification_stop int\n",
            "regression_stop real\n",
            "average_activation int\n",
            "sparsity_beta int\n",
            "max_categorical_features int\n",
            "elastic_averaging_regularization real\n"
          ],
          "name": "stdout"
        }
      ]
    },
    {
      "metadata": {
        "id": "V8z_IYvmqj7E",
        "colab_type": "code",
        "outputId": "cfd1a98e-be1b-49d1-f035-05dd0f11676a",
        "colab": {
          "base_uri": "https://localhost:8080/",
          "height": 578
        }
      },
      "cell_type": "code",
      "source": [
        "ranges"
      ],
      "execution_count": 0,
      "outputs": [
        {
          "output_type": "execute_result",
          "data": {
            "text/plain": [
              "[['stopping_rounds', [0.0, 0.0]],\n",
              " ['max_runtime_secs', [0.0, 0.0]],\n",
              " ['stopping_tolerance', [0.008098029, 0.008098029]],\n",
              " ['max_after_balance_size', [5.0, 5.0]],\n",
              " ['seed', [-9.09605e+18, 8.805764935126581e+18]],\n",
              " ['tweedie_power', [1.5, 1.5]],\n",
              " ['quantile_alpha', [0.5, 0.5]],\n",
              " ['huber_alpha', [0.9, 0.9]],\n",
              " ['epochs', [0.084333401, 31.10764099]],\n",
              " ['train_samples_per_iteration', [-2.0, -2.0]],\n",
              " ['target_ratio_comm_to_comp', [0.05, 0.05]],\n",
              " ['rho', [0.9, 0.99]],\n",
              " ['epsilon', [1e-06, 1e-06]],\n",
              " ['rate', [0.005, 0.005]],\n",
              " ['rate_decay', [1.0, 1.0]],\n",
              " ['momentum_start', [0.0, 0.0]],\n",
              " ['momentum_ramp', [1000000.0, 1000000.0]],\n",
              " ['momentum_stable', [0.0, 0.0]],\n",
              " ['input_dropout_ratio', [0.0, 0.2]],\n",
              " ['l1', [0.0, 0.0]],\n",
              " ['l2', [0.0, 0.0]],\n",
              " ['max_w2', [3.4e+38, 3.4e+38]],\n",
              " ['initial_weight_scale', [1.0, 1.0]],\n",
              " ['score_interval', [5.0, 5.0]],\n",
              " ['score_training_samples', [10000.0, 10000.0]],\n",
              " ['score_validation_samples', [0.0, 0.0]],\n",
              " ['score_duty_cycle', [0.1, 0.1]],\n",
              " ['classification_stop', [0.0, 0.0]],\n",
              " ['regression_stop', [1e-06, 1e-06]],\n",
              " ['average_activation', [0.0, 0.0]],\n",
              " ['sparsity_beta', [0.0, 0.0]],\n",
              " ['max_categorical_features', [2147483647.0, 2147483647.0]],\n",
              " ['elastic_averaging_regularization', [0.001, 0.001]]]"
            ]
          },
          "metadata": {
            "tags": []
          },
          "execution_count": 46
        }
      ]
    },
    {
      "metadata": {
        "id": "TNDfqe-H5OBo",
        "colab_type": "code",
        "colab": {}
      },
      "cell_type": "code",
      "source": [
        ""
      ],
      "execution_count": 0,
      "outputs": []
    },
    {
      "metadata": {
        "id": "5IGzI0uBWUTK",
        "colab_type": "text"
      },
      "cell_type": "markdown",
      "source": [
        "**For DRF:**importing csv files into the dataframe."
      ]
    },
    {
      "metadata": {
        "id": "iw6kIqdCwqZy",
        "colab_type": "code",
        "outputId": "66f740fc-ce00-46fb-8152-3d2b983573c3",
        "colab": {
          "base_uri": "https://localhost:8080/",
          "height": 34
        }
      },
      "cell_type": "code",
      "source": [
        "df_drf = h2o.import_file(\"DRF.csv\")"
      ],
      "execution_count": 0,
      "outputs": [
        {
          "output_type": "stream",
          "text": [
            "Parse progress: |█████████████████████████████████████████████████████████| 100%\n"
          ],
          "name": "stdout"
        }
      ]
    },
    {
      "metadata": {
        "id": "H4smU9NYwwAB",
        "colab_type": "code",
        "outputId": "27342659-f607-43c1-eeae-5992ec9e5f5b",
        "colab": {
          "base_uri": "https://localhost:8080/",
          "height": 270
        }
      },
      "cell_type": "code",
      "source": [
        "df_drf.head()"
      ],
      "execution_count": 0,
      "outputs": [
        {
          "output_type": "display_data",
          "data": {
            "text/html": [
              "<table>\n",
              "<thead>\n",
              "<tr><th>model_id                    </th><th style=\"text-align: right;\">  stopping_rounds</th><th style=\"text-align: right;\">  max_runtime_secs</th><th style=\"text-align: right;\">  stopping_tolerance</th><th style=\"text-align: right;\">  max_after_balance_size</th><th style=\"text-align: right;\">  ntrees</th><th style=\"text-align: right;\">  max_depth</th><th style=\"text-align: right;\">  min_rows</th><th style=\"text-align: right;\">  nbins</th><th style=\"text-align: right;\">  nbins_top_level</th><th style=\"text-align: right;\">  nbins_cats</th><th style=\"text-align: right;\">        seed</th><th style=\"text-align: right;\">  sample_rate</th><th style=\"text-align: right;\">  col_sample_rate_per_tree</th><th style=\"text-align: right;\">  col_sample_rate_change_per_level</th><th style=\"text-align: right;\">  min_split_improvement</th><th style=\"text-align: right;\">  mtries</th></tr>\n",
              "</thead>\n",
              "<tbody>\n",
              "<tr><td>DRF_1_AutoML_20190421_232600</td><td style=\"text-align: right;\">                0</td><td style=\"text-align: right;\">                 0</td><td style=\"text-align: right;\">          0.00809803</td><td style=\"text-align: right;\">                       5</td><td style=\"text-align: right;\">      50</td><td style=\"text-align: right;\">         20</td><td style=\"text-align: right;\">         1</td><td style=\"text-align: right;\">     20</td><td style=\"text-align: right;\">             1024</td><td style=\"text-align: right;\">        1024</td><td style=\"text-align: right;\"> 6.45958e+18</td><td style=\"text-align: right;\">        0.632</td><td style=\"text-align: right;\">                         1</td><td style=\"text-align: right;\">                                 1</td><td style=\"text-align: right;\">                  1e-05</td><td style=\"text-align: right;\">      -1</td></tr>\n",
              "<tr><td>DRF_1_AutoML_20190421_233433</td><td style=\"text-align: right;\">                0</td><td style=\"text-align: right;\">                 0</td><td style=\"text-align: right;\">          0.00809803</td><td style=\"text-align: right;\">                       5</td><td style=\"text-align: right;\">      50</td><td style=\"text-align: right;\">         20</td><td style=\"text-align: right;\">         1</td><td style=\"text-align: right;\">     20</td><td style=\"text-align: right;\">             1024</td><td style=\"text-align: right;\">        1024</td><td style=\"text-align: right;\"> 6.45958e+18</td><td style=\"text-align: right;\">        0.632</td><td style=\"text-align: right;\">                         1</td><td style=\"text-align: right;\">                                 1</td><td style=\"text-align: right;\">                  1e-05</td><td style=\"text-align: right;\">      -1</td></tr>\n",
              "<tr><td>DRF_1_AutoML_20190421_234613</td><td style=\"text-align: right;\">                0</td><td style=\"text-align: right;\">                 0</td><td style=\"text-align: right;\">          0.00809803</td><td style=\"text-align: right;\">                       5</td><td style=\"text-align: right;\">      50</td><td style=\"text-align: right;\">         20</td><td style=\"text-align: right;\">         1</td><td style=\"text-align: right;\">     20</td><td style=\"text-align: right;\">             1024</td><td style=\"text-align: right;\">        1024</td><td style=\"text-align: right;\"> 6.45958e+18</td><td style=\"text-align: right;\">        0.632</td><td style=\"text-align: right;\">                         1</td><td style=\"text-align: right;\">                                 1</td><td style=\"text-align: right;\">                  1e-05</td><td style=\"text-align: right;\">      -1</td></tr>\n",
              "<tr><td>DRF_1_AutoML_20190421_232600</td><td style=\"text-align: right;\">                0</td><td style=\"text-align: right;\">                 0</td><td style=\"text-align: right;\">          0.00809803</td><td style=\"text-align: right;\">                       5</td><td style=\"text-align: right;\">      50</td><td style=\"text-align: right;\">         20</td><td style=\"text-align: right;\">         1</td><td style=\"text-align: right;\">     20</td><td style=\"text-align: right;\">             1024</td><td style=\"text-align: right;\">        1024</td><td style=\"text-align: right;\"> 6.45958e+18</td><td style=\"text-align: right;\">        0.632</td><td style=\"text-align: right;\">                         1</td><td style=\"text-align: right;\">                                 1</td><td style=\"text-align: right;\">                  1e-05</td><td style=\"text-align: right;\">      -1</td></tr>\n",
              "<tr><td>DRF_1_AutoML_20190421_233433</td><td style=\"text-align: right;\">                0</td><td style=\"text-align: right;\">                 0</td><td style=\"text-align: right;\">          0.00809803</td><td style=\"text-align: right;\">                       5</td><td style=\"text-align: right;\">      50</td><td style=\"text-align: right;\">         20</td><td style=\"text-align: right;\">         1</td><td style=\"text-align: right;\">     20</td><td style=\"text-align: right;\">             1024</td><td style=\"text-align: right;\">        1024</td><td style=\"text-align: right;\"> 6.45958e+18</td><td style=\"text-align: right;\">        0.632</td><td style=\"text-align: right;\">                         1</td><td style=\"text-align: right;\">                                 1</td><td style=\"text-align: right;\">                  1e-05</td><td style=\"text-align: right;\">      -1</td></tr>\n",
              "<tr><td>DRF_1_AutoML_20190421_234613</td><td style=\"text-align: right;\">                0</td><td style=\"text-align: right;\">                 0</td><td style=\"text-align: right;\">          0.00809803</td><td style=\"text-align: right;\">                       5</td><td style=\"text-align: right;\">      50</td><td style=\"text-align: right;\">         20</td><td style=\"text-align: right;\">         1</td><td style=\"text-align: right;\">     20</td><td style=\"text-align: right;\">             1024</td><td style=\"text-align: right;\">        1024</td><td style=\"text-align: right;\"> 7.5491e+18 </td><td style=\"text-align: right;\">        0.632</td><td style=\"text-align: right;\">                         1</td><td style=\"text-align: right;\">                                 1</td><td style=\"text-align: right;\">                  1e-05</td><td style=\"text-align: right;\">      -1</td></tr>\n",
              "<tr><td>DRF_1_AutoML_20190422_000108</td><td style=\"text-align: right;\">                0</td><td style=\"text-align: right;\">                 0</td><td style=\"text-align: right;\">          0.00809803</td><td style=\"text-align: right;\">                       5</td><td style=\"text-align: right;\">      50</td><td style=\"text-align: right;\">         20</td><td style=\"text-align: right;\">         1</td><td style=\"text-align: right;\">     20</td><td style=\"text-align: right;\">             1024</td><td style=\"text-align: right;\">        1024</td><td style=\"text-align: right;\"> 7.5491e+18 </td><td style=\"text-align: right;\">        0.632</td><td style=\"text-align: right;\">                         1</td><td style=\"text-align: right;\">                                 1</td><td style=\"text-align: right;\">                  1e-05</td><td style=\"text-align: right;\">      -1</td></tr>\n",
              "<tr><td>DRF_1_AutoML_20190421_232600</td><td style=\"text-align: right;\">                0</td><td style=\"text-align: right;\">                 0</td><td style=\"text-align: right;\">          0.00809803</td><td style=\"text-align: right;\">                       5</td><td style=\"text-align: right;\">      50</td><td style=\"text-align: right;\">         20</td><td style=\"text-align: right;\">         1</td><td style=\"text-align: right;\">     20</td><td style=\"text-align: right;\">             1024</td><td style=\"text-align: right;\">        1024</td><td style=\"text-align: right;\"> 7.5491e+18 </td><td style=\"text-align: right;\">        0.632</td><td style=\"text-align: right;\">                         1</td><td style=\"text-align: right;\">                                 1</td><td style=\"text-align: right;\">                  1e-05</td><td style=\"text-align: right;\">      -1</td></tr>\n",
              "<tr><td>DRF_1_AutoML_20190421_232600</td><td style=\"text-align: right;\">                0</td><td style=\"text-align: right;\">                 0</td><td style=\"text-align: right;\">          0.00809803</td><td style=\"text-align: right;\">                       5</td><td style=\"text-align: right;\">      50</td><td style=\"text-align: right;\">         20</td><td style=\"text-align: right;\">         1</td><td style=\"text-align: right;\">     20</td><td style=\"text-align: right;\">             1024</td><td style=\"text-align: right;\">        1024</td><td style=\"text-align: right;\"> 7.5491e+18 </td><td style=\"text-align: right;\">        0.632</td><td style=\"text-align: right;\">                         1</td><td style=\"text-align: right;\">                                 1</td><td style=\"text-align: right;\">                  1e-05</td><td style=\"text-align: right;\">      -1</td></tr>\n",
              "<tr><td>DRF_1_AutoML_20190421_233433</td><td style=\"text-align: right;\">                0</td><td style=\"text-align: right;\">                 0</td><td style=\"text-align: right;\">          0.00809803</td><td style=\"text-align: right;\">                       5</td><td style=\"text-align: right;\">      41</td><td style=\"text-align: right;\">         20</td><td style=\"text-align: right;\">         1</td><td style=\"text-align: right;\">     20</td><td style=\"text-align: right;\">             1024</td><td style=\"text-align: right;\">        1024</td><td style=\"text-align: right;\">-9.12e+18   </td><td style=\"text-align: right;\">        0.632</td><td style=\"text-align: right;\">                         1</td><td style=\"text-align: right;\">                                 1</td><td style=\"text-align: right;\">                  1e-05</td><td style=\"text-align: right;\">      -1</td></tr>\n",
              "</tbody>\n",
              "</table>"
            ]
          },
          "metadata": {
            "tags": []
          }
        },
        {
          "output_type": "execute_result",
          "data": {
            "text/plain": [
              ""
            ]
          },
          "metadata": {
            "tags": []
          },
          "execution_count": 35
        }
      ]
    },
    {
      "metadata": {
        "id": "hIL4Pjedwza5",
        "colab_type": "code",
        "outputId": "797ef455-c25d-4b56-d112-074b3037eba6",
        "colab": {
          "base_uri": "https://localhost:8080/",
          "height": 306
        }
      },
      "cell_type": "code",
      "source": [
        "ranges = []\n",
        "for key,val in df_drf.types.items():\n",
        "   print(key,val)\n",
        "   if val == 'int':\n",
        "        ranges.append([key,[df_drf[key].min(),df_drf[key].max()]])\n",
        "   if val == 'real':\n",
        "        ranges.append([key,[df_drf[key].min(),df_drf[key].max()]])"
      ],
      "execution_count": 0,
      "outputs": [
        {
          "output_type": "stream",
          "text": [
            "model_id enum\n",
            "stopping_rounds int\n",
            "max_runtime_secs int\n",
            "stopping_tolerance real\n",
            "max_after_balance_size int\n",
            "ntrees int\n",
            "max_depth int\n",
            "min_rows int\n",
            "nbins int\n",
            "nbins_top_level int\n",
            "nbins_cats int\n",
            "seed int\n",
            "sample_rate real\n",
            "col_sample_rate_per_tree int\n",
            "col_sample_rate_change_per_level int\n",
            "min_split_improvement real\n",
            "mtries int\n"
          ],
          "name": "stdout"
        }
      ]
    },
    {
      "metadata": {
        "id": "0yMVsiAGw6vh",
        "colab_type": "code",
        "outputId": "f99a0e6b-3423-4e47-e863-80b3a8fec2b9",
        "colab": {
          "base_uri": "https://localhost:8080/",
          "height": 289
        }
      },
      "cell_type": "code",
      "source": [
        "ranges"
      ],
      "execution_count": 0,
      "outputs": [
        {
          "output_type": "execute_result",
          "data": {
            "text/plain": [
              "[['stopping_rounds', [0.0, 0.0]],\n",
              " ['max_runtime_secs', [0.0, 0.0]],\n",
              " ['stopping_tolerance', [0.008098029, 0.008098029]],\n",
              " ['max_after_balance_size', [5.0, 5.0]],\n",
              " ['ntrees', [41.0, 50.0]],\n",
              " ['max_depth', [20.0, 20.0]],\n",
              " ['min_rows', [1.0, 1.0]],\n",
              " ['nbins', [20.0, 20.0]],\n",
              " ['nbins_top_level', [1024.0, 1024.0]],\n",
              " ['nbins_cats', [1024.0, 1024.0]],\n",
              " ['seed', [-9.12e+18, 7.549101339683506e+18]],\n",
              " ['sample_rate', [0.632000029, 0.632000029]],\n",
              " ['col_sample_rate_per_tree', [1.0, 1.0]],\n",
              " ['col_sample_rate_change_per_level', [1.0, 1.0]],\n",
              " ['min_split_improvement', [1e-05, 1e-05]],\n",
              " ['mtries', [-1.0, -1.0]]]"
            ]
          },
          "metadata": {
            "tags": []
          },
          "execution_count": 37
        }
      ]
    },
    {
      "metadata": {
        "id": "JTDbW4lcWbls",
        "colab_type": "text"
      },
      "cell_type": "markdown",
      "source": [
        "**For GLM:**importing csv files into the dataframe."
      ]
    },
    {
      "metadata": {
        "id": "3eNdrcBGzRvZ",
        "colab_type": "code",
        "outputId": "7c161471-cb37-4b08-dbb9-74edf0668fa1",
        "colab": {
          "base_uri": "https://localhost:8080/",
          "height": 34
        }
      },
      "cell_type": "code",
      "source": [
        "df_glm = h2o.import_file(\"GLM.csv\")"
      ],
      "execution_count": 0,
      "outputs": [
        {
          "output_type": "stream",
          "text": [
            "Parse progress: |█████████████████████████████████████████████████████████| 100%\n"
          ],
          "name": "stdout"
        }
      ]
    },
    {
      "metadata": {
        "id": "ue2FtZg3zWMW",
        "colab_type": "code",
        "outputId": "639b42b5-4178-41e1-a560-03a027923eaa",
        "colab": {
          "base_uri": "https://localhost:8080/",
          "height": 270
        }
      },
      "cell_type": "code",
      "source": [
        "df_glm.head()"
      ],
      "execution_count": 0,
      "outputs": [
        {
          "output_type": "display_data",
          "data": {
            "text/html": [
              "<table>\n",
              "<thead>\n",
              "<tr><th>model_id                                 </th><th style=\"text-align: right;\">  max_runtime_secs</th><th style=\"text-align: right;\">  max_after_balance_size</th><th style=\"text-align: right;\">       seed</th><th style=\"text-align: right;\">  max_iterations</th><th style=\"text-align: right;\">  tweedie_variance_power</th><th style=\"text-align: right;\">  tweedie_link_power</th></tr>\n",
              "</thead>\n",
              "<tbody>\n",
              "<tr><td>GLM_grid_1_AutoML_20190421_232600_model_1</td><td style=\"text-align: right;\">                 0</td><td style=\"text-align: right;\">                       5</td><td style=\"text-align: right;\">6.56e+17   </td><td style=\"text-align: right;\">             300</td><td style=\"text-align: right;\">                       0</td><td style=\"text-align: right;\">                   1</td></tr>\n",
              "<tr><td>GLM_grid_1_AutoML_20190421_232600_model_1</td><td style=\"text-align: right;\">                 0</td><td style=\"text-align: right;\">                       5</td><td style=\"text-align: right;\">6.56e+17   </td><td style=\"text-align: right;\">             300</td><td style=\"text-align: right;\">                       0</td><td style=\"text-align: right;\">                   1</td></tr>\n",
              "<tr><td>GLM_grid_1_AutoML_20190421_232600_model_1</td><td style=\"text-align: right;\">                 0</td><td style=\"text-align: right;\">                       5</td><td style=\"text-align: right;\">6.56e+17   </td><td style=\"text-align: right;\">             300</td><td style=\"text-align: right;\">                       0</td><td style=\"text-align: right;\">                   1</td></tr>\n",
              "<tr><td>GLM_grid_1_AutoML_20190421_232600_model_1</td><td style=\"text-align: right;\">                 0</td><td style=\"text-align: right;\">                       5</td><td style=\"text-align: right;\">6.56e+17   </td><td style=\"text-align: right;\">             300</td><td style=\"text-align: right;\">                       0</td><td style=\"text-align: right;\">                   1</td></tr>\n",
              "<tr><td>GLM_grid_1_AutoML_20190421_232600_model_1</td><td style=\"text-align: right;\">                 0</td><td style=\"text-align: right;\">                       5</td><td style=\"text-align: right;\">6.56e+17   </td><td style=\"text-align: right;\">             300</td><td style=\"text-align: right;\">                       0</td><td style=\"text-align: right;\">                   1</td></tr>\n",
              "<tr><td>GLM_grid_1_AutoML_20190421_233433_model_1</td><td style=\"text-align: right;\">                 0</td><td style=\"text-align: right;\">                       5</td><td style=\"text-align: right;\">6.23814e+17</td><td style=\"text-align: right;\">             300</td><td style=\"text-align: right;\">                       0</td><td style=\"text-align: right;\">                   1</td></tr>\n",
              "<tr><td>GLM_grid_1_AutoML_20190421_233433_model_1</td><td style=\"text-align: right;\">                 0</td><td style=\"text-align: right;\">                       5</td><td style=\"text-align: right;\">6.23814e+17</td><td style=\"text-align: right;\">             300</td><td style=\"text-align: right;\">                       0</td><td style=\"text-align: right;\">                   1</td></tr>\n",
              "<tr><td>GLM_grid_1_AutoML_20190421_233433_model_1</td><td style=\"text-align: right;\">                 0</td><td style=\"text-align: right;\">                       5</td><td style=\"text-align: right;\">6.23814e+17</td><td style=\"text-align: right;\">             300</td><td style=\"text-align: right;\">                       0</td><td style=\"text-align: right;\">                   1</td></tr>\n",
              "<tr><td>GLM_grid_1_AutoML_20190421_233433_model_1</td><td style=\"text-align: right;\">                 0</td><td style=\"text-align: right;\">                       5</td><td style=\"text-align: right;\">6.23814e+17</td><td style=\"text-align: right;\">             300</td><td style=\"text-align: right;\">                       0</td><td style=\"text-align: right;\">                   1</td></tr>\n",
              "<tr><td>GLM_grid_1_AutoML_20190421_233433_model_1</td><td style=\"text-align: right;\">                 0</td><td style=\"text-align: right;\">                       5</td><td style=\"text-align: right;\">1.92983e+18</td><td style=\"text-align: right;\">             300</td><td style=\"text-align: right;\">                       0</td><td style=\"text-align: right;\">                   1</td></tr>\n",
              "</tbody>\n",
              "</table>"
            ]
          },
          "metadata": {
            "tags": []
          }
        },
        {
          "output_type": "execute_result",
          "data": {
            "text/plain": [
              ""
            ]
          },
          "metadata": {
            "tags": []
          },
          "execution_count": 40
        }
      ]
    },
    {
      "metadata": {
        "id": "ejNj5vvRzecu",
        "colab_type": "code",
        "outputId": "d8830685-6581-40b7-df1c-f90abd6067d9",
        "colab": {
          "base_uri": "https://localhost:8080/",
          "height": 136
        }
      },
      "cell_type": "code",
      "source": [
        "ranges = []\n",
        "for key,val in df_glm.types.items():\n",
        "   print(key,val)\n",
        "   if val == 'int':\n",
        "        ranges.append([key,[df_glm[key].min(),df_glm[key].max()]])\n",
        "   if val == 'real':\n",
        "        ranges.append([key,[df_glm[key].min(),df_glm[key].max()]])"
      ],
      "execution_count": 0,
      "outputs": [
        {
          "output_type": "stream",
          "text": [
            "model_id enum\n",
            "max_runtime_secs int\n",
            "max_after_balance_size int\n",
            "seed int\n",
            "max_iterations int\n",
            "tweedie_variance_power int\n",
            "tweedie_link_power int\n"
          ],
          "name": "stdout"
        }
      ]
    },
    {
      "metadata": {
        "id": "upzxsVuWzmGh",
        "colab_type": "code",
        "outputId": "eb71dc63-8ccc-4d9f-aa4c-ea68e5237ec9",
        "colab": {
          "base_uri": "https://localhost:8080/",
          "height": 119
        }
      },
      "cell_type": "code",
      "source": [
        "ranges"
      ],
      "execution_count": 0,
      "outputs": [
        {
          "output_type": "execute_result",
          "data": {
            "text/plain": [
              "[['max_runtime_secs', [0.0, 0.0]],\n",
              " ['max_after_balance_size', [5.0, 5.0]],\n",
              " ['seed', [-8.93342e+18, 1.929825150468839e+18]],\n",
              " ['max_iterations', [300.0, 300.0]],\n",
              " ['tweedie_variance_power', [0.0, 0.0]],\n",
              " ['tweedie_link_power', [1.0, 1.0]]]"
            ]
          },
          "metadata": {
            "tags": []
          },
          "execution_count": 42
        }
      ]
    },
    {
      "metadata": {
        "id": "ndzrG8yHWfFZ",
        "colab_type": "text"
      },
      "cell_type": "markdown",
      "source": [
        "**For GBM:**importing csv files into the dataframe."
      ]
    },
    {
      "metadata": {
        "id": "vkN56ZDX8h6f",
        "colab_type": "code",
        "outputId": "401f6c81-5021-417a-d7c1-422ac5e84116",
        "colab": {
          "base_uri": "https://localhost:8080/",
          "height": 34
        }
      },
      "cell_type": "code",
      "source": [
        "# Load data into H2O\n",
        "df2 = h2o.import_file(\"bottle 2.csv\")"
      ],
      "execution_count": 63,
      "outputs": [
        {
          "output_type": "stream",
          "text": [
            "Parse progress: |█████████████████████████████████████████████████████████| 100%\n"
          ],
          "name": "stdout"
        }
      ]
    },
    {
      "metadata": {
        "id": "lXia_As99yjh",
        "colab_type": "code",
        "colab": {}
      },
      "cell_type": "code",
      "source": [
        "target ='T_degC'"
      ],
      "execution_count": 0,
      "outputs": []
    },
    {
      "metadata": {
        "id": "vld5YwRM9zJg",
        "colab_type": "code",
        "outputId": "1f906eb2-7b7a-456e-c978-d5fcfcfbc9c0",
        "colab": {
          "base_uri": "https://localhost:8080/",
          "height": 71
        }
      },
      "cell_type": "code",
      "source": [
        "# assign target and inputs for logistic regression\n",
        "y = target\n",
        "X = [name for name in df2.columns if name != y]\n",
        "print(y)\n",
        "print(X)"
      ],
      "execution_count": 70,
      "outputs": [
        {
          "output_type": "stream",
          "text": [
            "T_degC\n",
            "['Cst_Cnt', 'Btl_Cnt', 'Sta_ID', 'Depth_ID', 'Depthm', 'Salnty', 'O2ml_L', 'STheta', 'O2Sat', 'Oxy_µmol/Kg', 'BtlNum', 'RecInd', 'T_prec', 'T_qual', 'S_prec', 'S_qual', 'P_qual', 'O_qual', 'SThtaq', 'O2Satq', 'ChlorA', 'Chlqua', 'Phaeop', 'Phaqua', 'PO4uM', 'PO4q', 'SiO3uM', 'SiO3qu', 'NO2uM', 'NO2q', 'NO3uM', 'NO3q', 'NH3uM', 'NH3q', 'C14As1', 'C14A1p', 'C14A1q', 'C14As2', 'C14A2p', 'C14A2q', 'DarkAs', 'DarkAp', 'DarkAq', 'MeanAs', 'MeanAp', 'MeanAq', 'IncTim', 'LightP', 'R_Depth', 'R_TEMP', 'R_POTEMP', 'R_SALINITY', 'R_SIGMA', 'R_SVA', 'R_DYNHT', 'R_O2', 'R_O2Sat', 'R_SIO3', 'R_PO4', 'R_NO3', 'R_NO2', 'R_NH4', 'R_CHLA', 'R_PHAEO', 'R_PRES', 'R_SAMP', 'DIC1', 'DIC2', 'TA1', 'TA2', 'pH2', 'pH1', 'DIC Quality Comment']\n"
          ],
          "name": "stdout"
        }
      ]
    },
    {
      "metadata": {
        "id": "CTrQcyDcZ91S",
        "colab_type": "code",
        "colab": {
          "base_uri": "https://localhost:8080/",
          "height": 198
        },
        "outputId": "c738cb42-ae09-438d-a743-0905a08e7239"
      },
      "cell_type": "code",
      "source": [
        "from sklearn import linear_model\n",
        "\n",
        "clf = linear_model.LinearRegression()\n",
        "clf.fit(X.reshape(-1,1),y)"
      ],
      "execution_count": 77,
      "outputs": [
        {
          "output_type": "error",
          "ename": "AttributeError",
          "evalue": "ignored",
          "traceback": [
            "\u001b[0;31m---------------------------------------------------------------------------\u001b[0m",
            "\u001b[0;31mAttributeError\u001b[0m                            Traceback (most recent call last)",
            "\u001b[0;32m<ipython-input-77-f04296a440db>\u001b[0m in \u001b[0;36m<module>\u001b[0;34m()\u001b[0m\n\u001b[1;32m      2\u001b[0m \u001b[0;34m\u001b[0m\u001b[0m\n\u001b[1;32m      3\u001b[0m \u001b[0mclf\u001b[0m \u001b[0;34m=\u001b[0m \u001b[0mlinear_model\u001b[0m\u001b[0;34m.\u001b[0m\u001b[0mLinearRegression\u001b[0m\u001b[0;34m(\u001b[0m\u001b[0;34m)\u001b[0m\u001b[0;34m\u001b[0m\u001b[0;34m\u001b[0m\u001b[0m\n\u001b[0;32m----> 4\u001b[0;31m \u001b[0mclf\u001b[0m\u001b[0;34m.\u001b[0m\u001b[0mfit\u001b[0m\u001b[0;34m(\u001b[0m\u001b[0mX\u001b[0m\u001b[0;34m.\u001b[0m\u001b[0mreshape\u001b[0m\u001b[0;34m(\u001b[0m\u001b[0;34m-\u001b[0m\u001b[0;36m1\u001b[0m\u001b[0;34m,\u001b[0m\u001b[0;36m1\u001b[0m\u001b[0;34m)\u001b[0m\u001b[0;34m,\u001b[0m\u001b[0my\u001b[0m\u001b[0;34m)\u001b[0m\u001b[0;34m\u001b[0m\u001b[0;34m\u001b[0m\u001b[0m\n\u001b[0m",
            "\u001b[0;31mAttributeError\u001b[0m: 'list' object has no attribute 'reshape'"
          ]
        }
      ]
    },
    {
      "metadata": {
        "id": "UEWv9N615Pcn",
        "colab_type": "code",
        "outputId": "0a61ffed-c3c8-409f-b608-3540ae0a9387",
        "colab": {
          "base_uri": "https://localhost:8080/",
          "height": 341
        }
      },
      "cell_type": "code",
      "source": [
        "from sklearn.ensemble import GradientBoostingRegressor\n",
        "from sklearn.model_selection import GridSearchCV\n",
        "import xgboost as xgb\n",
        "# Create the parameter grid based on the results of random search\n",
        "param_grid = {\n",
        "   'max_runtime_secs': [5.0, 5.0],\n",
        " 'max_after_balance_size': [0.0, 0.0],\n",
        " 'seed': [-8.27849e+18, 7.83787362635869e+18]\n",
        "\n",
        "}\n",
        "# Create a based model\n",
        "rgs = GradientBoostingRegressor()\n",
        "# Instantiate the grid search model\n",
        "gbm = GridSearchCV(estimator = rgs, param_grid = param_grid,\n",
        "                         cv = 3, n_jobs = -1, verbose = 2)\n",
        "\n",
        "res = gbm.fit(X,y)"
      ],
      "execution_count": 78,
      "outputs": [
        {
          "output_type": "error",
          "ename": "ValueError",
          "evalue": "ignored",
          "traceback": [
            "\u001b[0;31m---------------------------------------------------------------------------\u001b[0m",
            "\u001b[0;31mValueError\u001b[0m                                Traceback (most recent call last)",
            "\u001b[0;32m<ipython-input-78-af917251bf25>\u001b[0m in \u001b[0;36m<module>\u001b[0;34m()\u001b[0m\n\u001b[1;32m     15\u001b[0m                          cv = 3, n_jobs = -1, verbose = 2)\n\u001b[1;32m     16\u001b[0m \u001b[0;34m\u001b[0m\u001b[0m\n\u001b[0;32m---> 17\u001b[0;31m \u001b[0mres\u001b[0m \u001b[0;34m=\u001b[0m \u001b[0mgbm\u001b[0m\u001b[0;34m.\u001b[0m\u001b[0mfit\u001b[0m\u001b[0;34m(\u001b[0m\u001b[0mX\u001b[0m\u001b[0;34m,\u001b[0m\u001b[0my\u001b[0m\u001b[0;34m)\u001b[0m\u001b[0;34m\u001b[0m\u001b[0;34m\u001b[0m\u001b[0m\n\u001b[0m",
            "\u001b[0;32m/usr/local/lib/python3.6/dist-packages/sklearn/model_selection/_search.py\u001b[0m in \u001b[0;36mfit\u001b[0;34m(self, X, y, groups, **fit_params)\u001b[0m\n\u001b[1;32m    672\u001b[0m             \u001b[0mrefit_metric\u001b[0m \u001b[0;34m=\u001b[0m \u001b[0;34m'score'\u001b[0m\u001b[0;34m\u001b[0m\u001b[0;34m\u001b[0m\u001b[0m\n\u001b[1;32m    673\u001b[0m \u001b[0;34m\u001b[0m\u001b[0m\n\u001b[0;32m--> 674\u001b[0;31m         \u001b[0mX\u001b[0m\u001b[0;34m,\u001b[0m \u001b[0my\u001b[0m\u001b[0;34m,\u001b[0m \u001b[0mgroups\u001b[0m \u001b[0;34m=\u001b[0m \u001b[0mindexable\u001b[0m\u001b[0;34m(\u001b[0m\u001b[0mX\u001b[0m\u001b[0;34m,\u001b[0m \u001b[0my\u001b[0m\u001b[0;34m,\u001b[0m \u001b[0mgroups\u001b[0m\u001b[0;34m)\u001b[0m\u001b[0;34m\u001b[0m\u001b[0;34m\u001b[0m\u001b[0m\n\u001b[0m\u001b[1;32m    675\u001b[0m         \u001b[0mn_splits\u001b[0m \u001b[0;34m=\u001b[0m \u001b[0mcv\u001b[0m\u001b[0;34m.\u001b[0m\u001b[0mget_n_splits\u001b[0m\u001b[0;34m(\u001b[0m\u001b[0mX\u001b[0m\u001b[0;34m,\u001b[0m \u001b[0my\u001b[0m\u001b[0;34m,\u001b[0m \u001b[0mgroups\u001b[0m\u001b[0;34m)\u001b[0m\u001b[0;34m\u001b[0m\u001b[0;34m\u001b[0m\u001b[0m\n\u001b[1;32m    676\u001b[0m \u001b[0;34m\u001b[0m\u001b[0m\n",
            "\u001b[0;32m/usr/local/lib/python3.6/dist-packages/sklearn/utils/validation.py\u001b[0m in \u001b[0;36mindexable\u001b[0;34m(*iterables)\u001b[0m\n\u001b[1;32m    258\u001b[0m         \u001b[0;32melse\u001b[0m\u001b[0;34m:\u001b[0m\u001b[0;34m\u001b[0m\u001b[0;34m\u001b[0m\u001b[0m\n\u001b[1;32m    259\u001b[0m             \u001b[0mresult\u001b[0m\u001b[0;34m.\u001b[0m\u001b[0mappend\u001b[0m\u001b[0;34m(\u001b[0m\u001b[0mnp\u001b[0m\u001b[0;34m.\u001b[0m\u001b[0marray\u001b[0m\u001b[0;34m(\u001b[0m\u001b[0mX\u001b[0m\u001b[0;34m)\u001b[0m\u001b[0;34m)\u001b[0m\u001b[0;34m\u001b[0m\u001b[0;34m\u001b[0m\u001b[0m\n\u001b[0;32m--> 260\u001b[0;31m     \u001b[0mcheck_consistent_length\u001b[0m\u001b[0;34m(\u001b[0m\u001b[0;34m*\u001b[0m\u001b[0mresult\u001b[0m\u001b[0;34m)\u001b[0m\u001b[0;34m\u001b[0m\u001b[0;34m\u001b[0m\u001b[0m\n\u001b[0m\u001b[1;32m    261\u001b[0m     \u001b[0;32mreturn\u001b[0m \u001b[0mresult\u001b[0m\u001b[0;34m\u001b[0m\u001b[0;34m\u001b[0m\u001b[0m\n\u001b[1;32m    262\u001b[0m \u001b[0;34m\u001b[0m\u001b[0m\n",
            "\u001b[0;32m/usr/local/lib/python3.6/dist-packages/sklearn/utils/validation.py\u001b[0m in \u001b[0;36mcheck_consistent_length\u001b[0;34m(*arrays)\u001b[0m\n\u001b[1;32m    233\u001b[0m     \u001b[0;32mif\u001b[0m \u001b[0mlen\u001b[0m\u001b[0;34m(\u001b[0m\u001b[0muniques\u001b[0m\u001b[0;34m)\u001b[0m \u001b[0;34m>\u001b[0m \u001b[0;36m1\u001b[0m\u001b[0;34m:\u001b[0m\u001b[0;34m\u001b[0m\u001b[0;34m\u001b[0m\u001b[0m\n\u001b[1;32m    234\u001b[0m         raise ValueError(\"Found input variables with inconsistent numbers of\"\n\u001b[0;32m--> 235\u001b[0;31m                          \" samples: %r\" % [int(l) for l in lengths])\n\u001b[0m\u001b[1;32m    236\u001b[0m \u001b[0;34m\u001b[0m\u001b[0m\n\u001b[1;32m    237\u001b[0m \u001b[0;34m\u001b[0m\u001b[0m\n",
            "\u001b[0;31mValueError\u001b[0m: Found input variables with inconsistent numbers of samples: [73, 6]"
          ]
        }
      ]
    },
    {
      "metadata": {
        "id": "gnGjxVVcbmuS",
        "colab_type": "text"
      },
      "cell_type": "markdown",
      "source": [
        ""
      ]
    },
    {
      "metadata": {
        "id": "0uVsuhUZbnZd",
        "colab_type": "code",
        "colab": {}
      },
      "cell_type": "code",
      "source": [
        "\n",
        "LinearRegression(copy_x=True, fit_intercept=True, n_jobs=1, normalize=False )"
      ],
      "execution_count": 0,
      "outputs": []
    }
  ]
}